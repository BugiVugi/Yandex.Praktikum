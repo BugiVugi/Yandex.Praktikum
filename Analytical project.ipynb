{
 "cells": [
  {
   "cell_type": "markdown",
   "metadata": {},
   "source": [
    "<div class=\"alert alert-success\">\n",
    "<font size=\"5\"><b>Комментарий ревьюера 2</b></font>\n",
    "\n",
    "Привет еще раз. Спасибо, что доделал работу. Оформление комментариев по работе сохраняется. Только обозначим, что это вторая итерация. \n",
    "\n",
    "</div>"
   ]
  },
  {
   "cell_type": "markdown",
   "metadata": {},
   "source": [
    "<div class=\"alert alert-success\">\n",
    "<font size=\"5\"><b>Комментарий ревьюера</b></font>\n",
    "\n",
    "Привет! Спасибо, что исправил задание:) Ты проделал большую работу над проектом, однако его еще можно улучшить. Будет здорово, если ты, надеюсь, не против, если я буду на ты, будешь отвечать на комментарии и участвовать в диалоге. \n",
    "\n",
    "Мои комментарии обозначены пометкой **Комментарий ревьюера**. Далее в файле ты сможешь найти их в похожих ячейках (если фон комментария <font color=green>зелёный</font> - всё сделано правильно. Рекомендации укажу таким же цветом; <font color=orange>оранжевый</font> - некритичные замечания. Если таких замечаний меньше трех - проект может быть принят без их отработки; <font color=red>красный</font> - нужно переделать). Не удаляй эти комментарии и постарайся учесть их в ходе выполнения данного проекта. \n",
    "</div>"
   ]
  },
  {
   "cell_type": "markdown",
   "metadata": {},
   "source": [
    "<div class=\"alert alert-success\">\n",
    "<font size=\"5\"><b>Комментарий ревьюера 0</b></font>\n",
    "\n",
    "Привет, Виктор! Спасибо, что прислал задание:) Меня зовут Слепцов Артем и я буду проверять твой проект) К сожалению, я не могу запустить твой проект полностью из-за ошибки в коде. Пожалуйста, посмотри, что пошло не так. По поводу твоих вопросов ниже, ты все сделал правильно. Расчет среднего периода жизни произведен. По поводу \"Определите, данные за какой период нужно взять, чтобы исключить значимое искажение распределения по платформам в 2016 году.\" - это про выделение актуального периода в данных. Ты это также сделал. Исправь помарку в коде и присылай проект снова. Буду ждать :)\n",
    "</div>"
   ]
  },
  {
   "cell_type": "markdown",
   "metadata": {},
   "source": [
    "Привет, Артем!\n",
    "Все исправил, видимо случайно удалил ячейку перед отправкой, прошелся ещё раз по коду - больше ошибок нету :)\n",
    "\n",
    "А что имелось в виду под \"значимое искажение распределения по платформам в 2016 году\", это явный недобор в данных (судя по графикам) или что-то другое? Просто я искал перекос в сторону какой-то платформы или группы платформ и не нашел его в явном виде."
   ]
  },
  {
   "cell_type": "markdown",
   "metadata": {},
   "source": [
    "<div class=\"alert alert-success\">\n",
    "<font size=\"5\"><b>Комментарий ревьюера</b></font>\n",
    "\n",
    "Согласись, если мы будем строить прогноз на 2017 год по 1980-ым годам, то результат нашего анализа и прогноза будет искажен. Поэтому тут и говорится о том, что надо выделить такой период, который поможет нам проанализировать именно последний период развития индустрии без внесения искажения от прошлых периодов. \n",
    "</div>"
   ]
  },
  {
   "cell_type": "markdown",
   "metadata": {},
   "source": [
    "# Аналитический проект для интернет-магазина «Стримчик»"
   ]
  },
  {
   "cell_type": "markdown",
   "metadata": {},
   "source": [
    "Вы работаете в интернет-магазине «Стримчик», который продаёт по всему миру компьютерные игры. Из открытых источников доступны исторические данные о продажах игр, оценки пользователей и экспертов, жанры и платформы (например, Xbox или PlayStation). Вам нужно выявить определяющие успешность игры закономерности. Это позволит сделать ставку на потенциально популярный продукт и спланировать рекламные кампании.\n",
    "\n",
    "Перед вами данные до 2016 года. Представим, что сейчас декабрь 2016 г., и вы планируете кампанию на 2017-й. Нужно отработать принцип работы с данными. Не важно, прогнозируете ли вы продажи на 2017 год по данным 2016-го или же 2027-й — по данным 2026 года.\n",
    "\n",
    "Описание данных games.csv\n",
    "\n",
    "Name — название игры\n",
    "\n",
    "Platform — платформа\n",
    "\n",
    "Year_of_Release — год выпуска\n",
    "\n",
    "Genre — жанр игры\n",
    "\n",
    "NA_sales — продажи в Северной Америке (миллионы долларов)\n",
    "\n",
    "EU_sales — продажи в Европе (миллионы долларов)\n",
    "\n",
    "JP_sales — продажи в Японии (миллионы долларов)\n",
    "\n",
    "Other_sales — продажи в других странах (миллионы долларов)\n",
    "\n",
    "Critic_Score — оценка критиков (от 0 до 100)\n",
    "\n",
    "User_Score — оценка пользователей (от 0 до 10)\n",
    "\n",
    "Rating — рейтинг от организации ESRB (англ. Entertainment Software Rating Board). Эта \n",
    "ассоциация определяет рейтинг компьютерных игр и присваивает им подходящую возрастную категорию.\n",
    "\n",
    "Данные за 2016 год могут быть неполными."
   ]
  },
  {
   "cell_type": "markdown",
   "metadata": {},
   "source": [
    "<div class=\"alert alert-success\">\n",
    "<font size=\"5\"><b>Комментарий ревьюера 2</b></font>\n",
    "\n",
    "Вступление в работу очень важно. Так ты поясняешь то, чему она посвящена. Цель работы также хорошо бы вынести в отдельный блок вступления. Еще лучше будет, если ты сделаешь план работы с гиперссылками. Да, есть плагин ToC. Но хорошо бы уметь реализовывать интерактивный план проекта вручную. Как это реализовать - смотри по [ссылке](https://stackoverflow.com/questions/49535664/how-to-hyperlink-in-a-jupyter-notebook/49717704).\n",
    "\n",
    "</div>"
   ]
  },
  {
   "cell_type": "markdown",
   "metadata": {},
   "source": [
    "# План работы: <a id='contents'></a>\n"
   ]
  },
  {
   "cell_type": "markdown",
   "metadata": {},
   "source": [
    "[Шаг 2.Откройте файл с данными и изучите общую информацию](#step2)\n",
    "\n",
    "[Шаг 3.Подготовьте данные](#step3)\n",
    " - Замените названия столбцов (приведите к нижнему регистру);\n",
    " - Преобразуйте данные в нужные типы. Опишите, в каких столбцах заменили тип данных и почему;\n",
    " - Обработайте пропуски при необходимости:\n",
    "     - Объясните, почему заполнили пропуски определённым образом или почему не стали это делать;\n",
    "     - Опишите причины, которые могли привести к пропускам;\n",
    "     - Обратите внимание на аббревиатуру 'tbd' в столбцах с рейтингом. Поясните, как обработать это значение.\n",
    " - Посчитайте суммарные продажи во всех регионах и запишите их в отдельный столбец.\n",
    " \n",
    "[Шаг 4. Проведите исследовательский анализ данных](#step4)\n",
    " - Посмотрите, сколько игр выпускалось в разные годы. Важны ли данные за все периоды?\n",
    " - Посмотрите, как менялись продажи по платформам. Выберите платформы с наибольшими суммарными продажами и постройте распределение по годам. Найдите популярные в прошлом платформы, у которых сейчас продажи на нуле. За какой характерный период появляются новые и исчезают старые платформы?\n",
    " - Определите, данные за какой период нужно взять, чтобы исключить значимое искажение распределения по платформам в 2016 году.\n",
    " - Далее работайте только с данными, которые вы определили. Не учитывайте данные за предыдущие годы.\n",
    " - Какие платформы лидируют по продажам, растут или падают? Выберите несколько потенциально прибыльных платформ.\n",
    " - Постройте график «ящик с усами» по глобальным продажам каждой игры и разбивкой по платформам. Велика ли разница в продажах? А в средних продажах на разных платформах? Опишите результат.\n",
    " - Посмотрите, как влияют на продажи внутри одной популярной платформы отзывы пользователей и критиков. Постройте диаграмму рассеяния и посчитайте корреляцию между отзывами и продажами. Сформулируйте выводы и соотнесите их с продажами игр на других платформах.\n",
    " - Посмотрите на общее распределение игр по жанрам. Что можно сказать о самых прибыльных жанрах? Выделяются ли жанры с высокими и низкими продажами?\n",
    " \n",
    "[Шаг 5. Составьте портрет пользователя каждого региона](#step5)\n",
    "Определите для пользователя каждого региона (NA, EU, JP):\n",
    " - Самые популярные платформы (топ-5). Опишите различия в долях продаж.\n",
    " - Самые популярные жанры (топ-5). Поясните разницу.\n",
    " - Влияет ли рейтинг ESRB на продажи в отдельном регионе?\n",
    "\n",
    "[Шаг 6. Проведите исследование статистических показателей](#step6)\n",
    " - Как изменяется пользовательский рейтинг и рейтинг критиков в различных жанрах? Посчитайте среднее количество, дисперсию и стандартное отклонение. Постройте гистограммы. Опишите распределения\n",
    " \n",
    "[Шаг 7. Проверьте гипотезы](#step7)\n",
    " - Средние пользовательские рейтинги платформ Xbox One и PC одинаковые;\n",
    " - Средние пользовательские рейтинги жанров Action (англ. «действие») и Sports (англ. «виды спорта») разные.\n",
    " \n",
    "[Шаг 8. Напишите общий вывод](#step8)"
   ]
  },
  {
   "cell_type": "markdown",
   "metadata": {},
   "source": [
    "## Импорт библиотек"
   ]
  },
  {
   "cell_type": "code",
   "execution_count": 102,
   "metadata": {},
   "outputs": [],
   "source": [
    "import pandas as pd\n",
    "import numpy as np \n",
    "import matplotlib.pyplot as plt\n",
    "from scipy import stats as st\n",
    "\n",
    "np.warnings.filterwarnings('ignore', category=np.VisibleDeprecationWarning) \n",
    "pd.options.mode.chained_assignment = None"
   ]
  },
  {
   "cell_type": "markdown",
   "metadata": {},
   "source": [
    "<div class=\"alert alert-success\">\n",
    "<font size=\"5\"><b>Комментарий ревьюера</b></font>\n",
    "\n",
    "Правильно, что весь импорт ты проводишь в первой ячейке работы. Так твой коллега, запускающий работу, будет в курсе используемых в ней библиотек и сможет при необходимости быстро настроить окружение. \n",
    "\n",
    "</div>"
   ]
  },
  {
   "cell_type": "markdown",
   "metadata": {},
   "source": [
    "## Откройте файл с данными и изучите общую информацию <a id='step2'></a>"
   ]
  },
  {
   "cell_type": "markdown",
   "metadata": {},
   "source": [
    "[К плану работы ->](#contents)"
   ]
  },
  {
   "cell_type": "code",
   "execution_count": 103,
   "metadata": {},
   "outputs": [],
   "source": [
    "df = pd.read_csv('games.csv')"
   ]
  },
  {
   "cell_type": "code",
   "execution_count": 104,
   "metadata": {},
   "outputs": [
    {
     "name": "stdout",
     "output_type": "stream",
     "text": [
      "<class 'pandas.core.frame.DataFrame'>\n",
      "RangeIndex: 16715 entries, 0 to 16714\n",
      "Data columns (total 11 columns):\n",
      " #   Column           Non-Null Count  Dtype  \n",
      "---  ------           --------------  -----  \n",
      " 0   Name             16713 non-null  object \n",
      " 1   Platform         16715 non-null  object \n",
      " 2   Year_of_Release  16446 non-null  float64\n",
      " 3   Genre            16713 non-null  object \n",
      " 4   NA_sales         16715 non-null  float64\n",
      " 5   EU_sales         16715 non-null  float64\n",
      " 6   JP_sales         16715 non-null  float64\n",
      " 7   Other_sales      16715 non-null  float64\n",
      " 8   Critic_Score     8137 non-null   float64\n",
      " 9   User_Score       10014 non-null  object \n",
      " 10  Rating           9949 non-null   object \n",
      "dtypes: float64(6), object(5)\n",
      "memory usage: 1.4+ MB\n"
     ]
    }
   ],
   "source": [
    "df.info()"
   ]
  },
  {
   "cell_type": "markdown",
   "metadata": {},
   "source": [
    "## Подготовка данных <a id='step3'></a>\n"
   ]
  },
  {
   "cell_type": "markdown",
   "metadata": {},
   "source": [
    "[К плану работы ->](#contents)"
   ]
  },
  {
   "cell_type": "markdown",
   "metadata": {},
   "source": [
    "### Приведем к нижнему регистру названия столбцов"
   ]
  },
  {
   "cell_type": "code",
   "execution_count": 105,
   "metadata": {},
   "outputs": [],
   "source": [
    "a = []\n",
    "for item in df.columns:\n",
    "    a.append(item.lower())\n",
    "df.columns = a"
   ]
  },
  {
   "cell_type": "markdown",
   "metadata": {},
   "source": [
    "<div class=\"alert alert-success\">\n",
    "<font size=\"5\"><b>Комментарий ревьюера</b></font>\n",
    "\n",
    "Данный метод позволяет нам автоматизировать процесс приведения названий столбцов к нижнему регистру. Так исключается вероятность опечаток. Можно даже оптимизировать код и сократить его до `df.columns = df.columns.str.lower()`.\n",
    "\n",
    "</div>"
   ]
  },
  {
   "cell_type": "code",
   "execution_count": 106,
   "metadata": {},
   "outputs": [
    {
     "name": "stdout",
     "output_type": "stream",
     "text": [
      "<class 'pandas.core.frame.DataFrame'>\n",
      "RangeIndex: 16715 entries, 0 to 16714\n",
      "Data columns (total 11 columns):\n",
      " #   Column           Non-Null Count  Dtype  \n",
      "---  ------           --------------  -----  \n",
      " 0   name             16713 non-null  object \n",
      " 1   platform         16715 non-null  object \n",
      " 2   year_of_release  16446 non-null  float64\n",
      " 3   genre            16713 non-null  object \n",
      " 4   na_sales         16715 non-null  float64\n",
      " 5   eu_sales         16715 non-null  float64\n",
      " 6   jp_sales         16715 non-null  float64\n",
      " 7   other_sales      16715 non-null  float64\n",
      " 8   critic_score     8137 non-null   float64\n",
      " 9   user_score       10014 non-null  object \n",
      " 10  rating           9949 non-null   object \n",
      "dtypes: float64(6), object(5)\n",
      "memory usage: 1.4+ MB\n"
     ]
    }
   ],
   "source": [
    "df.info()"
   ]
  },
  {
   "cell_type": "markdown",
   "metadata": {},
   "source": [
    "### Заменим год выхода игры на целочисленный тип с заменой nan на 0"
   ]
  },
  {
   "cell_type": "markdown",
   "metadata": {},
   "source": [
    "Вместо 0 можно выбрать любое целое число сильно выбивающееся из ожидаемого диапазона (1980, 2016)"
   ]
  },
  {
   "cell_type": "code",
   "execution_count": 107,
   "metadata": {
    "scrolled": true
   },
   "outputs": [],
   "source": [
    "df['year_of_release'] = df['year_of_release'].fillna(\"0\").astype(int)"
   ]
  },
  {
   "cell_type": "markdown",
   "metadata": {},
   "source": [
    "Результат замены, массив используемых годов:"
   ]
  },
  {
   "cell_type": "code",
   "execution_count": 108,
   "metadata": {},
   "outputs": [
    {
     "data": {
      "text/plain": [
       "array([   0, 1980, 1981, 1982, 1983, 1984, 1985, 1986, 1987, 1988, 1989,\n",
       "       1990, 1991, 1992, 1993, 1994, 1995, 1996, 1997, 1998, 1999, 2000,\n",
       "       2001, 2002, 2003, 2004, 2005, 2006, 2007, 2008, 2009, 2010, 2011,\n",
       "       2012, 2013, 2014, 2015, 2016])"
      ]
     },
     "execution_count": 108,
     "metadata": {},
     "output_type": "execute_result"
    }
   ],
   "source": [
    "np.sort(df['year_of_release'].unique())"
   ]
  },
  {
   "cell_type": "markdown",
   "metadata": {},
   "source": [
    "### Оценим необходимость типа float для продаж в разных регионах\n"
   ]
  },
  {
   "cell_type": "code",
   "execution_count": 109,
   "metadata": {
    "scrolled": false
   },
   "outputs": [
    {
     "name": "stdout",
     "output_type": "stream",
     "text": [
      "Количество значений с дробной частью:\n",
      "na_sales 12188\n",
      "eu_sales 10835\n",
      "jp_sales 6195\n",
      "other_sales 10112\n"
     ]
    }
   ],
   "source": [
    "sales_names = ['na_sales', 'eu_sales',  'jp_sales', 'other_sales']\n",
    "print(\"Количество значений с дробной частью:\")\n",
    "for sales in sales_names:\n",
    "    print(sales, df[sales][df[sales]%1 != 0].count())"
   ]
  },
  {
   "cell_type": "markdown",
   "metadata": {},
   "source": [
    "Везде есть значения c дробной частью, значит оставим тип данных без изменения."
   ]
  },
  {
   "cell_type": "markdown",
   "metadata": {},
   "source": [
    "### critic_score, заменим nan  на среднее значение и приведем к целочисленному типу "
   ]
  },
  {
   "cell_type": "markdown",
   "metadata": {},
   "source": [
    "Массив используемых оценок:"
   ]
  },
  {
   "cell_type": "code",
   "execution_count": 110,
   "metadata": {
    "scrolled": true
   },
   "outputs": [
    {
     "data": {
      "text/plain": [
       "array([13., 17., 19., 20., 21., 22., 23., 24., 25., 26., 27., 28., 29.,\n",
       "       30., 31., 32., 33., 34., 35., 36., 37., 38., 39., 40., 41., 42.,\n",
       "       43., 44., 45., 46., 47., 48., 49., 50., 51., 52., 53., 54., 55.,\n",
       "       56., 57., 58., 59., 60., 61., 62., 63., 64., 65., 66., 67., 68.,\n",
       "       69., 70., 71., 72., 73., 74., 75., 76., 77., 78., 79., 80., 81.,\n",
       "       82., 83., 84., 85., 86., 87., 88., 89., 90., 91., 92., 93., 94.,\n",
       "       95., 96., 97., 98., nan])"
      ]
     },
     "execution_count": 110,
     "metadata": {},
     "output_type": "execute_result"
    }
   ],
   "source": [
    "np.sort(df['critic_score'].unique())"
   ]
  },
  {
   "cell_type": "markdown",
   "metadata": {},
   "source": [
    "По условию Critic_Score (от 0 до 100), при этом в значениях нет информации после запятой, оправдано перевести в целочисленный тип."
   ]
  },
  {
   "cell_type": "markdown",
   "metadata": {},
   "source": [
    "Среднее значение и медиана:"
   ]
  },
  {
   "cell_type": "code",
   "execution_count": 111,
   "metadata": {},
   "outputs": [
    {
     "name": "stdout",
     "output_type": "stream",
     "text": [
      "Среднее: 68.96767850559173\n",
      "Медиана: 71.0\n"
     ]
    }
   ],
   "source": [
    "critic_score_mean = np.nanmean(df['critic_score'])\n",
    "critic_score_median = np.nanmedian(df['critic_score'])\n",
    "print('Среднее:', critic_score_mean)\n",
    "print('Медиана:', critic_score_median)"
   ]
  },
  {
   "cell_type": "markdown",
   "metadata": {},
   "source": [
    "Медиана оказалась даже немного больше среднего значения."
   ]
  },
  {
   "cell_type": "markdown",
   "metadata": {},
   "source": [
    "<del> Округлим среднее значение до большего целого значения (69) и заменим все \"nan\" на него: </del>"
   ]
  },
  {
   "cell_type": "code",
   "execution_count": 112,
   "metadata": {},
   "outputs": [],
   "source": [
    "# df['critic_score'] = df['critic_score'].fillna(int(critic_score_mean+1)).astype(int) "
   ]
  },
  {
   "cell_type": "markdown",
   "metadata": {},
   "source": [
    "Результат после изменений:"
   ]
  },
  {
   "cell_type": "code",
   "execution_count": 113,
   "metadata": {},
   "outputs": [
    {
     "data": {
      "text/plain": [
       "array([13., 17., 19., 20., 21., 22., 23., 24., 25., 26., 27., 28., 29.,\n",
       "       30., 31., 32., 33., 34., 35., 36., 37., 38., 39., 40., 41., 42.,\n",
       "       43., 44., 45., 46., 47., 48., 49., 50., 51., 52., 53., 54., 55.,\n",
       "       56., 57., 58., 59., 60., 61., 62., 63., 64., 65., 66., 67., 68.,\n",
       "       69., 70., 71., 72., 73., 74., 75., 76., 77., 78., 79., 80., 81.,\n",
       "       82., 83., 84., 85., 86., 87., 88., 89., 90., 91., 92., 93., 94.,\n",
       "       95., 96., 97., 98., nan])"
      ]
     },
     "execution_count": 113,
     "metadata": {},
     "output_type": "execute_result"
    }
   ],
   "source": [
    "np.sort(df['critic_score'].unique())"
   ]
  },
  {
   "cell_type": "markdown",
   "metadata": {},
   "source": [
    "Оценка и количество её использований в данных:"
   ]
  },
  {
   "cell_type": "code",
   "execution_count": 114,
   "metadata": {},
   "outputs": [
    {
     "data": {
      "text/plain": [
       "70.0    256\n",
       "71.0    254\n",
       "75.0    245\n",
       "78.0    240\n",
       "73.0    238\n",
       "       ... \n",
       "20.0      3\n",
       "17.0      1\n",
       "22.0      1\n",
       "13.0      1\n",
       "21.0      1\n",
       "Name: critic_score, Length: 82, dtype: int64"
      ]
     },
     "execution_count": 114,
     "metadata": {},
     "output_type": "execute_result"
    }
   ],
   "source": [
    "pd.value_counts(df['critic_score'])"
   ]
  },
  {
   "cell_type": "markdown",
   "metadata": {},
   "source": [
    "###  user_score, приведем к типу float, заменим пропущенные значения на среднее"
   ]
  },
  {
   "cell_type": "markdown",
   "metadata": {},
   "source": [
    "Используемые значения оценок:"
   ]
  },
  {
   "cell_type": "code",
   "execution_count": 115,
   "metadata": {
    "scrolled": false
   },
   "outputs": [
    {
     "data": {
      "text/plain": [
       "array(['8', nan, '8.3', '8.5', '6.6', '8.4', '8.6', '7.7', '6.3', '7.4',\n",
       "       '8.2', '9', '7.9', '8.1', '8.7', '7.1', '3.4', '5.3', '4.8', '3.2',\n",
       "       '8.9', '6.4', '7.8', '7.5', '2.6', '7.2', '9.2', '7', '7.3', '4.3',\n",
       "       '7.6', '5.7', '5', '9.1', '6.5', 'tbd', '8.8', '6.9', '9.4', '6.8',\n",
       "       '6.1', '6.7', '5.4', '4', '4.9', '4.5', '9.3', '6.2', '4.2', '6',\n",
       "       '3.7', '4.1', '5.8', '5.6', '5.5', '4.4', '4.6', '5.9', '3.9',\n",
       "       '3.1', '2.9', '5.2', '3.3', '4.7', '5.1', '3.5', '2.5', '1.9', '3',\n",
       "       '2.7', '2.2', '2', '9.5', '2.1', '3.6', '2.8', '1.8', '3.8', '0',\n",
       "       '1.6', '9.6', '2.4', '1.7', '1.1', '0.3', '1.5', '0.7', '1.2',\n",
       "       '2.3', '0.5', '1.3', '0.2', '0.6', '1.4', '0.9', '1', '9.7'],\n",
       "      dtype=object)"
      ]
     },
     "execution_count": 115,
     "metadata": {},
     "output_type": "execute_result"
    }
   ],
   "source": [
    "df['user_score'].unique()"
   ]
  },
  {
   "cell_type": "markdown",
   "metadata": {},
   "source": [
    "Присутсвуют дробные значения, nan и tbd, переведем все в числовой формат.\n",
    "\n",
    "tbd заменим на nan (параметром errors = 'coerce')\n",
    "\n",
    "Результат после изменений:"
   ]
  },
  {
   "cell_type": "code",
   "execution_count": 116,
   "metadata": {},
   "outputs": [
    {
     "data": {
      "text/plain": [
       "array([8. , nan, 8.3, 8.5, 6.6, 8.4, 8.6, 7.7, 6.3, 7.4, 8.2, 9. , 7.9,\n",
       "       8.1, 8.7, 7.1, 3.4, 5.3, 4.8, 3.2, 8.9, 6.4, 7.8, 7.5, 2.6, 7.2,\n",
       "       9.2, 7. , 7.3, 4.3, 7.6, 5.7, 5. , 9.1, 6.5, 8.8, 6.9, 9.4, 6.8,\n",
       "       6.1, 6.7, 5.4, 4. , 4.9, 4.5, 9.3, 6.2, 4.2, 6. , 3.7, 4.1, 5.8,\n",
       "       5.6, 5.5, 4.4, 4.6, 5.9, 3.9, 3.1, 2.9, 5.2, 3.3, 4.7, 5.1, 3.5,\n",
       "       2.5, 1.9, 3. , 2.7, 2.2, 2. , 9.5, 2.1, 3.6, 2.8, 1.8, 3.8, 0. ,\n",
       "       1.6, 9.6, 2.4, 1.7, 1.1, 0.3, 1.5, 0.7, 1.2, 2.3, 0.5, 1.3, 0.2,\n",
       "       0.6, 1.4, 0.9, 1. , 9.7])"
      ]
     },
     "execution_count": 116,
     "metadata": {},
     "output_type": "execute_result"
    }
   ],
   "source": [
    "df['user_score'] = pd.to_numeric(df['user_score'], errors = 'coerce')\n",
    "df['user_score'].unique()"
   ]
  },
  {
   "cell_type": "markdown",
   "metadata": {},
   "source": [
    "<div class=\"alert alert-success\">\n",
    "<font size=\"5\"><b>Комментарий ревьюера</b></font>\n",
    "\n",
    "Верно, по своей сути tbd и является Nan. Отлично, что определяешь неявные пропущенные значения.\n",
    "\n",
    "</div>"
   ]
  },
  {
   "cell_type": "markdown",
   "metadata": {},
   "source": [
    "Среднее и медиана оценок:"
   ]
  },
  {
   "cell_type": "code",
   "execution_count": 117,
   "metadata": {
    "scrolled": true
   },
   "outputs": [
    {
     "name": "stdout",
     "output_type": "stream",
     "text": [
      "Среднее: 7.125046113306982\n",
      "Медиана: 7.5\n"
     ]
    }
   ],
   "source": [
    "user_score_mean = np.nanmean(df['user_score'])\n",
    "user_score_median = np.nanmedian(df['user_score'])\n",
    "print('Среднее:', user_score_mean)\n",
    "print('Медиана:', user_score_median)"
   ]
  },
  {
   "cell_type": "markdown",
   "metadata": {},
   "source": [
    "<del> Среднее и медиана близки, заменим nan на среднее округленное до 7.1 </del>"
   ]
  },
  {
   "cell_type": "code",
   "execution_count": 118,
   "metadata": {},
   "outputs": [],
   "source": [
    "# df['user_score'] = df['user_score'].fillna(7.1).astype(float) "
   ]
  },
  {
   "cell_type": "markdown",
   "metadata": {},
   "source": [
    "<div class=\"alert alert-danger\">\n",
    "<font size=\"5\"><b>Комментарий ревьюера</b></font>\n",
    "\n",
    "Заполнение такого числа пропусков в отзывах критиков и пользователей одним значением может сильно исказить структуры данных столбцов. Данных для того, чтобы восстановить эти пропуски, у нас недостаточно. Также мы видим, что пропуски в столбцах часто встречаются вместе, т.е. нет данных по одним и тем же играм. Это с большой долей вероятности связано с тем, что эти данные просто не были загружены в таблицу. Попробуй оставить пропуски и посмотреть на результаты без их заполнения. \n",
    "\n",
    "</div>"
   ]
  },
  {
   "cell_type": "markdown",
   "metadata": {},
   "source": [
    "Закомитил замену."
   ]
  },
  {
   "cell_type": "markdown",
   "metadata": {},
   "source": [
    "<div class=\"alert alert-success\">\n",
    "<font size=\"5\"><b>Комментарий ревьюера 2</b></font>\n",
    "\n",
    "Верное решение. Обработать такое число пропусков мы не можем. \n",
    "\n",
    "</div>"
   ]
  },
  {
   "cell_type": "markdown",
   "metadata": {},
   "source": [
    "Оценки и их количество после изменений:"
   ]
  },
  {
   "cell_type": "code",
   "execution_count": 119,
   "metadata": {
    "scrolled": true
   },
   "outputs": [
    {
     "data": {
      "text/plain": [
       "7.8    324\n",
       "8.0    290\n",
       "8.2    282\n",
       "8.3    254\n",
       "8.5    253\n",
       "      ... \n",
       "9.6      2\n",
       "0.6      2\n",
       "1.9      2\n",
       "9.7      1\n",
       "0.0      1\n",
       "Name: user_score, Length: 95, dtype: int64"
      ]
     },
     "execution_count": 119,
     "metadata": {},
     "output_type": "execute_result"
    }
   ],
   "source": [
    "pd.value_counts(df['user_score'])"
   ]
  },
  {
   "cell_type": "markdown",
   "metadata": {},
   "source": [
    "### rating"
   ]
  },
  {
   "cell_type": "code",
   "execution_count": 120,
   "metadata": {
    "scrolled": false
   },
   "outputs": [
    {
     "name": "stdout",
     "output_type": "stream",
     "text": [
      "['E' nan 'M' 'T' 'E10+' 'K-A' 'AO' 'EC' 'RP']\n",
      "Количество оценок nan: 6766\n",
      "Всего оценок (вместе с nan): 9949\n"
     ]
    }
   ],
   "source": [
    "print(df['rating'].unique())\n",
    "print(\"Количество оценок nan:\", df['rating'].isnull().sum())\n",
    "print(\"Всего оценок (вместе с nan):\", df['rating'].count())"
   ]
  },
  {
   "cell_type": "markdown",
   "metadata": {},
   "source": [
    "Рейтинг относится к категориальным перменным и имеет много пропусков (более 2/3), ничего с этим делать не будем."
   ]
  },
  {
   "cell_type": "markdown",
   "metadata": {},
   "source": [
    "### Посчитайте суммарные продажи во всех регионах и запишите их в отдельный столбец"
   ]
  },
  {
   "cell_type": "markdown",
   "metadata": {},
   "source": [
    "Назовем такой столбец all_sales:"
   ]
  },
  {
   "cell_type": "code",
   "execution_count": 121,
   "metadata": {},
   "outputs": [
    {
     "data": {
      "text/html": [
       "<div>\n",
       "<style scoped>\n",
       "    .dataframe tbody tr th:only-of-type {\n",
       "        vertical-align: middle;\n",
       "    }\n",
       "\n",
       "    .dataframe tbody tr th {\n",
       "        vertical-align: top;\n",
       "    }\n",
       "\n",
       "    .dataframe thead th {\n",
       "        text-align: right;\n",
       "    }\n",
       "</style>\n",
       "<table border=\"1\" class=\"dataframe\">\n",
       "  <thead>\n",
       "    <tr style=\"text-align: right;\">\n",
       "      <th></th>\n",
       "      <th>name</th>\n",
       "      <th>platform</th>\n",
       "      <th>year_of_release</th>\n",
       "      <th>genre</th>\n",
       "      <th>na_sales</th>\n",
       "      <th>eu_sales</th>\n",
       "      <th>jp_sales</th>\n",
       "      <th>other_sales</th>\n",
       "      <th>critic_score</th>\n",
       "      <th>user_score</th>\n",
       "      <th>rating</th>\n",
       "      <th>all_sales</th>\n",
       "    </tr>\n",
       "  </thead>\n",
       "  <tbody>\n",
       "    <tr>\n",
       "      <th>0</th>\n",
       "      <td>Wii Sports</td>\n",
       "      <td>Wii</td>\n",
       "      <td>2006</td>\n",
       "      <td>Sports</td>\n",
       "      <td>41.36</td>\n",
       "      <td>28.96</td>\n",
       "      <td>3.77</td>\n",
       "      <td>8.45</td>\n",
       "      <td>76.0</td>\n",
       "      <td>8.0</td>\n",
       "      <td>E</td>\n",
       "      <td>82.54</td>\n",
       "    </tr>\n",
       "    <tr>\n",
       "      <th>1</th>\n",
       "      <td>Super Mario Bros.</td>\n",
       "      <td>NES</td>\n",
       "      <td>1985</td>\n",
       "      <td>Platform</td>\n",
       "      <td>29.08</td>\n",
       "      <td>3.58</td>\n",
       "      <td>6.81</td>\n",
       "      <td>0.77</td>\n",
       "      <td>NaN</td>\n",
       "      <td>NaN</td>\n",
       "      <td>NaN</td>\n",
       "      <td>40.24</td>\n",
       "    </tr>\n",
       "    <tr>\n",
       "      <th>2</th>\n",
       "      <td>Mario Kart Wii</td>\n",
       "      <td>Wii</td>\n",
       "      <td>2008</td>\n",
       "      <td>Racing</td>\n",
       "      <td>15.68</td>\n",
       "      <td>12.76</td>\n",
       "      <td>3.79</td>\n",
       "      <td>3.29</td>\n",
       "      <td>82.0</td>\n",
       "      <td>8.3</td>\n",
       "      <td>E</td>\n",
       "      <td>35.52</td>\n",
       "    </tr>\n",
       "    <tr>\n",
       "      <th>3</th>\n",
       "      <td>Wii Sports Resort</td>\n",
       "      <td>Wii</td>\n",
       "      <td>2009</td>\n",
       "      <td>Sports</td>\n",
       "      <td>15.61</td>\n",
       "      <td>10.93</td>\n",
       "      <td>3.28</td>\n",
       "      <td>2.95</td>\n",
       "      <td>80.0</td>\n",
       "      <td>8.0</td>\n",
       "      <td>E</td>\n",
       "      <td>32.77</td>\n",
       "    </tr>\n",
       "    <tr>\n",
       "      <th>4</th>\n",
       "      <td>Pokemon Red/Pokemon Blue</td>\n",
       "      <td>GB</td>\n",
       "      <td>1996</td>\n",
       "      <td>Role-Playing</td>\n",
       "      <td>11.27</td>\n",
       "      <td>8.89</td>\n",
       "      <td>10.22</td>\n",
       "      <td>1.00</td>\n",
       "      <td>NaN</td>\n",
       "      <td>NaN</td>\n",
       "      <td>NaN</td>\n",
       "      <td>31.38</td>\n",
       "    </tr>\n",
       "    <tr>\n",
       "      <th>...</th>\n",
       "      <td>...</td>\n",
       "      <td>...</td>\n",
       "      <td>...</td>\n",
       "      <td>...</td>\n",
       "      <td>...</td>\n",
       "      <td>...</td>\n",
       "      <td>...</td>\n",
       "      <td>...</td>\n",
       "      <td>...</td>\n",
       "      <td>...</td>\n",
       "      <td>...</td>\n",
       "      <td>...</td>\n",
       "    </tr>\n",
       "    <tr>\n",
       "      <th>16710</th>\n",
       "      <td>Samurai Warriors: Sanada Maru</td>\n",
       "      <td>PS3</td>\n",
       "      <td>2016</td>\n",
       "      <td>Action</td>\n",
       "      <td>0.00</td>\n",
       "      <td>0.00</td>\n",
       "      <td>0.01</td>\n",
       "      <td>0.00</td>\n",
       "      <td>NaN</td>\n",
       "      <td>NaN</td>\n",
       "      <td>NaN</td>\n",
       "      <td>0.01</td>\n",
       "    </tr>\n",
       "    <tr>\n",
       "      <th>16711</th>\n",
       "      <td>LMA Manager 2007</td>\n",
       "      <td>X360</td>\n",
       "      <td>2006</td>\n",
       "      <td>Sports</td>\n",
       "      <td>0.00</td>\n",
       "      <td>0.01</td>\n",
       "      <td>0.00</td>\n",
       "      <td>0.00</td>\n",
       "      <td>NaN</td>\n",
       "      <td>NaN</td>\n",
       "      <td>NaN</td>\n",
       "      <td>0.01</td>\n",
       "    </tr>\n",
       "    <tr>\n",
       "      <th>16712</th>\n",
       "      <td>Haitaka no Psychedelica</td>\n",
       "      <td>PSV</td>\n",
       "      <td>2016</td>\n",
       "      <td>Adventure</td>\n",
       "      <td>0.00</td>\n",
       "      <td>0.00</td>\n",
       "      <td>0.01</td>\n",
       "      <td>0.00</td>\n",
       "      <td>NaN</td>\n",
       "      <td>NaN</td>\n",
       "      <td>NaN</td>\n",
       "      <td>0.01</td>\n",
       "    </tr>\n",
       "    <tr>\n",
       "      <th>16713</th>\n",
       "      <td>Spirits &amp; Spells</td>\n",
       "      <td>GBA</td>\n",
       "      <td>2003</td>\n",
       "      <td>Platform</td>\n",
       "      <td>0.01</td>\n",
       "      <td>0.00</td>\n",
       "      <td>0.00</td>\n",
       "      <td>0.00</td>\n",
       "      <td>NaN</td>\n",
       "      <td>NaN</td>\n",
       "      <td>NaN</td>\n",
       "      <td>0.01</td>\n",
       "    </tr>\n",
       "    <tr>\n",
       "      <th>16714</th>\n",
       "      <td>Winning Post 8 2016</td>\n",
       "      <td>PSV</td>\n",
       "      <td>2016</td>\n",
       "      <td>Simulation</td>\n",
       "      <td>0.00</td>\n",
       "      <td>0.00</td>\n",
       "      <td>0.01</td>\n",
       "      <td>0.00</td>\n",
       "      <td>NaN</td>\n",
       "      <td>NaN</td>\n",
       "      <td>NaN</td>\n",
       "      <td>0.01</td>\n",
       "    </tr>\n",
       "  </tbody>\n",
       "</table>\n",
       "<p>16715 rows × 12 columns</p>\n",
       "</div>"
      ],
      "text/plain": [
       "                                name platform  year_of_release         genre  \\\n",
       "0                         Wii Sports      Wii             2006        Sports   \n",
       "1                  Super Mario Bros.      NES             1985      Platform   \n",
       "2                     Mario Kart Wii      Wii             2008        Racing   \n",
       "3                  Wii Sports Resort      Wii             2009        Sports   \n",
       "4           Pokemon Red/Pokemon Blue       GB             1996  Role-Playing   \n",
       "...                              ...      ...              ...           ...   \n",
       "16710  Samurai Warriors: Sanada Maru      PS3             2016        Action   \n",
       "16711               LMA Manager 2007     X360             2006        Sports   \n",
       "16712        Haitaka no Psychedelica      PSV             2016     Adventure   \n",
       "16713               Spirits & Spells      GBA             2003      Platform   \n",
       "16714            Winning Post 8 2016      PSV             2016    Simulation   \n",
       "\n",
       "       na_sales  eu_sales  jp_sales  other_sales  critic_score  user_score  \\\n",
       "0         41.36     28.96      3.77         8.45          76.0         8.0   \n",
       "1         29.08      3.58      6.81         0.77           NaN         NaN   \n",
       "2         15.68     12.76      3.79         3.29          82.0         8.3   \n",
       "3         15.61     10.93      3.28         2.95          80.0         8.0   \n",
       "4         11.27      8.89     10.22         1.00           NaN         NaN   \n",
       "...         ...       ...       ...          ...           ...         ...   \n",
       "16710      0.00      0.00      0.01         0.00           NaN         NaN   \n",
       "16711      0.00      0.01      0.00         0.00           NaN         NaN   \n",
       "16712      0.00      0.00      0.01         0.00           NaN         NaN   \n",
       "16713      0.01      0.00      0.00         0.00           NaN         NaN   \n",
       "16714      0.00      0.00      0.01         0.00           NaN         NaN   \n",
       "\n",
       "      rating  all_sales  \n",
       "0          E      82.54  \n",
       "1        NaN      40.24  \n",
       "2          E      35.52  \n",
       "3          E      32.77  \n",
       "4        NaN      31.38  \n",
       "...      ...        ...  \n",
       "16710    NaN       0.01  \n",
       "16711    NaN       0.01  \n",
       "16712    NaN       0.01  \n",
       "16713    NaN       0.01  \n",
       "16714    NaN       0.01  \n",
       "\n",
       "[16715 rows x 12 columns]"
      ]
     },
     "execution_count": 121,
     "metadata": {},
     "output_type": "execute_result"
    }
   ],
   "source": [
    "df['all_sales'] = df['na_sales'] + df['eu_sales'] + df['jp_sales'] + df['other_sales']\n",
    "df"
   ]
  },
  {
   "cell_type": "markdown",
   "metadata": {},
   "source": [
    "<div class=\"alert alert-success\">\n",
    "<font size=\"5\"><b>Комментарий ревьюера</b></font>\n",
    "\n",
    "Восстановить пропущенные значения мы не можем. Данных для этого недостаточно. Лучше работать с меньшим количеством данных хорошего качества. Посмотри на результаты без обработки пропусков. \n",
    "    \n",
    "Ошибки в данных устранены. Данные подготовлены к дальнейшему анализу. \n",
    "\n",
    "</div>"
   ]
  },
  {
   "cell_type": "markdown",
   "metadata": {},
   "source": [
    "## Исследовательский анализ данных <a id='step4'></a>\n"
   ]
  },
  {
   "cell_type": "markdown",
   "metadata": {},
   "source": [
    "[К плану работы ->](#contents)"
   ]
  },
  {
   "cell_type": "markdown",
   "metadata": {},
   "source": [
    "###  Посмотрите, сколько игр выпускалось в разные годы. Важны ли данные за все периоды?"
   ]
  },
  {
   "cell_type": "markdown",
   "metadata": {},
   "source": [
    "Представление в текстовом виде:"
   ]
  },
  {
   "cell_type": "code",
   "execution_count": 122,
   "metadata": {},
   "outputs": [],
   "source": [
    "# df.groupby('year_of_release').count()['name']"
   ]
  },
  {
   "cell_type": "markdown",
   "metadata": {},
   "source": [
    "Для графического вида зададим ограничения на рассматриваемые года (раннее в заменах nan использовал 0 год):"
   ]
  },
  {
   "cell_type": "code",
   "execution_count": 123,
   "metadata": {
    "scrolled": true
   },
   "outputs": [
    {
     "data": {
      "text/plain": [
       "Text(0.5, 1.0, 'Количество игр выпущенных по годам')"
      ]
     },
     "execution_count": 123,
     "metadata": {},
     "output_type": "execute_result"
    },
    {
     "data": {
      "image/png": "[encoded data removed]",
      "text/plain": [
       "<Figure size 432x288 with 1 Axes>"
      ]
     },
     "metadata": {
      "needs_background": "light"
     },
     "output_type": "display_data"
    }
   ],
   "source": [
    "df.groupby('year_of_release').count()['name'].plot(xlim = (1979,2017))\n",
    "plt.ylabel('number of games')\n",
    "plt.grid(True)\n",
    "plt.title(\"Количество игр выпущенных по годам\")"
   ]
  },
  {
   "cell_type": "markdown",
   "metadata": {},
   "source": [
    "До 1994 года выпускалось менее сотни игр в год,\n",
    "до 2000 выпускалось менее 400 игр в год.\n",
    "\n",
    "Последнее значение около 500 игр, значит можно рассматривать временной период начиная с 2000 года."
   ]
  },
  {
   "cell_type": "markdown",
   "metadata": {},
   "source": [
    "<div class=\"alert alert-success\">\n",
    "<font size=\"5\"><b>Комментарий ревьюера</b></font>\n",
    "\n",
    "Как думаешь, с чем связан спад в индустрии последних лет? \n",
    "\n",
    "</div>"
   ]
  },
  {
   "cell_type": "markdown",
   "metadata": {},
   "source": [
    "Спад примерно с 2008 года, реультат экономического кризиса?"
   ]
  },
  {
   "cell_type": "markdown",
   "metadata": {},
   "source": [
    "<div class=\"alert alert-success\">\n",
    "<font size=\"5\"><b>Комментарий ревьюера 2</b></font>\n",
    "\n",
    "Да, вполне возможно. Также свое влияние оказали и мобильны игры, которые забрали часть рынка на себя.  \n",
    "\n",
    "</div>"
   ]
  },
  {
   "cell_type": "markdown",
   "metadata": {},
   "source": [
    "### Посмотрите, как менялись продажи по платформам. Выберите платформы с наибольшими суммарными продажами и постройте распределение по годам. Найдите популярные в прошлом платформы, у которых сейчас продажи на нуле. За какой характерный период появляются новые и исчезают старые платформы?"
   ]
  },
  {
   "cell_type": "markdown",
   "metadata": {},
   "source": [
    "#### Платформы с наибольшими суммарными продажами"
   ]
  },
  {
   "cell_type": "code",
   "execution_count": 124,
   "metadata": {
    "scrolled": true
   },
   "outputs": [
    {
     "name": "stdout",
     "output_type": "stream",
     "text": [
      "          all_sales\n",
      "platform           \n",
      "PS2         1255.77\n",
      "X360         971.42\n",
      "PS3          939.65\n",
      "Wii          907.51\n",
      "DS           806.12\n",
      "PS           730.86\n",
      "GBA          317.85\n",
      "PS4          314.14\n",
      "PSP          294.05\n",
      "PC           259.52\n"
     ]
    }
   ],
   "source": [
    "# Топ10 платформ по суммарным продажам\n",
    "top_platforms_tabel = (pd\n",
    "                         .pivot_table(df,\n",
    "                                      index = 'platform',\n",
    "                                      values = ['all_sales'],\n",
    "                                      aggfunc = 'sum')\n",
    "                         .sort_values('all_sales', ascending = False)\n",
    "                         .head(10)\n",
    "                        )\n",
    "print(top_platforms_tabel)\n",
    "top_platforms = top_platforms_tabel.index"
   ]
  },
  {
   "cell_type": "markdown",
   "metadata": {},
   "source": [
    "###### Создаем датафрейм для анализа платформ с 2000 года"
   ]
  },
  {
   "cell_type": "code",
   "execution_count": 125,
   "metadata": {},
   "outputs": [],
   "source": [
    "platforms = df['platform'].unique()\n",
    "platforms_data = pd.DataFrame(index = range(2000,2017), columns = platforms)\n",
    "# platforms_data"
   ]
  },
  {
   "cell_type": "markdown",
   "metadata": {},
   "source": [
    "###### Наполняем его"
   ]
  },
  {
   "cell_type": "code",
   "execution_count": 126,
   "metadata": {},
   "outputs": [
    {
     "data": {
      "text/html": [
       "<div>\n",
       "<style scoped>\n",
       "    .dataframe tbody tr th:only-of-type {\n",
       "        vertical-align: middle;\n",
       "    }\n",
       "\n",
       "    .dataframe tbody tr th {\n",
       "        vertical-align: top;\n",
       "    }\n",
       "\n",
       "    .dataframe thead th {\n",
       "        text-align: right;\n",
       "    }\n",
       "</style>\n",
       "<table border=\"1\" class=\"dataframe\">\n",
       "  <thead>\n",
       "    <tr style=\"text-align: right;\">\n",
       "      <th></th>\n",
       "      <th>Wii</th>\n",
       "      <th>NES</th>\n",
       "      <th>GB</th>\n",
       "      <th>DS</th>\n",
       "      <th>X360</th>\n",
       "      <th>PS3</th>\n",
       "      <th>PS2</th>\n",
       "      <th>SNES</th>\n",
       "      <th>GBA</th>\n",
       "      <th>PS4</th>\n",
       "      <th>...</th>\n",
       "      <th>DC</th>\n",
       "      <th>PSV</th>\n",
       "      <th>SAT</th>\n",
       "      <th>SCD</th>\n",
       "      <th>WS</th>\n",
       "      <th>NG</th>\n",
       "      <th>TG16</th>\n",
       "      <th>3DO</th>\n",
       "      <th>GG</th>\n",
       "      <th>PCFX</th>\n",
       "    </tr>\n",
       "  </thead>\n",
       "  <tbody>\n",
       "    <tr>\n",
       "      <th>2000</th>\n",
       "      <td>NaN</td>\n",
       "      <td>NaN</td>\n",
       "      <td>19.76</td>\n",
       "      <td>NaN</td>\n",
       "      <td>NaN</td>\n",
       "      <td>NaN</td>\n",
       "      <td>39.17</td>\n",
       "      <td>NaN</td>\n",
       "      <td>0.07</td>\n",
       "      <td>NaN</td>\n",
       "      <td>...</td>\n",
       "      <td>5.99</td>\n",
       "      <td>NaN</td>\n",
       "      <td>NaN</td>\n",
       "      <td>NaN</td>\n",
       "      <td>0.68</td>\n",
       "      <td>NaN</td>\n",
       "      <td>NaN</td>\n",
       "      <td>NaN</td>\n",
       "      <td>NaN</td>\n",
       "      <td>NaN</td>\n",
       "    </tr>\n",
       "    <tr>\n",
       "      <th>2001</th>\n",
       "      <td>NaN</td>\n",
       "      <td>NaN</td>\n",
       "      <td>9.24</td>\n",
       "      <td>NaN</td>\n",
       "      <td>NaN</td>\n",
       "      <td>NaN</td>\n",
       "      <td>166.43</td>\n",
       "      <td>NaN</td>\n",
       "      <td>61.53</td>\n",
       "      <td>NaN</td>\n",
       "      <td>...</td>\n",
       "      <td>1.07</td>\n",
       "      <td>NaN</td>\n",
       "      <td>NaN</td>\n",
       "      <td>NaN</td>\n",
       "      <td>0.28</td>\n",
       "      <td>NaN</td>\n",
       "      <td>NaN</td>\n",
       "      <td>NaN</td>\n",
       "      <td>NaN</td>\n",
       "      <td>NaN</td>\n",
       "    </tr>\n",
       "    <tr>\n",
       "      <th>2002</th>\n",
       "      <td>NaN</td>\n",
       "      <td>NaN</td>\n",
       "      <td>NaN</td>\n",
       "      <td>NaN</td>\n",
       "      <td>NaN</td>\n",
       "      <td>NaN</td>\n",
       "      <td>205.38</td>\n",
       "      <td>NaN</td>\n",
       "      <td>74.16</td>\n",
       "      <td>NaN</td>\n",
       "      <td>...</td>\n",
       "      <td>0.29</td>\n",
       "      <td>NaN</td>\n",
       "      <td>NaN</td>\n",
       "      <td>NaN</td>\n",
       "      <td>NaN</td>\n",
       "      <td>NaN</td>\n",
       "      <td>NaN</td>\n",
       "      <td>NaN</td>\n",
       "      <td>NaN</td>\n",
       "      <td>NaN</td>\n",
       "    </tr>\n",
       "    <tr>\n",
       "      <th>2003</th>\n",
       "      <td>NaN</td>\n",
       "      <td>NaN</td>\n",
       "      <td>NaN</td>\n",
       "      <td>NaN</td>\n",
       "      <td>NaN</td>\n",
       "      <td>NaN</td>\n",
       "      <td>184.31</td>\n",
       "      <td>NaN</td>\n",
       "      <td>56.67</td>\n",
       "      <td>NaN</td>\n",
       "      <td>...</td>\n",
       "      <td>NaN</td>\n",
       "      <td>NaN</td>\n",
       "      <td>NaN</td>\n",
       "      <td>NaN</td>\n",
       "      <td>NaN</td>\n",
       "      <td>NaN</td>\n",
       "      <td>NaN</td>\n",
       "      <td>NaN</td>\n",
       "      <td>NaN</td>\n",
       "      <td>NaN</td>\n",
       "    </tr>\n",
       "    <tr>\n",
       "      <th>2004</th>\n",
       "      <td>NaN</td>\n",
       "      <td>NaN</td>\n",
       "      <td>NaN</td>\n",
       "      <td>17.27</td>\n",
       "      <td>NaN</td>\n",
       "      <td>NaN</td>\n",
       "      <td>211.81</td>\n",
       "      <td>NaN</td>\n",
       "      <td>77.91</td>\n",
       "      <td>NaN</td>\n",
       "      <td>...</td>\n",
       "      <td>NaN</td>\n",
       "      <td>NaN</td>\n",
       "      <td>NaN</td>\n",
       "      <td>NaN</td>\n",
       "      <td>NaN</td>\n",
       "      <td>NaN</td>\n",
       "      <td>NaN</td>\n",
       "      <td>NaN</td>\n",
       "      <td>NaN</td>\n",
       "      <td>NaN</td>\n",
       "    </tr>\n",
       "    <tr>\n",
       "      <th>2005</th>\n",
       "      <td>NaN</td>\n",
       "      <td>NaN</td>\n",
       "      <td>NaN</td>\n",
       "      <td>130.14</td>\n",
       "      <td>8.25</td>\n",
       "      <td>NaN</td>\n",
       "      <td>160.66</td>\n",
       "      <td>NaN</td>\n",
       "      <td>33.86</td>\n",
       "      <td>NaN</td>\n",
       "      <td>...</td>\n",
       "      <td>NaN</td>\n",
       "      <td>NaN</td>\n",
       "      <td>NaN</td>\n",
       "      <td>NaN</td>\n",
       "      <td>NaN</td>\n",
       "      <td>NaN</td>\n",
       "      <td>NaN</td>\n",
       "      <td>NaN</td>\n",
       "      <td>NaN</td>\n",
       "      <td>NaN</td>\n",
       "    </tr>\n",
       "    <tr>\n",
       "      <th>2006</th>\n",
       "      <td>137.15</td>\n",
       "      <td>NaN</td>\n",
       "      <td>NaN</td>\n",
       "      <td>119.81</td>\n",
       "      <td>51.62</td>\n",
       "      <td>20.96</td>\n",
       "      <td>103.42</td>\n",
       "      <td>NaN</td>\n",
       "      <td>5.28</td>\n",
       "      <td>NaN</td>\n",
       "      <td>...</td>\n",
       "      <td>NaN</td>\n",
       "      <td>NaN</td>\n",
       "      <td>NaN</td>\n",
       "      <td>NaN</td>\n",
       "      <td>NaN</td>\n",
       "      <td>NaN</td>\n",
       "      <td>NaN</td>\n",
       "      <td>NaN</td>\n",
       "      <td>NaN</td>\n",
       "      <td>NaN</td>\n",
       "    </tr>\n",
       "    <tr>\n",
       "      <th>2007</th>\n",
       "      <td>152.77</td>\n",
       "      <td>NaN</td>\n",
       "      <td>NaN</td>\n",
       "      <td>146.94</td>\n",
       "      <td>95.41</td>\n",
       "      <td>73.19</td>\n",
       "      <td>75.99</td>\n",
       "      <td>NaN</td>\n",
       "      <td>3.40</td>\n",
       "      <td>NaN</td>\n",
       "      <td>...</td>\n",
       "      <td>0.02</td>\n",
       "      <td>NaN</td>\n",
       "      <td>NaN</td>\n",
       "      <td>NaN</td>\n",
       "      <td>NaN</td>\n",
       "      <td>NaN</td>\n",
       "      <td>NaN</td>\n",
       "      <td>NaN</td>\n",
       "      <td>NaN</td>\n",
       "      <td>NaN</td>\n",
       "    </tr>\n",
       "    <tr>\n",
       "      <th>2008</th>\n",
       "      <td>171.32</td>\n",
       "      <td>NaN</td>\n",
       "      <td>NaN</td>\n",
       "      <td>145.31</td>\n",
       "      <td>135.26</td>\n",
       "      <td>118.52</td>\n",
       "      <td>53.90</td>\n",
       "      <td>NaN</td>\n",
       "      <td>NaN</td>\n",
       "      <td>NaN</td>\n",
       "      <td>...</td>\n",
       "      <td>0.04</td>\n",
       "      <td>NaN</td>\n",
       "      <td>NaN</td>\n",
       "      <td>NaN</td>\n",
       "      <td>NaN</td>\n",
       "      <td>NaN</td>\n",
       "      <td>NaN</td>\n",
       "      <td>NaN</td>\n",
       "      <td>NaN</td>\n",
       "      <td>NaN</td>\n",
       "    </tr>\n",
       "    <tr>\n",
       "      <th>2009</th>\n",
       "      <td>206.97</td>\n",
       "      <td>NaN</td>\n",
       "      <td>NaN</td>\n",
       "      <td>119.54</td>\n",
       "      <td>120.29</td>\n",
       "      <td>130.93</td>\n",
       "      <td>26.40</td>\n",
       "      <td>NaN</td>\n",
       "      <td>NaN</td>\n",
       "      <td>NaN</td>\n",
       "      <td>...</td>\n",
       "      <td>NaN</td>\n",
       "      <td>NaN</td>\n",
       "      <td>NaN</td>\n",
       "      <td>NaN</td>\n",
       "      <td>NaN</td>\n",
       "      <td>NaN</td>\n",
       "      <td>NaN</td>\n",
       "      <td>NaN</td>\n",
       "      <td>NaN</td>\n",
       "      <td>NaN</td>\n",
       "    </tr>\n",
       "    <tr>\n",
       "      <th>2010</th>\n",
       "      <td>127.95</td>\n",
       "      <td>NaN</td>\n",
       "      <td>NaN</td>\n",
       "      <td>85.02</td>\n",
       "      <td>170.03</td>\n",
       "      <td>142.17</td>\n",
       "      <td>5.64</td>\n",
       "      <td>NaN</td>\n",
       "      <td>NaN</td>\n",
       "      <td>NaN</td>\n",
       "      <td>...</td>\n",
       "      <td>NaN</td>\n",
       "      <td>NaN</td>\n",
       "      <td>NaN</td>\n",
       "      <td>NaN</td>\n",
       "      <td>NaN</td>\n",
       "      <td>NaN</td>\n",
       "      <td>NaN</td>\n",
       "      <td>NaN</td>\n",
       "      <td>NaN</td>\n",
       "      <td>NaN</td>\n",
       "    </tr>\n",
       "    <tr>\n",
       "      <th>2011</th>\n",
       "      <td>59.65</td>\n",
       "      <td>NaN</td>\n",
       "      <td>NaN</td>\n",
       "      <td>26.18</td>\n",
       "      <td>143.84</td>\n",
       "      <td>156.78</td>\n",
       "      <td>0.45</td>\n",
       "      <td>NaN</td>\n",
       "      <td>NaN</td>\n",
       "      <td>NaN</td>\n",
       "      <td>...</td>\n",
       "      <td>NaN</td>\n",
       "      <td>4.63</td>\n",
       "      <td>NaN</td>\n",
       "      <td>NaN</td>\n",
       "      <td>NaN</td>\n",
       "      <td>NaN</td>\n",
       "      <td>NaN</td>\n",
       "      <td>NaN</td>\n",
       "      <td>NaN</td>\n",
       "      <td>NaN</td>\n",
       "    </tr>\n",
       "    <tr>\n",
       "      <th>2012</th>\n",
       "      <td>21.71</td>\n",
       "      <td>NaN</td>\n",
       "      <td>NaN</td>\n",
       "      <td>11.01</td>\n",
       "      <td>99.74</td>\n",
       "      <td>107.36</td>\n",
       "      <td>NaN</td>\n",
       "      <td>NaN</td>\n",
       "      <td>NaN</td>\n",
       "      <td>NaN</td>\n",
       "      <td>...</td>\n",
       "      <td>NaN</td>\n",
       "      <td>16.19</td>\n",
       "      <td>NaN</td>\n",
       "      <td>NaN</td>\n",
       "      <td>NaN</td>\n",
       "      <td>NaN</td>\n",
       "      <td>NaN</td>\n",
       "      <td>NaN</td>\n",
       "      <td>NaN</td>\n",
       "      <td>NaN</td>\n",
       "    </tr>\n",
       "    <tr>\n",
       "      <th>2013</th>\n",
       "      <td>8.59</td>\n",
       "      <td>NaN</td>\n",
       "      <td>NaN</td>\n",
       "      <td>1.54</td>\n",
       "      <td>88.58</td>\n",
       "      <td>113.25</td>\n",
       "      <td>NaN</td>\n",
       "      <td>NaN</td>\n",
       "      <td>NaN</td>\n",
       "      <td>25.99</td>\n",
       "      <td>...</td>\n",
       "      <td>NaN</td>\n",
       "      <td>10.59</td>\n",
       "      <td>NaN</td>\n",
       "      <td>NaN</td>\n",
       "      <td>NaN</td>\n",
       "      <td>NaN</td>\n",
       "      <td>NaN</td>\n",
       "      <td>NaN</td>\n",
       "      <td>NaN</td>\n",
       "      <td>NaN</td>\n",
       "    </tr>\n",
       "    <tr>\n",
       "      <th>2014</th>\n",
       "      <td>3.75</td>\n",
       "      <td>NaN</td>\n",
       "      <td>NaN</td>\n",
       "      <td>NaN</td>\n",
       "      <td>34.74</td>\n",
       "      <td>47.76</td>\n",
       "      <td>NaN</td>\n",
       "      <td>NaN</td>\n",
       "      <td>NaN</td>\n",
       "      <td>100.00</td>\n",
       "      <td>...</td>\n",
       "      <td>NaN</td>\n",
       "      <td>11.90</td>\n",
       "      <td>NaN</td>\n",
       "      <td>NaN</td>\n",
       "      <td>NaN</td>\n",
       "      <td>NaN</td>\n",
       "      <td>NaN</td>\n",
       "      <td>NaN</td>\n",
       "      <td>NaN</td>\n",
       "      <td>NaN</td>\n",
       "    </tr>\n",
       "    <tr>\n",
       "      <th>2015</th>\n",
       "      <td>1.14</td>\n",
       "      <td>NaN</td>\n",
       "      <td>NaN</td>\n",
       "      <td>NaN</td>\n",
       "      <td>11.96</td>\n",
       "      <td>16.82</td>\n",
       "      <td>NaN</td>\n",
       "      <td>NaN</td>\n",
       "      <td>NaN</td>\n",
       "      <td>118.90</td>\n",
       "      <td>...</td>\n",
       "      <td>NaN</td>\n",
       "      <td>6.25</td>\n",
       "      <td>NaN</td>\n",
       "      <td>NaN</td>\n",
       "      <td>NaN</td>\n",
       "      <td>NaN</td>\n",
       "      <td>NaN</td>\n",
       "      <td>NaN</td>\n",
       "      <td>NaN</td>\n",
       "      <td>NaN</td>\n",
       "    </tr>\n",
       "    <tr>\n",
       "      <th>2016</th>\n",
       "      <td>0.18</td>\n",
       "      <td>NaN</td>\n",
       "      <td>NaN</td>\n",
       "      <td>NaN</td>\n",
       "      <td>1.52</td>\n",
       "      <td>3.60</td>\n",
       "      <td>NaN</td>\n",
       "      <td>NaN</td>\n",
       "      <td>NaN</td>\n",
       "      <td>69.25</td>\n",
       "      <td>...</td>\n",
       "      <td>NaN</td>\n",
       "      <td>4.25</td>\n",
       "      <td>NaN</td>\n",
       "      <td>NaN</td>\n",
       "      <td>NaN</td>\n",
       "      <td>NaN</td>\n",
       "      <td>NaN</td>\n",
       "      <td>NaN</td>\n",
       "      <td>NaN</td>\n",
       "      <td>NaN</td>\n",
       "    </tr>\n",
       "  </tbody>\n",
       "</table>\n",
       "<p>17 rows × 31 columns</p>\n",
       "</div>"
      ],
      "text/plain": [
       "         Wii  NES     GB      DS    X360     PS3     PS2  SNES    GBA     PS4  \\\n",
       "2000     NaN  NaN  19.76     NaN     NaN     NaN   39.17   NaN   0.07     NaN   \n",
       "2001     NaN  NaN   9.24     NaN     NaN     NaN  166.43   NaN  61.53     NaN   \n",
       "2002     NaN  NaN    NaN     NaN     NaN     NaN  205.38   NaN  74.16     NaN   \n",
       "2003     NaN  NaN    NaN     NaN     NaN     NaN  184.31   NaN  56.67     NaN   \n",
       "2004     NaN  NaN    NaN   17.27     NaN     NaN  211.81   NaN  77.91     NaN   \n",
       "2005     NaN  NaN    NaN  130.14    8.25     NaN  160.66   NaN  33.86     NaN   \n",
       "2006  137.15  NaN    NaN  119.81   51.62   20.96  103.42   NaN   5.28     NaN   \n",
       "2007  152.77  NaN    NaN  146.94   95.41   73.19   75.99   NaN   3.40     NaN   \n",
       "2008  171.32  NaN    NaN  145.31  135.26  118.52   53.90   NaN    NaN     NaN   \n",
       "2009  206.97  NaN    NaN  119.54  120.29  130.93   26.40   NaN    NaN     NaN   \n",
       "2010  127.95  NaN    NaN   85.02  170.03  142.17    5.64   NaN    NaN     NaN   \n",
       "2011   59.65  NaN    NaN   26.18  143.84  156.78    0.45   NaN    NaN     NaN   \n",
       "2012   21.71  NaN    NaN   11.01   99.74  107.36     NaN   NaN    NaN     NaN   \n",
       "2013    8.59  NaN    NaN    1.54   88.58  113.25     NaN   NaN    NaN   25.99   \n",
       "2014    3.75  NaN    NaN     NaN   34.74   47.76     NaN   NaN    NaN  100.00   \n",
       "2015    1.14  NaN    NaN     NaN   11.96   16.82     NaN   NaN    NaN  118.90   \n",
       "2016    0.18  NaN    NaN     NaN    1.52    3.60     NaN   NaN    NaN   69.25   \n",
       "\n",
       "      ...    DC    PSV  SAT  SCD    WS  NG  TG16  3DO  GG  PCFX  \n",
       "2000  ...  5.99    NaN  NaN  NaN  0.68 NaN   NaN  NaN NaN   NaN  \n",
       "2001  ...  1.07    NaN  NaN  NaN  0.28 NaN   NaN  NaN NaN   NaN  \n",
       "2002  ...  0.29    NaN  NaN  NaN   NaN NaN   NaN  NaN NaN   NaN  \n",
       "2003  ...   NaN    NaN  NaN  NaN   NaN NaN   NaN  NaN NaN   NaN  \n",
       "2004  ...   NaN    NaN  NaN  NaN   NaN NaN   NaN  NaN NaN   NaN  \n",
       "2005  ...   NaN    NaN  NaN  NaN   NaN NaN   NaN  NaN NaN   NaN  \n",
       "2006  ...   NaN    NaN  NaN  NaN   NaN NaN   NaN  NaN NaN   NaN  \n",
       "2007  ...  0.02    NaN  NaN  NaN   NaN NaN   NaN  NaN NaN   NaN  \n",
       "2008  ...  0.04    NaN  NaN  NaN   NaN NaN   NaN  NaN NaN   NaN  \n",
       "2009  ...   NaN    NaN  NaN  NaN   NaN NaN   NaN  NaN NaN   NaN  \n",
       "2010  ...   NaN    NaN  NaN  NaN   NaN NaN   NaN  NaN NaN   NaN  \n",
       "2011  ...   NaN   4.63  NaN  NaN   NaN NaN   NaN  NaN NaN   NaN  \n",
       "2012  ...   NaN  16.19  NaN  NaN   NaN NaN   NaN  NaN NaN   NaN  \n",
       "2013  ...   NaN  10.59  NaN  NaN   NaN NaN   NaN  NaN NaN   NaN  \n",
       "2014  ...   NaN  11.90  NaN  NaN   NaN NaN   NaN  NaN NaN   NaN  \n",
       "2015  ...   NaN   6.25  NaN  NaN   NaN NaN   NaN  NaN NaN   NaN  \n",
       "2016  ...   NaN   4.25  NaN  NaN   NaN NaN   NaN  NaN NaN   NaN  \n",
       "\n",
       "[17 rows x 31 columns]"
      ]
     },
     "execution_count": 126,
     "metadata": {},
     "output_type": "execute_result"
    }
   ],
   "source": [
    "for item in platforms:\n",
    "    for year in range(2000, 2017):\n",
    "        platforms_data[item] = (df\n",
    "                            .query('platform == @item')\n",
    "                            .groupby('year_of_release')\n",
    "                            ['all_sales']\n",
    "                                .sum()\n",
    "                           )\n",
    "platforms_data"
   ]
  },
  {
   "cell_type": "markdown",
   "metadata": {},
   "source": [
    "#### График распределения по годам топ10 платформ по суммарным продажам"
   ]
  },
  {
   "cell_type": "markdown",
   "metadata": {},
   "source": [
    "###### Строим график для плафторм с 2000 года"
   ]
  },
  {
   "cell_type": "code",
   "execution_count": 127,
   "metadata": {
    "scrolled": true
   },
   "outputs": [
    {
     "data": {
      "image/png": "[encoded data removed]",
      "text/plain": [
       "<Figure size 720x360 with 1 Axes>"
      ]
     },
     "metadata": {
      "needs_background": "light"
     },
     "output_type": "display_data"
    }
   ],
   "source": [
    "for item in platforms:\n",
    "    if platforms_data[item].mean() > 0 and item in top_platforms:\n",
    "        platforms_data[item].plot(legend = True, \n",
    "                                  xlim = (1999, 2017), \n",
    "                                  grid  = True,\n",
    "                                  figsize = (10,5),\n",
    "                                  title = 'Объем продажв во всех регионах для Топ10 платформ по годам'\n",
    "                                  )"
   ]
  },
  {
   "cell_type": "markdown",
   "metadata": {},
   "source": [
    "Видно, что на PC всегда были продажи, эта платформа мегаживучая."
   ]
  },
  {
   "cell_type": "markdown",
   "metadata": {},
   "source": [
    "####  Популярные в прошлом платформы, у которых сейчас продажи на нуле"
   ]
  },
  {
   "cell_type": "markdown",
   "metadata": {},
   "source": [
    "Назовем такие платформы sad_platforms:"
   ]
  },
  {
   "cell_type": "code",
   "execution_count": 128,
   "metadata": {},
   "outputs": [
    {
     "name": "stdout",
     "output_type": "stream",
     "text": [
      "Популярные в прошлом платформы, у которых сейчас продажи на нуле:\n",
      "GB\n",
      "DS\n",
      "PS2\n",
      "GBA\n",
      "N64\n",
      "PS\n",
      "XB\n",
      "PSP\n",
      "GC\n",
      "DC\n",
      "WS\n"
     ]
    }
   ],
   "source": [
    "sad_platforms = []\n",
    "for item in platforms:\n",
    "    if (platforms_data[item].sum() > 0 \n",
    "        and np.isnan(platforms_data[item][2016])):\n",
    "        sad_platforms.append(item)\n",
    "        \n",
    "print('Популярные в прошлом платформы, у которых сейчас продажи на нуле:', *sad_platforms, sep=\"\\n\")"
   ]
  },
  {
   "cell_type": "markdown",
   "metadata": {},
   "source": [
    "Проверка того, что у случайной платформы когда-то были продажи, таких продаж было столько лет:"
   ]
  },
  {
   "cell_type": "code",
   "execution_count": 129,
   "metadata": {},
   "outputs": [
    {
     "data": {
      "text/plain": [
       "9"
      ]
     },
     "execution_count": 129,
     "metadata": {},
     "output_type": "execute_result"
    }
   ],
   "source": [
    "platforms_data['XB'].count()"
   ]
  },
  {
   "cell_type": "markdown",
   "metadata": {},
   "source": [
    "#### За какой характерный период появляются новые и исчезают старые платформы?"
   ]
  },
  {
   "cell_type": "markdown",
   "metadata": {},
   "source": [
    "Не совсем понятен вопрос, что подразумевается под появлением и исчезновением (как это описать количественно?)?\n",
    "Посчитаем сколько в среднем лет платформе удается продаваться во всем мире, будем считать это временем жизни платформы:"
   ]
  },
  {
   "cell_type": "markdown",
   "metadata": {},
   "source": [
    "###### Считаем сколько живет каждая платформа, если у неё были хоть какие-то продажи c 2000 года и не было продаж в 2016 году (уже умершие платформы)"
   ]
  },
  {
   "cell_type": "code",
   "execution_count": 130,
   "metadata": {},
   "outputs": [
    {
     "name": "stdout",
     "output_type": "stream",
     "text": [
      "Всего платформ с продажами с 2000 года и без продаж в 2016 году: 11\n",
      "Среднее время жизни платформы 6.7 лет\n"
     ]
    }
   ],
   "source": [
    "lifetime = []\n",
    "for item in platforms:\n",
    "    if ((platforms_data[item].sum() > 0) & (np.isnan(platforms_data.loc[2016, item]))): \n",
    "        age = platforms_data[item].count()\n",
    "        lifetime.append(age)\n",
    "    else:\n",
    "        lifetime.append(0)\n",
    "\n",
    "count = 0\n",
    "summa = 0\n",
    "for item in lifetime:\n",
    "    if item != 0:\n",
    "        count += 1\n",
    "        summa += item\n",
    "\n",
    "print('Всего платформ с продажами с 2000 года и без продаж в 2016 году:', count)\n",
    "print('Среднее время жизни платформы {:.1f}' .format(summa/count), 'лет')"
   ]
  },
  {
   "cell_type": "markdown",
   "metadata": {},
   "source": [
    "Среднее время жизни оказалось равным 6.7 лет. Если считать, что есть всего 2 процесса: рождение и умирание, можно предположить, что на каждый из процессов тратиться половина времени жизни. Хотя судя по графикам (на взгляд), умирание - более длительный процесс, пускай он длиться 4 года из всего времени жизни."
   ]
  },
  {
   "cell_type": "markdown",
   "metadata": {},
   "source": [
    "<div class=\"alert alert-warning\">\n",
    "<font size=\"5\"><b>Комментарий ревьюера</b></font>\n",
    "\n",
    "Значение средней продолжительности существования платформы приведено. Однако в анализ ты включил актуальные на настоящий момент платформы. Делать выводы по ним мы не можем, т.к. период их жизни еще продолжается. \n",
    "\n",
    "</div>"
   ]
  },
  {
   "cell_type": "markdown",
   "metadata": {},
   "source": [
    "Изменил код, теперь живые на 2016 год платформы не учитываются, время жизни получилось чуть меньше, но на вывод это не повлияло."
   ]
  },
  {
   "cell_type": "markdown",
   "metadata": {},
   "source": [
    "<div class=\"alert alert-success\">\n",
    "<font size=\"5\"><b>Комментарий ревьюера 2</b></font>\n",
    "\n",
    "Отлично 👍 \n",
    "\n",
    "</div>"
   ]
  },
  {
   "cell_type": "markdown",
   "metadata": {},
   "source": [
    "### Определите, данные за какой период нужно взять, чтобы исключить значимое искажение распределения по платформам в 2016 году."
   ]
  },
  {
   "cell_type": "markdown",
   "metadata": {},
   "source": [
    "Платформы, продавашиеся по всему миру в 2016 году и их общие продажи:"
   ]
  },
  {
   "cell_type": "code",
   "execution_count": 131,
   "metadata": {
    "scrolled": false
   },
   "outputs": [
    {
     "data": {
      "text/plain": [
       "Wii      0.18\n",
       "X360     1.52\n",
       "PS3      3.60\n",
       "PSV      4.25\n",
       "WiiU     4.60\n",
       "PC       5.25\n",
       "3DS     15.14\n",
       "XOne    26.15\n",
       "PS4     69.25\n",
       "Name: 2016, dtype: float64"
      ]
     },
     "execution_count": 131,
     "metadata": {},
     "output_type": "execute_result"
    }
   ],
   "source": [
    "(platforms_data\n",
    " .loc[2016]\n",
    " [platforms_data.loc[2016]>0]\n",
    " .sort_values())"
   ]
  },
  {
   "cell_type": "markdown",
   "metadata": {},
   "source": [
    "Для отобранных платформ построим график кумулитивных продаж по всему миру:"
   ]
  },
  {
   "cell_type": "code",
   "execution_count": 132,
   "metadata": {},
   "outputs": [
    {
     "data": {
      "text/plain": [
       "<AxesSubplot:title={'center':'Кумулитивные продажи за N лет в период до 2017 года'}>"
      ]
     },
     "execution_count": 132,
     "metadata": {},
     "output_type": "execute_result"
    },
    {
     "data": {
      "image/png": "[encoded data removed]",
      "text/plain": [
       "<Figure size 720x360 with 1 Axes>"
      ]
     },
     "metadata": {
      "needs_background": "light"
     },
     "output_type": "display_data"
    }
   ],
   "source": [
    "N = 5\n",
    "platforms_cumulative_sales = pd.DataFrame(index = (platforms_data\n",
    "                                                      .loc[2016][platforms_data.loc[2016]>0]\n",
    "                                                      .index), \n",
    "                                          columns = range(1,N+1)) \n",
    "#В колонках N лет суммарных продаж от 2016 года, т.е. 5 = суммарные продажи за 2012-2016 года\n",
    "for i in range(1, N+1):\n",
    "    for name in platforms_cumulative_sales.index:\n",
    "        platforms_cumulative_sales.loc[name, i] = platforms_data[name].loc[(2017-i):].sum() \n",
    "\n",
    "platforms_cumulative_sales.plot(\n",
    "    kind = \"bar\",\n",
    "    grid = True, \n",
    "    figsize = (10,5),\n",
    "    title = 'Кумулитивные продажи за N лет в период до 2017 года')"
   ]
  },
  {
   "cell_type": "markdown",
   "metadata": {},
   "source": [
    "Возникла гипотеза, что вопрос все таки о количестве выпущенных игр за год, а не о деньгах, проверем:"
   ]
  },
  {
   "cell_type": "code",
   "execution_count": 133,
   "metadata": {},
   "outputs": [
    {
     "data": {
      "text/html": [
       "<div>\n",
       "<style scoped>\n",
       "    .dataframe tbody tr th:only-of-type {\n",
       "        vertical-align: middle;\n",
       "    }\n",
       "\n",
       "    .dataframe tbody tr th {\n",
       "        vertical-align: top;\n",
       "    }\n",
       "\n",
       "    .dataframe thead th {\n",
       "        text-align: right;\n",
       "    }\n",
       "</style>\n",
       "<table border=\"1\" class=\"dataframe\">\n",
       "  <thead>\n",
       "    <tr style=\"text-align: right;\">\n",
       "      <th></th>\n",
       "      <th>name</th>\n",
       "      <th>year_of_release</th>\n",
       "      <th>genre</th>\n",
       "      <th>na_sales</th>\n",
       "      <th>eu_sales</th>\n",
       "      <th>jp_sales</th>\n",
       "      <th>other_sales</th>\n",
       "      <th>critic_score</th>\n",
       "      <th>user_score</th>\n",
       "      <th>rating</th>\n",
       "      <th>all_sales</th>\n",
       "    </tr>\n",
       "    <tr>\n",
       "      <th>platform</th>\n",
       "      <th></th>\n",
       "      <th></th>\n",
       "      <th></th>\n",
       "      <th></th>\n",
       "      <th></th>\n",
       "      <th></th>\n",
       "      <th></th>\n",
       "      <th></th>\n",
       "      <th></th>\n",
       "      <th></th>\n",
       "      <th></th>\n",
       "    </tr>\n",
       "  </thead>\n",
       "  <tbody>\n",
       "    <tr>\n",
       "      <th>3DS</th>\n",
       "      <td>46</td>\n",
       "      <td>46</td>\n",
       "      <td>46</td>\n",
       "      <td>46</td>\n",
       "      <td>46</td>\n",
       "      <td>46</td>\n",
       "      <td>46</td>\n",
       "      <td>10</td>\n",
       "      <td>12</td>\n",
       "      <td>14</td>\n",
       "      <td>46</td>\n",
       "    </tr>\n",
       "    <tr>\n",
       "      <th>PC</th>\n",
       "      <td>54</td>\n",
       "      <td>54</td>\n",
       "      <td>54</td>\n",
       "      <td>54</td>\n",
       "      <td>54</td>\n",
       "      <td>54</td>\n",
       "      <td>54</td>\n",
       "      <td>45</td>\n",
       "      <td>45</td>\n",
       "      <td>37</td>\n",
       "      <td>54</td>\n",
       "    </tr>\n",
       "    <tr>\n",
       "      <th>PS3</th>\n",
       "      <td>38</td>\n",
       "      <td>38</td>\n",
       "      <td>38</td>\n",
       "      <td>38</td>\n",
       "      <td>38</td>\n",
       "      <td>38</td>\n",
       "      <td>38</td>\n",
       "      <td>0</td>\n",
       "      <td>9</td>\n",
       "      <td>14</td>\n",
       "      <td>38</td>\n",
       "    </tr>\n",
       "    <tr>\n",
       "      <th>PS4</th>\n",
       "      <td>164</td>\n",
       "      <td>164</td>\n",
       "      <td>164</td>\n",
       "      <td>164</td>\n",
       "      <td>164</td>\n",
       "      <td>164</td>\n",
       "      <td>164</td>\n",
       "      <td>98</td>\n",
       "      <td>101</td>\n",
       "      <td>103</td>\n",
       "      <td>164</td>\n",
       "    </tr>\n",
       "    <tr>\n",
       "      <th>PSV</th>\n",
       "      <td>85</td>\n",
       "      <td>85</td>\n",
       "      <td>85</td>\n",
       "      <td>85</td>\n",
       "      <td>85</td>\n",
       "      <td>85</td>\n",
       "      <td>85</td>\n",
       "      <td>10</td>\n",
       "      <td>13</td>\n",
       "      <td>16</td>\n",
       "      <td>85</td>\n",
       "    </tr>\n",
       "    <tr>\n",
       "      <th>Wii</th>\n",
       "      <td>1</td>\n",
       "      <td>1</td>\n",
       "      <td>1</td>\n",
       "      <td>1</td>\n",
       "      <td>1</td>\n",
       "      <td>1</td>\n",
       "      <td>1</td>\n",
       "      <td>0</td>\n",
       "      <td>0</td>\n",
       "      <td>1</td>\n",
       "      <td>1</td>\n",
       "    </tr>\n",
       "    <tr>\n",
       "      <th>WiiU</th>\n",
       "      <td>14</td>\n",
       "      <td>14</td>\n",
       "      <td>14</td>\n",
       "      <td>14</td>\n",
       "      <td>14</td>\n",
       "      <td>14</td>\n",
       "      <td>14</td>\n",
       "      <td>9</td>\n",
       "      <td>9</td>\n",
       "      <td>12</td>\n",
       "      <td>14</td>\n",
       "    </tr>\n",
       "    <tr>\n",
       "      <th>X360</th>\n",
       "      <td>13</td>\n",
       "      <td>13</td>\n",
       "      <td>13</td>\n",
       "      <td>13</td>\n",
       "      <td>13</td>\n",
       "      <td>13</td>\n",
       "      <td>13</td>\n",
       "      <td>0</td>\n",
       "      <td>7</td>\n",
       "      <td>12</td>\n",
       "      <td>13</td>\n",
       "    </tr>\n",
       "    <tr>\n",
       "      <th>XOne</th>\n",
       "      <td>87</td>\n",
       "      <td>87</td>\n",
       "      <td>87</td>\n",
       "      <td>87</td>\n",
       "      <td>87</td>\n",
       "      <td>87</td>\n",
       "      <td>87</td>\n",
       "      <td>60</td>\n",
       "      <td>66</td>\n",
       "      <td>71</td>\n",
       "      <td>87</td>\n",
       "    </tr>\n",
       "  </tbody>\n",
       "</table>\n",
       "</div>"
      ],
      "text/plain": [
       "          name  year_of_release  genre  na_sales  eu_sales  jp_sales  \\\n",
       "platform                                                               \n",
       "3DS         46               46     46        46        46        46   \n",
       "PC          54               54     54        54        54        54   \n",
       "PS3         38               38     38        38        38        38   \n",
       "PS4        164              164    164       164       164       164   \n",
       "PSV         85               85     85        85        85        85   \n",
       "Wii          1                1      1         1         1         1   \n",
       "WiiU        14               14     14        14        14        14   \n",
       "X360        13               13     13        13        13        13   \n",
       "XOne        87               87     87        87        87        87   \n",
       "\n",
       "          other_sales  critic_score  user_score  rating  all_sales  \n",
       "platform                                                            \n",
       "3DS                46            10          12      14         46  \n",
       "PC                 54            45          45      37         54  \n",
       "PS3                38             0           9      14         38  \n",
       "PS4               164            98         101     103        164  \n",
       "PSV                85            10          13      16         85  \n",
       "Wii                 1             0           0       1          1  \n",
       "WiiU               14             9           9      12         14  \n",
       "X360               13             0           7      12         13  \n",
       "XOne               87            60          66      71         87  "
      ]
     },
     "execution_count": 133,
     "metadata": {},
     "output_type": "execute_result"
    }
   ],
   "source": [
    "year = 2015\n",
    "name = 'PS4'\n",
    "(df\n",
    "  .query('year_of_release > @year')\n",
    "  .groupby('platform')\n",
    "  .count()\n",
    " )"
   ]
  },
  {
   "cell_type": "code",
   "execution_count": 134,
   "metadata": {},
   "outputs": [
    {
     "data": {
      "text/plain": [
       "<AxesSubplot:title={'center':'Кумулитивное количество выпущенных игр за N лет в период до 2017 года'}>"
      ]
     },
     "execution_count": 134,
     "metadata": {},
     "output_type": "execute_result"
    },
    {
     "data": {
      "image/png": "[encoded data removed]",
      "text/plain": [
       "<Figure size 720x360 with 1 Axes>"
      ]
     },
     "metadata": {
      "needs_background": "light"
     },
     "output_type": "display_data"
    }
   ],
   "source": [
    "N = 8\n",
    "platforms_cumulative_released = pd.DataFrame(index = (df\n",
    "                                                      .query('year_of_release == 2016')['platform']\n",
    "                                                      .unique()),\n",
    "                                             columns = range(1,N+1)) \n",
    "for i in range(1, N+1):\n",
    "    year = 2016 - i\n",
    "    for name in platforms_cumulative_released.index:\n",
    "        platforms_cumulative_released.loc[name, i] = (df\n",
    "                                                          .query('year_of_release > @year')\n",
    "                                                          .groupby('platform')\n",
    "                                                          .count()\n",
    "                                                          .loc[name, 'name']) #выбирает строчку с именем игры и выдает значение в столбце \"name\"\n",
    "\n",
    "platforms_cumulative_released.plot(grid = True, \n",
    "                                   figsize = (10,5),\n",
    "                                   title = 'Кумулитивное количество выпущенных игр за N лет в период до 2017 года')"
   ]
  },
  {
   "cell_type": "markdown",
   "metadata": {},
   "source": [
    "Выглядит так, что синяя линия (данные только за 2016 год) наиболее ровная по сравнению с остальными. Посмотрим в сравнении с ближайшими линиями в более крупном масштабе:"
   ]
  },
  {
   "cell_type": "code",
   "execution_count": 135,
   "metadata": {},
   "outputs": [
    {
     "data": {
      "text/plain": [
       "<AxesSubplot:title={'center':'Кумулитивное количество выпущенных игр за N лет в период до 2017 года'}>"
      ]
     },
     "execution_count": 135,
     "metadata": {},
     "output_type": "execute_result"
    },
    {
     "data": {
      "image/png": "[encoded data removed]",
      "text/plain": [
       "<Figure size 720x360 with 1 Axes>"
      ]
     },
     "metadata": {
      "needs_background": "light"
     },
     "output_type": "display_data"
    }
   ],
   "source": [
    "# Тоже самое, только за меньшее количество лет\n",
    "N = 4\n",
    "platforms_cumulative_released.loc[:,:N].plot(grid = True, \n",
    "                                             figsize = (10,5),\n",
    "                                             title = 'Кумулитивное количество выпущенных игр за N лет в период до 2017 года')"
   ]
  },
  {
   "cell_type": "code",
   "execution_count": 136,
   "metadata": {
    "scrolled": false
   },
   "outputs": [
    {
     "name": "stdout",
     "output_type": "stream",
     "text": [
      "3DS PC PS3 PS4 PSV Wii WiiU X360 XOne \n",
      " 3DS PC PS3 PS4 PSV Wii WiiU X360 XOne\n"
     ]
    }
   ],
   "source": [
    "#Проверка на идентичность отбираемых платформ разными способами:\n",
    "print(*platforms_cumulative_released.index.sort_values(), '\\n',\n",
    "      *platforms_cumulative_sales.index.sort_values())"
   ]
  },
  {
   "cell_type": "markdown",
   "metadata": {},
   "source": [
    "Списки платформ идентичны, значит нет такого, чтобы на какую-то из платформ выходили игры но не продавались в 2016 году.\n",
    "\n",
    "Посмотрим ещё разок на данные за 2016 год:"
   ]
  },
  {
   "cell_type": "code",
   "execution_count": 137,
   "metadata": {},
   "outputs": [
    {
     "data": {
      "text/html": [
       "<div>\n",
       "<style scoped>\n",
       "    .dataframe tbody tr th:only-of-type {\n",
       "        vertical-align: middle;\n",
       "    }\n",
       "\n",
       "    .dataframe tbody tr th {\n",
       "        vertical-align: top;\n",
       "    }\n",
       "\n",
       "    .dataframe thead tr th {\n",
       "        text-align: left;\n",
       "    }\n",
       "\n",
       "    .dataframe thead tr:last-of-type th {\n",
       "        text-align: right;\n",
       "    }\n",
       "</style>\n",
       "<table border=\"1\" class=\"dataframe\">\n",
       "  <thead>\n",
       "    <tr>\n",
       "      <th></th>\n",
       "      <th colspan=\"8\" halign=\"left\">critic_score</th>\n",
       "      <th colspan=\"5\" halign=\"left\">user_score</th>\n",
       "      <th colspan=\"8\" halign=\"left\">all_sales</th>\n",
       "    </tr>\n",
       "    <tr>\n",
       "      <th></th>\n",
       "      <th>count</th>\n",
       "      <th>mean</th>\n",
       "      <th>std</th>\n",
       "      <th>min</th>\n",
       "      <th>25%</th>\n",
       "      <th>50%</th>\n",
       "      <th>75%</th>\n",
       "      <th>max</th>\n",
       "      <th>count</th>\n",
       "      <th>mean</th>\n",
       "      <th>...</th>\n",
       "      <th>75%</th>\n",
       "      <th>max</th>\n",
       "      <th>count</th>\n",
       "      <th>mean</th>\n",
       "      <th>std</th>\n",
       "      <th>min</th>\n",
       "      <th>25%</th>\n",
       "      <th>50%</th>\n",
       "      <th>75%</th>\n",
       "      <th>max</th>\n",
       "    </tr>\n",
       "    <tr>\n",
       "      <th>platform</th>\n",
       "      <th></th>\n",
       "      <th></th>\n",
       "      <th></th>\n",
       "      <th></th>\n",
       "      <th></th>\n",
       "      <th></th>\n",
       "      <th></th>\n",
       "      <th></th>\n",
       "      <th></th>\n",
       "      <th></th>\n",
       "      <th></th>\n",
       "      <th></th>\n",
       "      <th></th>\n",
       "      <th></th>\n",
       "      <th></th>\n",
       "      <th></th>\n",
       "      <th></th>\n",
       "      <th></th>\n",
       "      <th></th>\n",
       "      <th></th>\n",
       "      <th></th>\n",
       "    </tr>\n",
       "  </thead>\n",
       "  <tbody>\n",
       "    <tr>\n",
       "      <th>3DS</th>\n",
       "      <td>10.0</td>\n",
       "      <td>71.900000</td>\n",
       "      <td>7.093816</td>\n",
       "      <td>60.0</td>\n",
       "      <td>68.00</td>\n",
       "      <td>71.5</td>\n",
       "      <td>77.00</td>\n",
       "      <td>81.0</td>\n",
       "      <td>12.0</td>\n",
       "      <td>7.366667</td>\n",
       "      <td>...</td>\n",
       "      <td>7.950</td>\n",
       "      <td>8.7</td>\n",
       "      <td>46.0</td>\n",
       "      <td>0.329130</td>\n",
       "      <td>1.058533</td>\n",
       "      <td>0.01</td>\n",
       "      <td>0.0300</td>\n",
       "      <td>0.080</td>\n",
       "      <td>0.2100</td>\n",
       "      <td>7.14</td>\n",
       "    </tr>\n",
       "    <tr>\n",
       "      <th>PC</th>\n",
       "      <td>45.0</td>\n",
       "      <td>75.600000</td>\n",
       "      <td>11.590356</td>\n",
       "      <td>43.0</td>\n",
       "      <td>69.00</td>\n",
       "      <td>78.0</td>\n",
       "      <td>86.00</td>\n",
       "      <td>91.0</td>\n",
       "      <td>45.0</td>\n",
       "      <td>6.297778</td>\n",
       "      <td>...</td>\n",
       "      <td>7.500</td>\n",
       "      <td>8.7</td>\n",
       "      <td>54.0</td>\n",
       "      <td>0.097222</td>\n",
       "      <td>0.135916</td>\n",
       "      <td>0.01</td>\n",
       "      <td>0.0200</td>\n",
       "      <td>0.035</td>\n",
       "      <td>0.1200</td>\n",
       "      <td>0.65</td>\n",
       "    </tr>\n",
       "    <tr>\n",
       "      <th>PS3</th>\n",
       "      <td>0.0</td>\n",
       "      <td>NaN</td>\n",
       "      <td>NaN</td>\n",
       "      <td>NaN</td>\n",
       "      <td>NaN</td>\n",
       "      <td>NaN</td>\n",
       "      <td>NaN</td>\n",
       "      <td>NaN</td>\n",
       "      <td>9.0</td>\n",
       "      <td>4.411111</td>\n",
       "      <td>...</td>\n",
       "      <td>7.000</td>\n",
       "      <td>7.2</td>\n",
       "      <td>38.0</td>\n",
       "      <td>0.094737</td>\n",
       "      <td>0.120556</td>\n",
       "      <td>0.01</td>\n",
       "      <td>0.0300</td>\n",
       "      <td>0.065</td>\n",
       "      <td>0.1200</td>\n",
       "      <td>0.73</td>\n",
       "    </tr>\n",
       "    <tr>\n",
       "      <th>PS4</th>\n",
       "      <td>98.0</td>\n",
       "      <td>71.673469</td>\n",
       "      <td>12.322785</td>\n",
       "      <td>31.0</td>\n",
       "      <td>66.25</td>\n",
       "      <td>73.0</td>\n",
       "      <td>79.75</td>\n",
       "      <td>93.0</td>\n",
       "      <td>101.0</td>\n",
       "      <td>6.874257</td>\n",
       "      <td>...</td>\n",
       "      <td>7.900</td>\n",
       "      <td>8.8</td>\n",
       "      <td>164.0</td>\n",
       "      <td>0.422256</td>\n",
       "      <td>0.968877</td>\n",
       "      <td>0.01</td>\n",
       "      <td>0.0300</td>\n",
       "      <td>0.085</td>\n",
       "      <td>0.3525</td>\n",
       "      <td>7.60</td>\n",
       "    </tr>\n",
       "    <tr>\n",
       "      <th>PSV</th>\n",
       "      <td>10.0</td>\n",
       "      <td>74.300000</td>\n",
       "      <td>10.562512</td>\n",
       "      <td>60.0</td>\n",
       "      <td>65.50</td>\n",
       "      <td>75.0</td>\n",
       "      <td>81.75</td>\n",
       "      <td>93.0</td>\n",
       "      <td>13.0</td>\n",
       "      <td>7.776923</td>\n",
       "      <td>...</td>\n",
       "      <td>8.300</td>\n",
       "      <td>8.6</td>\n",
       "      <td>85.0</td>\n",
       "      <td>0.050000</td>\n",
       "      <td>0.056273</td>\n",
       "      <td>0.01</td>\n",
       "      <td>0.0200</td>\n",
       "      <td>0.030</td>\n",
       "      <td>0.0600</td>\n",
       "      <td>0.30</td>\n",
       "    </tr>\n",
       "    <tr>\n",
       "      <th>Wii</th>\n",
       "      <td>0.0</td>\n",
       "      <td>NaN</td>\n",
       "      <td>NaN</td>\n",
       "      <td>NaN</td>\n",
       "      <td>NaN</td>\n",
       "      <td>NaN</td>\n",
       "      <td>NaN</td>\n",
       "      <td>NaN</td>\n",
       "      <td>0.0</td>\n",
       "      <td>NaN</td>\n",
       "      <td>...</td>\n",
       "      <td>NaN</td>\n",
       "      <td>NaN</td>\n",
       "      <td>1.0</td>\n",
       "      <td>0.180000</td>\n",
       "      <td>NaN</td>\n",
       "      <td>0.18</td>\n",
       "      <td>0.1800</td>\n",
       "      <td>0.180</td>\n",
       "      <td>0.1800</td>\n",
       "      <td>0.18</td>\n",
       "    </tr>\n",
       "    <tr>\n",
       "      <th>WiiU</th>\n",
       "      <td>9.0</td>\n",
       "      <td>72.666667</td>\n",
       "      <td>10.677078</td>\n",
       "      <td>48.0</td>\n",
       "      <td>69.00</td>\n",
       "      <td>75.0</td>\n",
       "      <td>76.00</td>\n",
       "      <td>86.0</td>\n",
       "      <td>9.0</td>\n",
       "      <td>7.266667</td>\n",
       "      <td>...</td>\n",
       "      <td>8.000</td>\n",
       "      <td>8.5</td>\n",
       "      <td>14.0</td>\n",
       "      <td>0.328571</td>\n",
       "      <td>0.348135</td>\n",
       "      <td>0.01</td>\n",
       "      <td>0.0475</td>\n",
       "      <td>0.215</td>\n",
       "      <td>0.4075</td>\n",
       "      <td>1.03</td>\n",
       "    </tr>\n",
       "    <tr>\n",
       "      <th>X360</th>\n",
       "      <td>0.0</td>\n",
       "      <td>NaN</td>\n",
       "      <td>NaN</td>\n",
       "      <td>NaN</td>\n",
       "      <td>NaN</td>\n",
       "      <td>NaN</td>\n",
       "      <td>NaN</td>\n",
       "      <td>NaN</td>\n",
       "      <td>7.0</td>\n",
       "      <td>4.171429</td>\n",
       "      <td>...</td>\n",
       "      <td>6.100</td>\n",
       "      <td>6.9</td>\n",
       "      <td>13.0</td>\n",
       "      <td>0.116923</td>\n",
       "      <td>0.114483</td>\n",
       "      <td>0.02</td>\n",
       "      <td>0.0400</td>\n",
       "      <td>0.100</td>\n",
       "      <td>0.1200</td>\n",
       "      <td>0.38</td>\n",
       "    </tr>\n",
       "    <tr>\n",
       "      <th>XOne</th>\n",
       "      <td>60.0</td>\n",
       "      <td>73.833333</td>\n",
       "      <td>11.863870</td>\n",
       "      <td>35.0</td>\n",
       "      <td>66.75</td>\n",
       "      <td>76.0</td>\n",
       "      <td>83.25</td>\n",
       "      <td>91.0</td>\n",
       "      <td>66.0</td>\n",
       "      <td>6.598485</td>\n",
       "      <td>...</td>\n",
       "      <td>7.975</td>\n",
       "      <td>8.8</td>\n",
       "      <td>87.0</td>\n",
       "      <td>0.300575</td>\n",
       "      <td>0.549133</td>\n",
       "      <td>0.01</td>\n",
       "      <td>0.0200</td>\n",
       "      <td>0.060</td>\n",
       "      <td>0.2750</td>\n",
       "      <td>2.65</td>\n",
       "    </tr>\n",
       "  </tbody>\n",
       "</table>\n",
       "<p>9 rows × 24 columns</p>\n",
       "</div>"
      ],
      "text/plain": [
       "         critic_score                                                        \\\n",
       "                count       mean        std   min    25%   50%    75%   max   \n",
       "platform                                                                      \n",
       "3DS              10.0  71.900000   7.093816  60.0  68.00  71.5  77.00  81.0   \n",
       "PC               45.0  75.600000  11.590356  43.0  69.00  78.0  86.00  91.0   \n",
       "PS3               0.0        NaN        NaN   NaN    NaN   NaN    NaN   NaN   \n",
       "PS4              98.0  71.673469  12.322785  31.0  66.25  73.0  79.75  93.0   \n",
       "PSV              10.0  74.300000  10.562512  60.0  65.50  75.0  81.75  93.0   \n",
       "Wii               0.0        NaN        NaN   NaN    NaN   NaN    NaN   NaN   \n",
       "WiiU              9.0  72.666667  10.677078  48.0  69.00  75.0  76.00  86.0   \n",
       "X360              0.0        NaN        NaN   NaN    NaN   NaN    NaN   NaN   \n",
       "XOne             60.0  73.833333  11.863870  35.0  66.75  76.0  83.25  91.0   \n",
       "\n",
       "         user_score            ...             all_sales                      \\\n",
       "              count      mean  ...    75%  max     count      mean       std   \n",
       "platform                       ...                                             \n",
       "3DS            12.0  7.366667  ...  7.950  8.7      46.0  0.329130  1.058533   \n",
       "PC             45.0  6.297778  ...  7.500  8.7      54.0  0.097222  0.135916   \n",
       "PS3             9.0  4.411111  ...  7.000  7.2      38.0  0.094737  0.120556   \n",
       "PS4           101.0  6.874257  ...  7.900  8.8     164.0  0.422256  0.968877   \n",
       "PSV            13.0  7.776923  ...  8.300  8.6      85.0  0.050000  0.056273   \n",
       "Wii             0.0       NaN  ...    NaN  NaN       1.0  0.180000       NaN   \n",
       "WiiU            9.0  7.266667  ...  8.000  8.5      14.0  0.328571  0.348135   \n",
       "X360            7.0  4.171429  ...  6.100  6.9      13.0  0.116923  0.114483   \n",
       "XOne           66.0  6.598485  ...  7.975  8.8      87.0  0.300575  0.549133   \n",
       "\n",
       "                                             \n",
       "           min     25%    50%     75%   max  \n",
       "platform                                     \n",
       "3DS       0.01  0.0300  0.080  0.2100  7.14  \n",
       "PC        0.01  0.0200  0.035  0.1200  0.65  \n",
       "PS3       0.01  0.0300  0.065  0.1200  0.73  \n",
       "PS4       0.01  0.0300  0.085  0.3525  7.60  \n",
       "PSV       0.01  0.0200  0.030  0.0600  0.30  \n",
       "Wii       0.18  0.1800  0.180  0.1800  0.18  \n",
       "WiiU      0.01  0.0475  0.215  0.4075  1.03  \n",
       "X360      0.02  0.0400  0.100  0.1200  0.38  \n",
       "XOne      0.01  0.0200  0.060  0.2750  2.65  \n",
       "\n",
       "[9 rows x 24 columns]"
      ]
     },
     "execution_count": 137,
     "metadata": {},
     "output_type": "execute_result"
    }
   ],
   "source": [
    "df.query('year_of_release == 2016').groupby('platform').describe().loc[:,['critic_score', 'user_score',\n",
    "       'all_sales']]"
   ]
  },
  {
   "cell_type": "markdown",
   "metadata": {},
   "source": [
    "Какое именно значимое искажение распределения по платформам нужно было найти так и не понял."
   ]
  },
  {
   "cell_type": "markdown",
   "metadata": {},
   "source": [
    "### Далее работайте только с данными, которые вы определили. Не учитывайте данные за предыдущие годы."
   ]
  },
  {
   "cell_type": "markdown",
   "metadata": {},
   "source": [
    "Так как двигаться дальше надо, а что именно имелось в виду в предыдущем пункте не понятно, возьмем интервал в 4 года, как ориентировочное время умирания платформ."
   ]
  },
  {
   "cell_type": "code",
   "execution_count": 138,
   "metadata": {},
   "outputs": [],
   "source": [
    "start_year = 2013"
   ]
  },
  {
   "cell_type": "markdown",
   "metadata": {},
   "source": [
    "<div class=\"alert alert-success\">\n",
    "<font size=\"5\"><b>Комментарий ревьюера</b></font>\n",
    "\n",
    "Актуальный период назван. Так в рассмотрение попадут только последние поколения платформ, а также будем рассматривать только конечный на данный момент интервал развития игровой индустрии. \n",
    "\n",
    "</div>"
   ]
  },
  {
   "cell_type": "markdown",
   "metadata": {},
   "source": [
    "### Какие платформы лидируют по продажам, растут или падают? Выберите несколько потенциально прибыльных платформ."
   ]
  },
  {
   "cell_type": "code",
   "execution_count": 139,
   "metadata": {
    "scrolled": true
   },
   "outputs": [
    {
     "data": {
      "image/png": "[encoded data removed]",
      "text/plain": [
       "<Figure size 720x360 with 1 Axes>"
      ]
     },
     "metadata": {
      "needs_background": "light"
     },
     "output_type": "display_data"
    }
   ],
   "source": [
    "for item in platforms:\n",
    "    if (platforms_data[item].loc[start_year:].sum() > 0 #отсев платформ без продаж\n",
    "        and platforms_data[item].loc[2016] > 0): # у платформы есть продажи в 2016 году\n",
    "        platforms_data[item].loc[start_year:].plot(\n",
    "                                  legend = True, \n",
    "                                  #график только за выбранный промежуток времени:\n",
    "                                  xlim = (start_year-0.1, 2016.5), \n",
    "                                  ylim = (-5,130),\n",
    "                                  grid  = True,\n",
    "                                  xticks = range(start_year, start_year+4),\n",
    "                                  figsize = (10,5),\n",
    "                                  style = 'o-',\n",
    "                                  title = 'Продажи платформ во всех регионах по годам'\n",
    "                                  )"
   ]
  },
  {
   "cell_type": "markdown",
   "metadata": {},
   "source": [
    "Посмотрем на аутсайдеров более пристально:"
   ]
  },
  {
   "cell_type": "code",
   "execution_count": 140,
   "metadata": {
    "scrolled": false
   },
   "outputs": [
    {
     "data": {
      "image/png": "[encoded data removed]",
      "text/plain": [
       "<Figure size 720x360 with 1 Axes>"
      ]
     },
     "metadata": {
      "needs_background": "light"
     },
     "output_type": "display_data"
    }
   ],
   "source": [
    "for item in platforms:\n",
    "    if (platforms_data[item].loc[start_year:].sum() > 0 #отсев платформ без продаж\n",
    "        and platforms_data[item].loc[2016] > 0): # у платформы есть продажи в 2016 году\n",
    "        platforms_data[item].loc[start_year:].plot(\n",
    "                                  legend = True, \n",
    "                                  xlim = (start_year-0.1, 2016.5), \n",
    "                                  ylim = (-5,20),\n",
    "                                  grid  = True,\n",
    "                                  xticks = range(start_year, start_year+4),\n",
    "                                  figsize = (10,5),\n",
    "                                  style = 'o-',\n",
    "                                  title = 'Тоже самое только аутсайдеры крупно'\n",
    "                                  )"
   ]
  },
  {
   "cell_type": "markdown",
   "metadata": {},
   "source": [
    "Как видим PS4, XOne и 3DC (опционально) выделяются на фоне остальных платформ, они находятся в менее преклонном возрасте. При этом 3DC явно умирающая платформа, т.к. её продажи стабильно уменьшаются последние 4 года. Зарождения новых платформ не наблюдается (в предположении, что данные за 2016 год верные). Имея машину времени, мы узнаем, что следующая версия PS5 выйдет только в 2020 году, а XOne обновят в 16 и 17 годах.\n",
    "Проверим есть ли на указанных платформы игры, год выхода которых не был указан (со значением 0 в данных):"
   ]
  },
  {
   "cell_type": "code",
   "execution_count": 141,
   "metadata": {},
   "outputs": [],
   "source": [
    "df_0 = df.query('year_of_release == 0')"
   ]
  },
  {
   "cell_type": "code",
   "execution_count": 142,
   "metadata": {},
   "outputs": [
    {
     "name": "stdout",
     "output_type": "stream",
     "text": [
      "Количество игр с неуказанным годом релиза: 269\n",
      "Их продажи во всех регионах: 98.92 миллионов долларов\n",
      "Вышли на платформы: PS2 Wii 2600 X360 GBA PC PS3 PS PSP XB GB DS GC 3DS N64 PSV\n"
     ]
    }
   ],
   "source": [
    "print('Количество игр с неуказанным годом релиза:',df_0['all_sales'].count())\n",
    "print('Их продажи во всех регионах: {:.2f}' \n",
    "      .format(df_0['all_sales'].sum()),\n",
    "      'миллионов долларов')\n",
    "\n",
    "print('Вышли на платформы:', *df_0['platform'].unique())"
   ]
  },
  {
   "cell_type": "markdown",
   "metadata": {},
   "source": [
    "Почти 100 миллионов, это больше чем у XOne за 2015 год. При этом среди платформ нет PS4 и XOne, зато есть 3DS.\n",
    "\n",
    "Посмотрим к каким платформам могут прибавиться доходы, если учесть данные без даты: "
   ]
  },
  {
   "cell_type": "code",
   "execution_count": 143,
   "metadata": {},
   "outputs": [
    {
     "name": "stdout",
     "output_type": "stream",
     "text": [
      "Платформы с продажами в 2016 году и с играми без даты релиза: Wii X360 PC PS3 3DS PSV\n",
      "Суммарные продажи таких игр: 40.03\n"
     ]
    }
   ],
   "source": [
    "print('Платформы с продажами в 2016 году и с играми без даты релиза:', \n",
    "     (*df_0\n",
    "          .query('platform in @platforms_cumulative_sales.index')\n",
    "          ['platform']\n",
    "          .unique()\n",
    "     ))\n",
    "\n",
    "print('Суммарные продажи таких игр: {:.2f}' \n",
    "      .format(df_0\n",
    "              .query('platform in @platforms_cumulative_sales.index')\n",
    "              ['all_sales']\n",
    "              .sum()\n",
    "             ))"
   ]
  },
  {
   "cell_type": "markdown",
   "metadata": {},
   "source": [
    "В списке одни оутсайдеры, в среднем на каждую платформу приходится менее 7 млн долларов продаж, что не изменит фаворитов среди самых продаваемых платформ, посмотрим конкретнее как распределены эти доходы, вдруг там есть платформа, которые стянула на себя почти все продажи."
   ]
  },
  {
   "cell_type": "markdown",
   "metadata": {},
   "source": [
    "Все продажи платформ, которые:\n",
    "\n",
    "- имели продажи в 2016 году,\n",
    "\n",
    "- на которых вышли игры с неизвестной датой релиза:"
   ]
  },
  {
   "cell_type": "code",
   "execution_count": 144,
   "metadata": {
    "scrolled": true
   },
   "outputs": [
    {
     "data": {
      "text/plain": [
       "platform\n",
       "Wii     16.33\n",
       "X360    10.18\n",
       "PS3      8.31\n",
       "PC       3.76\n",
       "3DS      1.19\n",
       "PSV      0.26\n",
       "Name: all_sales, dtype: float64"
      ]
     },
     "execution_count": 144,
     "metadata": {},
     "output_type": "execute_result"
    }
   ],
   "source": [
    "(df_0 # год релиза = 0\n",
    " .query('platform in @platforms_cumulative_sales.index') #имееют продажи в 2016 году\n",
    " .groupby('platform')['all_sales']\n",
    "                                 .sum()\n",
    "                                 .sort_values(ascending = False))"
   ]
  },
  {
   "cell_type": "markdown",
   "metadata": {},
   "source": [
    "Как видим платформы показывают достаточно внушительные показатели для 2016 года (тот же Wii    имеет неучтенный объем продаж примерно равный 3DS в 2016 году), что будет если мы засчитаем игры для этих платформ в результаты 2016 года?"
   ]
  },
  {
   "cell_type": "code",
   "execution_count": 145,
   "metadata": {
    "scrolled": true
   },
   "outputs": [
    {
     "data": {
      "image/png": "[encoded data removed]",
      "text/plain": [
       "<Figure size 432x288 with 1 Axes>"
      ]
     },
     "metadata": {
      "needs_background": "light"
     },
     "output_type": "display_data"
    }
   ],
   "source": [
    "(df\n",
    " .query('year_of_release == 2016 or year_of_release == 0')\n",
    " .query('platform in @platforms_cumulative_sales.index') #имееют продажи в 2016 году\n",
    " .groupby('platform')['all_sales']\n",
    "                                 .sum()\n",
    "                                 .sort_values(ascending = False)\n",
    "                                 .plot(kind = 'bar',\n",
    "                                       title = 'Продажи платформ во всех регионах за 2016 и 2016+0 года'))\n",
    "(df\n",
    " .query('year_of_release == 2016')\n",
    " .query('platform in @platforms_cumulative_sales.index') #имееют продажи в 2016 году\n",
    " .groupby('platform')['all_sales']\n",
    "                                 .sum()\n",
    "                                 .sort_values(ascending = False)\n",
    "                                 .plot(kind = 'line',\n",
    "                                       style = 'ro-',\n",
    "                                       ))\n",
    "plt.legend(['2016','2016+0'])\n",
    "plt.grid(True)"
   ]
  },
  {
   "cell_type": "markdown",
   "metadata": {},
   "source": [
    "На лидеров не влияет добавление игр без года релиза, на PC же игры выходили во все года, поэтому скорее всего некорректно засчитывать все игры без даты в 2016 год.\n",
    "\n",
    "3DS явно умирающая платформа (хорошо видно по графику 'Продажи платформ во всех регионах по годам'), поэтому возьмем в качетсве перспективных платформ PS4, XOne и PC (как платформа долгожитель)."
   ]
  },
  {
   "cell_type": "markdown",
   "metadata": {},
   "source": [
    "<div class=\"alert alert-success\">\n",
    "<font size=\"5\"><b>Комментарий ревьюера</b></font>\n",
    "\n",
    "Да, именно вышеназванные платформы мы и можем назвать перспективными на 2017 год. Очень радует твой детальный подход к анализу и досканальный разбор каждого пункта 👍 \n",
    "\n",
    "</div>"
   ]
  },
  {
   "cell_type": "markdown",
   "metadata": {},
   "source": [
    "### Постройте график «ящик с усами» по глобальным продажам каждой игры и разбивкой по платформам. Велика ли разница в продажах? А в средних продажах на разных платформах? Опишите результат.\n"
   ]
  },
  {
   "cell_type": "code",
   "execution_count": 146,
   "metadata": {},
   "outputs": [],
   "source": [
    "#рассмотрим данные только за последний выбраынный период\n",
    "df4 = df.query('year_of_release > @start_year') "
   ]
  },
  {
   "cell_type": "markdown",
   "metadata": {},
   "source": [
    "Строим ящик с усами:"
   ]
  },
  {
   "cell_type": "code",
   "execution_count": 147,
   "metadata": {
    "scrolled": true
   },
   "outputs": [
    {
     "data": {
      "text/plain": [
       "(0.0, 1.5)"
      ]
     },
     "execution_count": 147,
     "metadata": {},
     "output_type": "execute_result"
    },
    {
     "data": {
      "image/png": "[encoded data removed]",
      "text/plain": [
       "<Figure size 720x360 with 1 Axes>"
      ]
     },
     "metadata": {
      "needs_background": "light"
     },
     "output_type": "display_data"
    }
   ],
   "source": [
    "df4.boxplot(\n",
    "    column = 'all_sales',\n",
    "    by = 'platform',\n",
    "    figsize = (10,5))\n",
    "plt.ylim(0,1.5)\n"
   ]
  },
  {
   "cell_type": "markdown",
   "metadata": {},
   "source": [
    "<div class=\"alert alert-success\">\n",
    "<font size=\"5\"><b>Комментарий ревьюера</b></font>\n",
    "\n",
    "С предупреждениями также стоит разобраться. Иногда их бывает слишком много, поэтому важно уметь их скрывать. В этом тебе поможет библиотека warnings. Попробуй найти подходящий метод и убрать предупреждения.  \n",
    "\n",
    "</div>"
   ]
  },
  {
   "cell_type": "markdown",
   "metadata": {},
   "source": [
    "###### Вынес обработку предупреждения в блок с импортом библиотек."
   ]
  },
  {
   "cell_type": "markdown",
   "metadata": {},
   "source": [
    "Есть 2 лагеря, в первый входят платформы с более высокой медианой (~0.2 млн) и верхним квартилем,что говорит о большом разбросе в продажах, это платформы: PS4, Wii, WiiU, X360, XOne. \n",
    "\n",
    "Во втором лагере значения ниже, медиана не превышает 0.1 млн. Платформа с самым низким разбросом и медианным уровнем продаж - PSP. \n",
    "\n",
    "Платформа с самым большим разбросом - PS4, следом идет XOne, имея при этом большую медиану. Считаю эти платформы наиболее перспективными."
   ]
  },
  {
   "cell_type": "markdown",
   "metadata": {},
   "source": [
    "<div class=\"alert alert-warning\">\n",
    "<font size=\"5\"><b>Комментарий ревьюера</b></font>\n",
    " \n",
    "Подумай, из-за чего формируется разница между платформами. Старайся не только описывать результат, но и трактовать его. \n",
    "\n",
    "</div>"
   ]
  },
  {
   "cell_type": "markdown",
   "metadata": {},
   "source": [
    "Платформы живут в разные временные промежутки, вполне логично, что более новые платформы имеют большие значения (медиану и разброс, например, сравним PS4 и PS3), т.к. с течением времени уменьшается покупательная способность денег, цены растут на все, в том числе и на игры.\n",
    "\n",
    "PSP и PCV - платформы, которые можно поместить в карман, скорее всего основными пользователями являются дети, у которых низкая покупательная способность. Для взрослых пользователей может работать психология, когда покупать что-то дорогое для чего-то маленького (все познается в сравнении) не комфортно. Осюда эти платформы имеют самые низкие медианы и разбросы.\n",
    "\n",
    "Также можно рассуждать о различиях в целевой аудитории платформ и их покупательной способности, из имеющихся данных мы можем говорить только об основном рынке продаж (что в некотором виде будет сделано ниже по коду), гипотез можно строить много - были бы данные.\n",
    "\n",
    "Возможно у платформ разные бизнес модели и договоренности с разработчиками игр."
   ]
  },
  {
   "cell_type": "markdown",
   "metadata": {},
   "source": [
    "<div class=\"alert alert-success\">\n",
    "<font size=\"5\"><b>Комментарий ревьюера 2</b></font>\n",
    "\n",
    "Отличный разбор причин, молодец! \n",
    "\n",
    "</div>"
   ]
  },
  {
   "cell_type": "markdown",
   "metadata": {},
   "source": [
    "### Посмотрите, как влияют на продажи внутри одной популярной платформы отзывы пользователей и критиков. Постройте диаграмму рассеяния и посчитайте корреляцию между отзывами и продажами. Сформулируйте выводы и соотнесите их с продажами игр на других платформах.\n"
   ]
  },
  {
   "cell_type": "markdown",
   "metadata": {},
   "source": [
    "Популярные платформы по количеству выпущенных игр:"
   ]
  },
  {
   "cell_type": "code",
   "execution_count": 148,
   "metadata": {
    "scrolled": true
   },
   "outputs": [
    {
     "name": "stdout",
     "output_type": "stream",
     "text": [
      "PS4\n",
      "PSV\n",
      "XOne\n",
      "PS3\n",
      "3DS\n",
      "PC\n",
      "X360\n",
      "WiiU\n"
     ]
    }
   ],
   "source": [
    "# df.groupby('platform').count().sort_values('name', ascending = False).head(10)\n",
    "top8_platforms_ngames = (df4\n",
    "                          .groupby('platform')\n",
    "                          .count()\n",
    "                          .sort_values('name', ascending = False)\n",
    "                          .head(8)\n",
    "                          .index)\n",
    "print(*top8_platforms_ngames, sep = '\\n')"
   ]
  },
  {
   "cell_type": "markdown",
   "metadata": {},
   "source": [
    "Выберем PS4 для анализа, эта платформа первая и по суммарным продажам и по количеству выпущенных игр на неё.\n",
    "Подготовим датафреймы для анализа оценок критиков и пользователей:"
   ]
  },
  {
   "cell_type": "code",
   "execution_count": 149,
   "metadata": {
    "scrolled": true
   },
   "outputs": [],
   "source": [
    "PS4_critics = (df4\n",
    "               .query('platform == \"PS4\"')\n",
    "               .pivot_table(index = 'critic_score', \n",
    "                            values = 'all_sales', \n",
    "                            aggfunc = ['median', 'count']))\n",
    "PS4_users = (df4\n",
    "               .query('platform == \"PS4\"')\n",
    "               .pivot_table(index = 'user_score', \n",
    "                            values = 'all_sales', \n",
    "                            aggfunc = ['median', 'count']))\n",
    "\n",
    "PS4_critics.columns = ['all_sales', 'count']\n",
    "PS4_users.columns = ['all_sales', 'count']\n",
    "PS4_critics['critic_score'] = PS4_critics.index\n",
    "PS4_users['user_score'] = PS4_users.index"
   ]
  },
  {
   "cell_type": "markdown",
   "metadata": {},
   "source": [
    "#### Зависимость мировых продаж от оценки критиков"
   ]
  },
  {
   "cell_type": "code",
   "execution_count": 150,
   "metadata": {
    "scrolled": true
   },
   "outputs": [
    {
     "data": {
      "text/plain": [
       "Text(0, 0.5, 'All sales ($ mn)')"
      ]
     },
     "execution_count": 150,
     "metadata": {},
     "output_type": "execute_result"
    },
    {
     "data": {
      "image/png": "[encoded data removed]",
      "text/plain": [
       "<Figure size 432x288 with 1 Axes>"
      ]
     },
     "metadata": {
      "needs_background": "light"
     },
     "output_type": "display_data"
    }
   ],
   "source": [
    "plt.plot(PS4_critics.index,PS4_critics['all_sales'], 'r.')\n",
    "plt.yscale('log')\n",
    "# plt.xscale('log')\n",
    "plt.title('Зависимость мировых продаж игр на PS4 от оценки критиков')\n",
    "plt.grid(True)\n",
    "plt.xlabel('Critic score')\n",
    "plt.ylabel('All sales ($ mn)')"
   ]
  },
  {
   "cell_type": "markdown",
   "metadata": {},
   "source": [
    "Ось \"У\" в логарифмическом масштабе, как видим, для игр с оценкой критиков меньше 60 есть некоторый разброс в продажах, при этом они не превышают 0.3 миллиона долларов. Для игр с оценкой выше 60 разброс существенно меньше и есть явная тенденция к увеличению объема продаж с увеличением оценки критиков, причем этот рост нелинейный, около экспоненциальный, при больших значениях быстрее экспоненциального (т.к. экспонента на полулогарифмическом масштабе будет представлена прямой линией)."
   ]
  },
  {
   "cell_type": "markdown",
   "metadata": {},
   "source": [
    "#### Зависимость мировых продаж от оценки пользователей"
   ]
  },
  {
   "cell_type": "code",
   "execution_count": 151,
   "metadata": {
    "scrolled": true
   },
   "outputs": [
    {
     "name": "stdout",
     "output_type": "stream",
     "text": [
      "Коэффициент наклона зеленой прямой: 0.01\n"
     ]
    },
    {
     "data": {
      "image/png": "[encoded data removed]",
      "text/plain": [
       "<Figure size 432x288 with 1 Axes>"
      ]
     },
     "metadata": {
      "needs_background": "light"
     },
     "output_type": "display_data"
    }
   ],
   "source": [
    "a, b = np.polyfit(PS4_users.query('all_sales < 1').index, PS4_users.query('all_sales < 1')['all_sales'], 1)\n",
    "plt.plot(PS4_users.index,PS4_users['all_sales'], 'b.', \n",
    "         PS4_users.index, a*PS4_users.index+b, 'g-')\n",
    "plt.title('Зависимость мировых продаж игр на PS4 от оценки пользователей')\n",
    "plt.grid(True)\n",
    "# plt.label(True)\n",
    "plt.xlabel('User score')\n",
    "plt.ylabel('All sales ($ mn)')\n",
    "plt.legend('')\n",
    "print('Коэффициент наклона зеленой прямой: {:.2f}' .format(a))"
   ]
  },
  {
   "cell_type": "markdown",
   "metadata": {},
   "source": [
    "Нет явной зависимости уровня продаж игры от оценки пользователей, зеленая прямая - линейная аппроксимация (отбрасывая значения больше 1, как выбросы), судя по её наклону - она горизонатльна, при этом выбросы: игры с рейтингом пользователей в районе 5 и 9 продаются лучше остальных."
   ]
  },
  {
   "cell_type": "markdown",
   "metadata": {},
   "source": [
    "#### Корреляции"
   ]
  },
  {
   "cell_type": "code",
   "execution_count": 152,
   "metadata": {},
   "outputs": [
    {
     "name": "stdout",
     "output_type": "stream",
     "text": [
      "Корреляция оценок критиков и продаж на PS4: 0.48\n",
      "Корреляция юзер оценок и продаж на PS4: 0.02\n"
     ]
    }
   ],
   "source": [
    "print('Корреляция оценок критиков и продаж на PS4: {:.2f}' \n",
    "      .format(PS4_critics['all_sales'].corr(PS4_critics['critic_score'])))\n",
    "\n",
    "print('Корреляция юзер оценок и продаж на PS4: {:.2f}'\n",
    "      .format(PS4_users['all_sales'].corr(PS4_users['user_score'])))"
   ]
  },
  {
   "cell_type": "markdown",
   "metadata": {},
   "source": [
    "Корреляция между оценками критиков и продажами положительная, но не сильная, между пользовательскими оценками и продажами корреляция отсутсвует.\n"
   ]
  },
  {
   "cell_type": "markdown",
   "metadata": {},
   "source": [
    "#### Сравнение корреляций с другими платформами"
   ]
  },
  {
   "cell_type": "markdown",
   "metadata": {},
   "source": [
    "Посмотрим на всех ли топ8 платформах (по количеству выпущенных игр) такая же ситуация:"
   ]
  },
  {
   "cell_type": "code",
   "execution_count": 153,
   "metadata": {},
   "outputs": [
    {
     "data": {
      "text/html": [
       "<div>\n",
       "<style scoped>\n",
       "    .dataframe tbody tr th:only-of-type {\n",
       "        vertical-align: middle;\n",
       "    }\n",
       "\n",
       "    .dataframe tbody tr th {\n",
       "        vertical-align: top;\n",
       "    }\n",
       "\n",
       "    .dataframe thead th {\n",
       "        text-align: right;\n",
       "    }\n",
       "</style>\n",
       "<table border=\"1\" class=\"dataframe\">\n",
       "  <thead>\n",
       "    <tr style=\"text-align: right;\">\n",
       "      <th></th>\n",
       "      <th>critic_corr</th>\n",
       "      <th>user_corr</th>\n",
       "    </tr>\n",
       "    <tr>\n",
       "      <th>platform</th>\n",
       "      <th></th>\n",
       "      <th></th>\n",
       "    </tr>\n",
       "  </thead>\n",
       "  <tbody>\n",
       "    <tr>\n",
       "      <th>PS4</th>\n",
       "      <td>0.476</td>\n",
       "      <td>0.019</td>\n",
       "    </tr>\n",
       "    <tr>\n",
       "      <th>PSV</th>\n",
       "      <td>0.158</td>\n",
       "      <td>-0.439</td>\n",
       "    </tr>\n",
       "    <tr>\n",
       "      <th>XOne</th>\n",
       "      <td>0.576</td>\n",
       "      <td>-0.098</td>\n",
       "    </tr>\n",
       "    <tr>\n",
       "      <th>PS3</th>\n",
       "      <td>0.463</td>\n",
       "      <td>-0.213</td>\n",
       "    </tr>\n",
       "    <tr>\n",
       "      <th>3DS</th>\n",
       "      <td>0.377</td>\n",
       "      <td>0.19</td>\n",
       "    </tr>\n",
       "    <tr>\n",
       "      <th>PC</th>\n",
       "      <td>0.51</td>\n",
       "      <td>-0.097</td>\n",
       "    </tr>\n",
       "    <tr>\n",
       "      <th>X360</th>\n",
       "      <td>0.569</td>\n",
       "      <td>-0.191</td>\n",
       "    </tr>\n",
       "    <tr>\n",
       "      <th>WiiU</th>\n",
       "      <td>0.505</td>\n",
       "      <td>0.458</td>\n",
       "    </tr>\n",
       "  </tbody>\n",
       "</table>\n",
       "</div>"
      ],
      "text/plain": [
       "         critic_corr user_corr\n",
       "platform                      \n",
       "PS4            0.476     0.019\n",
       "PSV            0.158    -0.439\n",
       "XOne           0.576    -0.098\n",
       "PS3            0.463    -0.213\n",
       "3DS            0.377      0.19\n",
       "PC              0.51    -0.097\n",
       "X360           0.569    -0.191\n",
       "WiiU           0.505     0.458"
      ]
     },
     "execution_count": 153,
     "metadata": {},
     "output_type": "execute_result"
    }
   ],
   "source": [
    "thetable = pd.DataFrame(index = top8_platforms_ngames, columns = ['critic_corr','user_corr'])\n",
    "for plat in top8_platforms_ngames:\n",
    "    cs = (df4 #critic_score\n",
    "           .query('platform == @plat')\n",
    "           .groupby('critic_score')\n",
    "           .median()\n",
    "           ['all_sales'])\n",
    "    \n",
    "    mytable = pd.DataFrame(index = cs.index, columns = ['cs', 'as'])\n",
    "    mytable['cs'] = cs\n",
    "    mytable['as'] = cs.index\n",
    "    critic_corr = round(mytable['cs'].corr(mytable['as']), 3)\n",
    "\n",
    "    us = (df4 #user_score\n",
    "           .query('platform == @plat')\n",
    "           .groupby('user_score')\n",
    "           .median()\n",
    "           ['all_sales'])\n",
    "    mytable2 = pd.DataFrame(index = us.index, columns = ['us', 'as'])\n",
    "    mytable2['us'] = us\n",
    "    mytable2['as'] = us.index\n",
    "    user_corr = round(mytable2['us'].corr(mytable2['as']), 3)\n",
    "    \n",
    "    thetable.loc[plat, 'critic_corr'] = critic_corr\n",
    "    thetable.loc[plat, 'user_corr'] = user_corr\n",
    "thetable"
   ]
  },
  {
   "cell_type": "markdown",
   "metadata": {},
   "source": [
    "Медианные значения для коэффициентов корреляции:"
   ]
  },
  {
   "cell_type": "code",
   "execution_count": 154,
   "metadata": {
    "scrolled": true
   },
   "outputs": [
    {
     "name": "stdout",
     "output_type": "stream",
     "text": [
      "critic_corr: 0.4905\n",
      "user_corr: -0.0975\n"
     ]
    }
   ],
   "source": [
    "print('critic_corr:', thetable['critic_corr'].median())\n",
    "print('user_corr:', thetable['user_corr'].median())"
   ]
  },
  {
   "cell_type": "markdown",
   "metadata": {},
   "source": [
    "На топ8 платформах по количеству выпущенных игр коэффициенты корреляции показывают похожие значение, что и вычисленные раннее (для PS4). Выбивается PSV, у которого отрицательная корреляция юзер оценок больше (по модулю), чем корреляция оценок критиков с продажами, также WiiU с почти одинаковыми корреляциями."
   ]
  },
  {
   "cell_type": "markdown",
   "metadata": {},
   "source": [
    "<div class=\"alert alert-success\">\n",
    "<font size=\"5\"><b>Комментарий ревьюера</b></font>\n",
    "\n",
    "Результат получен. Подумай, чем он вызван. Здорово, что рассмотрены несколько платформ. \n",
    "\n",
    "</div>"
   ]
  },
  {
   "cell_type": "markdown",
   "metadata": {},
   "source": [
    "Как правило критикам отгружают первые партии товаров, критики похвалили - люди ломанулись покупать, отсюда положительная корреляция. При раздумьях о приобретении товара человек в первую очередь будет обращать внимание на оценку критиков. Почему пользовательский рейтинг не влияет на продажи - загадка, предположу, что для покупателей просто не отображается пользовательский рейтинг или его не видно пока сам не проголосуешь."
   ]
  },
  {
   "cell_type": "markdown",
   "metadata": {},
   "source": [
    "### Посмотрите на общее распределение игр по жанрам. Что можно сказать о самых прибыльных жанрах? Выделяются ли жанры с высокими и низкими продажами?"
   ]
  },
  {
   "cell_type": "markdown",
   "metadata": {},
   "source": [
    "#### Количество выпущенных игр по жанрам:"
   ]
  },
  {
   "cell_type": "code",
   "execution_count": 155,
   "metadata": {
    "scrolled": true
   },
   "outputs": [
    {
     "data": {
      "text/plain": [
       "Text(0.5, 1.0, 'Количество выпущенных игр')"
      ]
     },
     "execution_count": 155,
     "metadata": {},
     "output_type": "execute_result"
    },
    {
     "data": {
      "image/png": "[encoded data removed]",
      "text/plain": [
       "<Figure size 432x288 with 1 Axes>"
      ]
     },
     "metadata": {
      "needs_background": "light"
     },
     "output_type": "display_data"
    }
   ],
   "source": [
    "games_in_genre = (df4\n",
    "                     .groupby('genre')\n",
    "                     .count()\n",
    "                     ['name']\n",
    "                     .sort_values(ascending = False)\n",
    "                 )\n",
    "games_in_genre.plot(kind = 'bar', grid = True)\n",
    "plt.ylabel('Штук')\n",
    "plt.title(\"Количество выпущенных игр\")"
   ]
  },
  {
   "cell_type": "markdown",
   "metadata": {},
   "source": [
    "Походу разработчикам больше нравится выпусать экшены, их в 3 раза больше, чем ближайших конкурентов.\n",
    "Посмотрим что лучше всего продается в целом."
   ]
  },
  {
   "cell_type": "markdown",
   "metadata": {},
   "source": [
    "#### Продажи по жанрам:"
   ]
  },
  {
   "cell_type": "code",
   "execution_count": 156,
   "metadata": {
    "scrolled": false
   },
   "outputs": [
    {
     "data": {
      "text/plain": [
       "Text(0.5, 1.0, 'Продажи во всех регионах')"
      ]
     },
     "execution_count": 156,
     "metadata": {},
     "output_type": "execute_result"
    },
    {
     "data": {
      "image/png": "[encoded data removed]",
      "text/plain": [
       "<Figure size 432x288 with 1 Axes>"
      ]
     },
     "metadata": {
      "needs_background": "light"
     },
     "output_type": "display_data"
    }
   ],
   "source": [
    "sales_in_genre = (df4\n",
    "                     .groupby('genre')['all_sales']\n",
    "                     .sum()\n",
    "                     .sort_values(ascending = False)\n",
    "                 )\n",
    "sales_in_genre.plot(kind = 'bar', grid = True)\n",
    "plt.ylabel('All sales ($ mn)')\n",
    "plt.title(\"Продажи во всех регионах\")"
   ]
  },
  {
   "cell_type": "code",
   "execution_count": 157,
   "metadata": {
    "scrolled": true
   },
   "outputs": [],
   "source": [
    "# sales_in_genre"
   ]
  },
  {
   "cell_type": "markdown",
   "metadata": {},
   "source": [
    "Экшены продаются не плохо (что не удивительно, ведь игр много), шутеры немного уступают (а игр выпущенных в этом жанре в 4 раза меньше), посмотрим сколько в среднем удельно приносит одна игра в жанре."
   ]
  },
  {
   "cell_type": "markdown",
   "metadata": {},
   "source": [
    "#### Удельные продажи на одну игру в жанре:"
   ]
  },
  {
   "cell_type": "code",
   "execution_count": 158,
   "metadata": {
    "scrolled": false
   },
   "outputs": [
    {
     "data": {
      "text/plain": [
       "Text(0.5, 1.0, 'Денег приносит одна игра')"
      ]
     },
     "execution_count": 158,
     "metadata": {},
     "output_type": "execute_result"
    },
    {
     "data": {
      "image/png": "[encoded data removed]",
      "text/plain": [
       "<Figure size 432x288 with 1 Axes>"
      ]
     },
     "metadata": {
      "needs_background": "light"
     },
     "output_type": "display_data"
    }
   ],
   "source": [
    "((sales_in_genre/games_in_genre)\n",
    "     .sort_values(ascending = False)\n",
    "     .plot(kind = 'bar', grid = True))\n",
    "plt.ylabel('All sales ($ mn)')\n",
    "plt.title(\"Денег приносит одна игра\")"
   ]
  },
  {
   "cell_type": "markdown",
   "metadata": {},
   "source": [
    "И в численном виде:"
   ]
  },
  {
   "cell_type": "code",
   "execution_count": 159,
   "metadata": {},
   "outputs": [
    {
     "data": {
      "text/plain": [
       "genre\n",
       "Shooter         1.34\n",
       "Sports          0.68\n",
       "Platform        0.48\n",
       "Fighting        0.47\n",
       "Role-Playing    0.46\n",
       "Racing          0.40\n",
       "Misc            0.33\n",
       "Action          0.32\n",
       "Simulation      0.30\n",
       "Puzzle          0.16\n",
       "Strategy        0.11\n",
       "Adventure       0.09\n",
       "dtype: float64"
      ]
     },
     "execution_count": 159,
     "metadata": {},
     "output_type": "execute_result"
    }
   ],
   "source": [
    "round((sales_in_genre/games_in_genre).sort_values(ascending = False), 2)"
   ]
  },
  {
   "cell_type": "markdown",
   "metadata": {},
   "source": [
    "Что и было замечено, Шутеры самый доходный вид игр, на втором месте (с отставанием почти в 2 раза) спортивные игры. Приключения и стратегии оказались наименее доходными жанрами."
   ]
  },
  {
   "cell_type": "markdown",
   "metadata": {},
   "source": [
    "Посмотрим на каких платформах выходили Шутеры:"
   ]
  },
  {
   "cell_type": "code",
   "execution_count": 160,
   "metadata": {
    "scrolled": false
   },
   "outputs": [
    {
     "name": "stdout",
     "output_type": "stream",
     "text": [
      "Всего шутеров: 128\n",
      "platform\n",
      "PS4     38\n",
      "XOne    36\n",
      "PC      21\n",
      "X360    15\n",
      "PS3     14\n",
      "WiiU     3\n",
      "PSV      1\n",
      "Name: name, dtype: int64\n"
     ]
    }
   ],
   "source": [
    "print('Всего шутеров:', df4\n",
    "             .query('genre == \"Shooter\"')\n",
    "             .count()\n",
    "             ['name']\n",
    "     )\n",
    "print(df4\n",
    " .query('genre == \"Shooter\"')\n",
    " .groupby('platform')\n",
    " .count()\n",
    " ['name']\n",
    " .sort_values(ascending = False)\n",
    ")"
   ]
  },
  {
   "cell_type": "markdown",
   "metadata": {},
   "source": [
    "Половина шутеров вышло на PS4 и XOne платформах. \n",
    "\n",
    "А что с приключениями (наименее доходный жанр):"
   ]
  },
  {
   "cell_type": "code",
   "execution_count": 161,
   "metadata": {
    "scrolled": true
   },
   "outputs": [
    {
     "name": "stdout",
     "output_type": "stream",
     "text": [
      "Всего приключений: 185\n",
      "platform\n",
      "PSV     74\n",
      "PS4     28\n",
      "PS3     21\n",
      "3DS     21\n",
      "XOne    14\n",
      "X360    11\n",
      "PC       8\n",
      "PSP      4\n",
      "WiiU     3\n",
      "Wii      1\n",
      "Name: name, dtype: int64\n"
     ]
    }
   ],
   "source": [
    "print('Всего приключений:', df4\n",
    "             .query('genre == \"Adventure\"')\n",
    "             .count()\n",
    "             ['name']\n",
    "     )\n",
    "print(df4\n",
    "         .query('genre == \"Adventure\"')\n",
    "         .groupby('platform')\n",
    "         .count()\n",
    "         ['name']\n",
    "         .sort_values(ascending = False)\n",
    ")"
   ]
  },
  {
   "cell_type": "markdown",
   "metadata": {},
   "source": [
    "Приключения же выходили в основном на PSV (чуть меньше половины)."
   ]
  },
  {
   "cell_type": "markdown",
   "metadata": {},
   "source": [
    "<div class=\"alert alert-success\">\n",
    "<font size=\"5\"><b>Комментарий ревьюера</b></font>\n",
    "\n",
    "Анализ популярности жанров проведен. Однако не стоит забывать, что производство игр в жанрах Action или Shooter обходится сильно дороже, чем производство Puzzle-игр. \n",
    "\n",
    "</div>"
   ]
  },
  {
   "cell_type": "markdown",
   "metadata": {},
   "source": [
    "Если добавить в данные иинформацию о стоимости разработки игры, то можно посчитать метрику дохода на единицу вложенных средств."
   ]
  },
  {
   "cell_type": "markdown",
   "metadata": {},
   "source": [
    "##  Составьте портрет пользователя каждого региона <a id='step5'></a>\n",
    "\n",
    "Определите для пользователя каждого региона (NA, EU, JP):"
   ]
  },
  {
   "cell_type": "markdown",
   "metadata": {},
   "source": [
    "[К плану работы ->](#contents)"
   ]
  },
  {
   "cell_type": "markdown",
   "metadata": {},
   "source": [
    "### Самые популярные платформы (топ-5). Опишите различия в долях продаж.\n"
   ]
  },
  {
   "cell_type": "markdown",
   "metadata": {},
   "source": [
    "Создадим датасеты для платформ под каждый регион:"
   ]
  },
  {
   "cell_type": "code",
   "execution_count": 162,
   "metadata": {},
   "outputs": [],
   "source": [
    "na_top5_plat = (df4\n",
    "                .groupby('platform')\n",
    "                .sum()\n",
    "                .sort_values('na_sales', ascending = False)\n",
    "                .head()\n",
    "                ['na_sales']\n",
    "               )\n",
    "\n",
    "eu_top5_plat = (df4\n",
    "                .groupby('platform')\n",
    "                .sum()\n",
    "                .sort_values('eu_sales', ascending = False)\n",
    "                .head()\n",
    "                ['eu_sales'])\n",
    "                \n",
    "jp_top5_plat = (df4\n",
    "                .groupby('platform')\n",
    "                .sum()\n",
    "                .sort_values('jp_sales', ascending = False)\n",
    "                .head()\n",
    "                ['jp_sales'])\n",
    "# na_top5_plat"
   ]
  },
  {
   "cell_type": "markdown",
   "metadata": {},
   "source": [
    "Доля продаж на платформах по регионам:"
   ]
  },
  {
   "cell_type": "code",
   "execution_count": 163,
   "metadata": {
    "scrolled": true
   },
   "outputs": [
    {
     "name": "stdout",
     "output_type": "stream",
     "text": [
      "-----na_sales-----\n",
      "Доля топ платформы: 39.0%\n",
      "Доля топ2 платформ: 71.1%\n",
      "топ2: PS4 XOne\n",
      "\n",
      "-----eu_sales-----\n",
      "Доля топ платформы: 55.1%\n",
      "Доля топ2 платформ: 74.7%\n",
      "топ2: PS4 XOne\n",
      "\n",
      "-----jp_sales-----\n",
      "Доля топ платформы: 47.9%\n",
      "Доля топ2 платформ: 64.2%\n",
      "топ2: 3DS PS4\n",
      "\n"
     ]
    }
   ],
   "source": [
    "region_top5_platforms = [na_top5_plat, eu_top5_plat, jp_top5_plat]\n",
    "for platform in region_top5_platforms:\n",
    "    print('-----{}-----' .format(platform.name))\n",
    "    print('Доля топ платформы: {:.1%}'.format(platform[0]/platform.sum()))\n",
    "    print('Доля топ2 платформ: {:.1%}'.format(platform[:2].sum()/platform.sum()))\n",
    "    print('топ2:', *[x for x in platform.index[:2]])\n",
    "    print()"
   ]
  },
  {
   "cell_type": "markdown",
   "metadata": {},
   "source": [
    "Для представления в графическом виде создадим общий список популярных платформ для всех регионов:"
   ]
  },
  {
   "cell_type": "code",
   "execution_count": 164,
   "metadata": {},
   "outputs": [],
   "source": [
    "top_plat_index = []\n",
    "for platform in region_top5_platforms:\n",
    "    for item in platform.index:\n",
    "        top_plat_index.append(item)"
   ]
  },
  {
   "cell_type": "markdown",
   "metadata": {},
   "source": [
    "Создадим датафрейм и построим столбчатую диаграмму:"
   ]
  },
  {
   "cell_type": "code",
   "execution_count": 165,
   "metadata": {},
   "outputs": [
    {
     "data": {
      "text/plain": [
       "[Text(0, 0.5, 'Продажи (млн. долларов)')]"
      ]
     },
     "execution_count": 165,
     "metadata": {},
     "output_type": "execute_result"
    },
    {
     "data": {
      "image/png": "[encoded data removed]",
      "text/plain": [
       "<Figure size 720x360 with 1 Axes>"
      ]
     },
     "metadata": {
      "needs_background": "light"
     },
     "output_type": "display_data"
    }
   ],
   "source": [
    "regions_top_plat = pd.DataFrame(index = set(top_plat_index))\n",
    "regions_top_plat['NA'] = na_top5_plat\n",
    "regions_top_plat['EU'] = eu_top5_plat\n",
    "regions_top_plat['JP'] = jp_top5_plat\n",
    "\n",
    "ax = (regions_top_plat\n",
    "     .sort_values(by = 'EU', \n",
    "                  ascending = False)\n",
    "     .plot(kind = 'bar',\n",
    "           grid = True,\n",
    "           figsize = (10,5),\n",
    "           title = \"Самые популярные платформы\")\n",
    ")\n",
    "\n",
    "ax.set(ylabel=\"Продажи (млн. долларов)\")"
   ]
  },
  {
   "cell_type": "markdown",
   "metadata": {},
   "source": [
    "В Северной Америке более 70% приходится на 2 платформы: PS4 и XOne, отличия в продажах на этих платформах около 20%.\n",
    "\n",
    "В Европе самой популярной платформой является PS4 (более половины всех продаж), на ней в 3 раза больше продаж, чем на XOne, следующей второй.\n",
    "\n",
    "В Японии почти половина продаж приходится на 3DS, на втором месте PS4 с примерно 15% рынка. XOne не входит в топ5 на японском рынке."
   ]
  },
  {
   "cell_type": "code",
   "execution_count": 166,
   "metadata": {},
   "outputs": [
    {
     "data": {
      "text/plain": [
       "platform\n",
       "3DS    44.24\n",
       "PS4    15.02\n",
       "PSV    14.54\n",
       "Name: jp_sales, dtype: float64"
      ]
     },
     "execution_count": 166,
     "metadata": {},
     "output_type": "execute_result"
    }
   ],
   "source": [
    "jp_top5_plat.head(3)"
   ]
  },
  {
   "cell_type": "markdown",
   "metadata": {},
   "source": [
    "### Самые популярные жанры (топ-5). Поясните разницу.\n"
   ]
  },
  {
   "cell_type": "code",
   "execution_count": 167,
   "metadata": {},
   "outputs": [],
   "source": [
    "na_top5_genre = (df4\n",
    "                .groupby('genre')\n",
    "                .sum()\n",
    "                .sort_values('na_sales', ascending = False)\n",
    "                .head()\n",
    "                ['na_sales']\n",
    "               )\n",
    "\n",
    "eu_top5_genre = (df4\n",
    "                .groupby('genre')\n",
    "                .sum()\n",
    "                .sort_values('eu_sales', ascending = False)\n",
    "                .head()\n",
    "                ['eu_sales'])\n",
    "                \n",
    "jp_top5_genre = (df4\n",
    "                .groupby('genre')\n",
    "                .sum()\n",
    "                .sort_values('jp_sales', ascending = False)\n",
    "                .head()\n",
    "                ['jp_sales'])"
   ]
  },
  {
   "cell_type": "code",
   "execution_count": 168,
   "metadata": {},
   "outputs": [
    {
     "data": {
      "text/plain": [
       "genre\n",
       "Role-Playing    31.16\n",
       "Action          29.58\n",
       "Fighting         6.37\n",
       "Misc             5.61\n",
       "Shooter          4.87\n",
       "Name: jp_sales, dtype: float64"
      ]
     },
     "execution_count": 168,
     "metadata": {},
     "output_type": "execute_result"
    }
   ],
   "source": [
    "jp_top5_genre"
   ]
  },
  {
   "cell_type": "code",
   "execution_count": 169,
   "metadata": {
    "scrolled": true
   },
   "outputs": [
    {
     "name": "stdout",
     "output_type": "stream",
     "text": [
      "-----na_sales-----\n",
      "Доля топ жанра: 32.1%\n",
      "Доля топ2 жанров: 61.6%\n",
      "топ2: Shooter Action\n",
      "\n",
      "-----eu_sales-----\n",
      "Доля топ жанра: 32.7%\n",
      "Доля топ2 жанров: 61.4%\n",
      "топ2: Action Shooter\n",
      "\n",
      "-----jp_sales-----\n",
      "Доля топ жанра: 40.2%\n",
      "Доля топ2 жанров: 78.3%\n",
      "топ2: Role-Playing Action\n",
      "\n"
     ]
    }
   ],
   "source": [
    "region_top5_genre = [na_top5_genre, eu_top5_genre, jp_top5_genre]\n",
    "for region in region_top5_genre:\n",
    "    print('-----{}-----' .format(region.name))\n",
    "    print('Доля топ жанра: {:.1%}'.format(region[0]/region.sum()))\n",
    "    print('Доля топ2 жанров: {:.1%}'.format(region[:2].sum()/region.sum()))\n",
    "    print('топ2:', *[x for x in region.index[:2]])\n",
    "    print()"
   ]
  },
  {
   "cell_type": "markdown",
   "metadata": {},
   "source": [
    "Для представления в графическом виде также создадим общий список популярных жанров для всех регионов:"
   ]
  },
  {
   "cell_type": "code",
   "execution_count": 170,
   "metadata": {},
   "outputs": [],
   "source": [
    "top_genres_index = []\n",
    "for region in region_top5_genre:\n",
    "    for item in region.index:\n",
    "        top_genres_index.append(item)"
   ]
  },
  {
   "cell_type": "markdown",
   "metadata": {},
   "source": [
    "Создадим датафрейм и построим столбчатую диаграмму:"
   ]
  },
  {
   "cell_type": "code",
   "execution_count": 171,
   "metadata": {},
   "outputs": [
    {
     "data": {
      "text/plain": [
       "[Text(0, 0.5, 'Продажи (млн. долларов)')]"
      ]
     },
     "execution_count": 171,
     "metadata": {},
     "output_type": "execute_result"
    },
    {
     "data": {
      "image/png": "[encoded data removed]",
      "text/plain": [
       "<Figure size 720x360 with 1 Axes>"
      ]
     },
     "metadata": {
      "needs_background": "light"
     },
     "output_type": "display_data"
    }
   ],
   "source": [
    "regions_top_genre = pd.DataFrame(index = set(top_genres_index))\n",
    "regions_top_genre['NA'] = na_top5_genre\n",
    "regions_top_genre['EU'] = eu_top5_genre\n",
    "regions_top_genre['JP'] = jp_top5_genre\n",
    "\n",
    "ax = (regions_top_genre\n",
    "     .sort_values(by = 'NA', \n",
    "                  ascending = False)\n",
    "     .plot(kind = 'bar',\n",
    "           grid = True,\n",
    "           figsize = (10,5),\n",
    "           title = \"Самые продаваемые жанры\"\n",
    "          )\n",
    ")\n",
    "\n",
    "ax.set(ylabel=\"Продажи (млн. долларов)\")"
   ]
  },
  {
   "cell_type": "markdown",
   "metadata": {},
   "source": [
    "В Северной Америке и Европе очень похожи топы популярных жанров, отличие в 5 позиции и Action в Европе более популярен, чем в Америке. Суммарно жанры Shooter и Action получают более 60% продаж в каждом регионе. Предпочтения в жанрах скорее всего связаны с культурными особенностями, как известно население Северной Америки состоит из европейских и африканских \"переселенцев\". \n",
    "\n",
    "Япония культурно далека от Европы, имеет собственную уникальную культуру, поэтому по продаваемости жанров совсем другая ситуация: самым популярным жанром является Role-Playing, немного отстает Action. Вместе эти 2 жанра закрывают почти 80% продаж в Японии."
   ]
  },
  {
   "cell_type": "markdown",
   "metadata": {},
   "source": [
    "<div class=\"alert alert-success\">\n",
    "<font size=\"5\"><b>Комментарий ревьюера</b></font>\n",
    "\n",
    "Соглашусь, культурные особенности сильно влияют и на игровой рынок. \n",
    "\n",
    "</div>"
   ]
  },
  {
   "cell_type": "markdown",
   "metadata": {},
   "source": [
    "### Влияет ли рейтинг ESRB на продажи в отдельном регионе?"
   ]
  },
  {
   "cell_type": "markdown",
   "metadata": {},
   "source": [
    "Всего вариантов рейтинга 5:\n"
   ]
  },
  {
   "cell_type": "code",
   "execution_count": 172,
   "metadata": {},
   "outputs": [
    {
     "name": "stdout",
     "output_type": "stream",
     "text": [
      "nan M E T E10+\n"
     ]
    }
   ],
   "source": [
    "print(*df4['rating'].unique())"
   ]
  },
  {
   "cell_type": "markdown",
   "metadata": {},
   "source": [
    "Количество игр с рейтингом НЕ \"nan\" и всего игр:\n"
   ]
  },
  {
   "cell_type": "code",
   "execution_count": 173,
   "metadata": {},
   "outputs": [
    {
     "data": {
      "text/plain": [
       "(940, 1689)"
      ]
     },
     "execution_count": 173,
     "metadata": {},
     "output_type": "execute_result"
    }
   ],
   "source": [
    "df4['rating'].count(), df4['name'].count()"
   ]
  },
  {
   "cell_type": "markdown",
   "metadata": {},
   "source": [
    "Заменим \"Nan\" на \"Absent\" для учета, как вариант рейтинга:"
   ]
  },
  {
   "cell_type": "code",
   "execution_count": 174,
   "metadata": {},
   "outputs": [],
   "source": [
    "df4['rating'] = df4['rating'].fillna('Absent')"
   ]
  },
  {
   "cell_type": "markdown",
   "metadata": {},
   "source": [
    "Как видно чуть больше половины игр имеют рейтинг. Рейтинг распределен  следующим образом (количесвто оценок соотвествующего рейтинга), важно, что получившиеся значения одного порядка (помимо Absent):"
   ]
  },
  {
   "cell_type": "code",
   "execution_count": 175,
   "metadata": {
    "scrolled": false
   },
   "outputs": [
    {
     "data": {
      "text/plain": [
       "rating\n",
       "E10+      185\n",
       "E         219\n",
       "M         265\n",
       "T         271\n",
       "Absent    749\n",
       "Name: name, dtype: int64"
      ]
     },
     "execution_count": 175,
     "metadata": {},
     "output_type": "execute_result"
    }
   ],
   "source": [
    "df4.groupby('rating').count()['name'].sort_values()"
   ]
  },
  {
   "cell_type": "markdown",
   "metadata": {},
   "source": [
    "Посмотрим как зависят продажи от рейтинга в разных регионах:"
   ]
  },
  {
   "cell_type": "code",
   "execution_count": 176,
   "metadata": {
    "scrolled": false
   },
   "outputs": [
    {
     "data": {
      "text/plain": [
       "[Text(0, 0.5, 'Продажи (млн. долларов)')]"
      ]
     },
     "execution_count": 176,
     "metadata": {},
     "output_type": "execute_result"
    },
    {
     "data": {
      "image/png": "[encoded data removed]",
      "text/plain": [
       "<Figure size 432x288 with 1 Axes>"
      ]
     },
     "metadata": {
      "needs_background": "light"
     },
     "output_type": "display_data"
    }
   ],
   "source": [
    "ax = (df4\n",
    " .groupby('rating')\n",
    " .sum()\n",
    " [['na_sales', 'eu_sales', 'jp_sales']]\n",
    " .sort_values(by = 'na_sales')\n",
    " .plot(title = 'Продажи в регионах в зависимости от рейтинга ESRB',\n",
    "       grid = True,\n",
    "       kind = 'bar'\n",
    "      )\n",
    ")\n",
    "ax.set(ylabel=\"Продажи (млн. долларов)\")"
   ]
  },
  {
   "cell_type": "markdown",
   "metadata": {},
   "source": [
    "Как видим в Японии менее выражена зависимость продаж от рейтинга, лучше всего продаются игры без рейтинга, можно подумать, что Японцы самодостаточны в выборе игр и не нуждаются в рекомендациях от сторонней организации. Если говорить про игры с рейтингом, то Т продаются лучше всего (примерно в полтора раза > E или M). В Европе и Америке ярко выраженная зависимость продаж от рейтинга, лучше всего продаются игры с рейтингом М, почти в 2 раза лучше, чем рейтинг M."
   ]
  },
  {
   "cell_type": "markdown",
   "metadata": {},
   "source": [
    "<div class=\"alert alert-danger\">\n",
    "<font size=\"5\"><b>Комментарий ревьюера</b></font>\n",
    "\n",
    "Обрати внимание - ты не учитываешь игры без рейтинга. В результате огромная часть игр просто выпадает из анализа. Найди способ учесть их при группировке значений по рейтингу.\n",
    "    \n",
    "</div>"
   ]
  },
  {
   "cell_type": "markdown",
   "metadata": {},
   "source": [
    "Добавил строку кода, теперь все учитывается. Сравнивая Японию с другими регионами можно предположить, что японцы намеренно покупают игры без рейтинга."
   ]
  },
  {
   "cell_type": "markdown",
   "metadata": {},
   "source": [
    "<div class=\"alert alert-success\">\n",
    "<font size=\"5\"><b>Комментарий ревьюера 2</b></font>\n",
    "\n",
    "Круто, ты заметил важную особенность данных - большая часть игр японского региона не имеет рейтинга. Однако причина в том, что в данной стране действует своя рейтинговая система CERO. Поэтому и рейтинга ESRB часто нет.  \n",
    "\n",
    "</div>"
   ]
  },
  {
   "cell_type": "markdown",
   "metadata": {},
   "source": [
    "##  Проведите исследование статистических показателей <a id='step6'></a>\n"
   ]
  },
  {
   "cell_type": "markdown",
   "metadata": {},
   "source": [
    "[К плану работы ->](#contents)"
   ]
  },
  {
   "cell_type": "markdown",
   "metadata": {},
   "source": [
    "### Как изменяется пользовательский рейтинг и рейтинг критиков в различных жанрах? "
   ]
  },
  {
   "cell_type": "markdown",
   "metadata": {},
   "source": [
    "Подготовим данные для построения графиков:"
   ]
  },
  {
   "cell_type": "code",
   "execution_count": 177,
   "metadata": {},
   "outputs": [],
   "source": [
    "genres = df4['genre'].unique()\n",
    "user_scores_by_genre = []\n",
    "critic_scores_by_genre = []\n",
    "for genre in genres:\n",
    "    temp_us = df4.query('genre == @genre')['user_score'].mean()\n",
    "    temp_cs = df4.query('genre == @genre')['critic_score'].mean()\n",
    "    user_scores_by_genre.append(temp_us)\n",
    "    critic_scores_by_genre.append(temp_cs)"
   ]
  },
  {
   "cell_type": "markdown",
   "metadata": {},
   "source": [
    "Посмотрим на среднее значение рейтинга каждого жанра с точки зрения пользователей и критиков:"
   ]
  },
  {
   "cell_type": "code",
   "execution_count": 178,
   "metadata": {
    "scrolled": false
   },
   "outputs": [
    {
     "data": {
      "text/plain": [
       "Text(0.5, 1.0, 'Mean user scores by genre')"
      ]
     },
     "execution_count": 178,
     "metadata": {},
     "output_type": "execute_result"
    },
    {
     "data": {
      "image/png": "[encoded data removed]",
      "text/plain": [
       "<Figure size 432x288 with 1 Axes>"
      ]
     },
     "metadata": {
      "needs_background": "light"
     },
     "output_type": "display_data"
    }
   ],
   "source": [
    "ax = plt.plot(genres, user_scores_by_genre, 'go')\n",
    "plt.xticks(rotation=90)\n",
    "plt.grid(True)\n",
    "plt.title('Mean user scores by genre')"
   ]
  },
  {
   "cell_type": "markdown",
   "metadata": {},
   "source": [
    "Самым низкооцениваемым жанром у пользователей оказался Спорт, высокооцениваемым - Пазлы."
   ]
  },
  {
   "cell_type": "code",
   "execution_count": 179,
   "metadata": {
    "scrolled": true
   },
   "outputs": [
    {
     "data": {
      "text/plain": [
       "Text(0.5, 1.0, 'Mean critic scores by genre')"
      ]
     },
     "execution_count": 179,
     "metadata": {},
     "output_type": "execute_result"
    },
    {
     "data": {
      "image/png": "[encoded data removed]",
      "text/plain": [
       "<Figure size 432x288 with 1 Axes>"
      ]
     },
     "metadata": {
      "needs_background": "light"
     },
     "output_type": "display_data"
    }
   ],
   "source": [
    "plt.plot(genres, critic_scores_by_genre, \"ro\")\n",
    "plt.xticks(rotation=90)\n",
    "plt.grid(True)\n",
    "plt.title('Mean critic scores by genre')"
   ]
  },
  {
   "cell_type": "markdown",
   "metadata": {},
   "source": [
    "У критиков же самым высокий рейтинг получили игры из жанра Платформы, самый низкий - Симуляторы."
   ]
  },
  {
   "cell_type": "markdown",
   "metadata": {},
   "source": [
    "Или вопрос про изменения оценок по жанрам во времени (год к году, например)?"
   ]
  },
  {
   "cell_type": "markdown",
   "metadata": {},
   "source": [
    "<div class=\"alert alert-success\">\n",
    "<font size=\"5\"><b>Комментарий ревьюера</b></font>\n",
    "\n",
    "Точки на графике соединять не стоит. Значения по оси X не связаны между собой. Лучше изменить тип графика на столбчатую диаграмму. \n",
    "    \n",
    "</div>"
   ]
  },
  {
   "cell_type": "markdown",
   "metadata": {},
   "source": [
    "Линии убрал, не нашел быстро как на столбчатой диаграмме изменить масштаб по оси У (параметр bottom делает смещение значений, set_ylim выдает ошибку)."
   ]
  },
  {
   "cell_type": "markdown",
   "metadata": {},
   "source": [
    "### Посчитайте среднее, количество, дисперсию и стандартное отклонение. "
   ]
  },
  {
   "cell_type": "markdown",
   "metadata": {},
   "source": [
    "Для пользовательских оценок:"
   ]
  },
  {
   "cell_type": "code",
   "execution_count": 180,
   "metadata": {
    "scrolled": true
   },
   "outputs": [
    {
     "data": {
      "text/html": [
       "<div>\n",
       "<style scoped>\n",
       "    .dataframe tbody tr th:only-of-type {\n",
       "        vertical-align: middle;\n",
       "    }\n",
       "\n",
       "    .dataframe tbody tr th {\n",
       "        vertical-align: top;\n",
       "    }\n",
       "\n",
       "    .dataframe thead th {\n",
       "        text-align: right;\n",
       "    }\n",
       "</style>\n",
       "<table border=\"1\" class=\"dataframe\">\n",
       "  <thead>\n",
       "    <tr style=\"text-align: right;\">\n",
       "      <th></th>\n",
       "      <th>count</th>\n",
       "      <th>mean</th>\n",
       "      <th>std</th>\n",
       "      <th>variance</th>\n",
       "    </tr>\n",
       "    <tr>\n",
       "      <th>genre</th>\n",
       "      <th></th>\n",
       "      <th></th>\n",
       "      <th></th>\n",
       "      <th></th>\n",
       "    </tr>\n",
       "  </thead>\n",
       "  <tbody>\n",
       "    <tr>\n",
       "      <th>Action</th>\n",
       "      <td>297.0</td>\n",
       "      <td>6.760606</td>\n",
       "      <td>1.377852</td>\n",
       "      <td>1.898477</td>\n",
       "    </tr>\n",
       "    <tr>\n",
       "      <th>Adventure</th>\n",
       "      <td>47.0</td>\n",
       "      <td>7.470213</td>\n",
       "      <td>1.253329</td>\n",
       "      <td>1.570833</td>\n",
       "    </tr>\n",
       "    <tr>\n",
       "      <th>Fighting</th>\n",
       "      <td>37.0</td>\n",
       "      <td>6.983784</td>\n",
       "      <td>1.348356</td>\n",
       "      <td>1.818063</td>\n",
       "    </tr>\n",
       "    <tr>\n",
       "      <th>Misc</th>\n",
       "      <td>41.0</td>\n",
       "      <td>6.968293</td>\n",
       "      <td>1.260047</td>\n",
       "      <td>1.587720</td>\n",
       "    </tr>\n",
       "    <tr>\n",
       "      <th>Platform</th>\n",
       "      <td>29.0</td>\n",
       "      <td>6.741379</td>\n",
       "      <td>1.789556</td>\n",
       "      <td>3.202512</td>\n",
       "    </tr>\n",
       "    <tr>\n",
       "      <th>Puzzle</th>\n",
       "      <td>4.0</td>\n",
       "      <td>7.975000</td>\n",
       "      <td>0.613052</td>\n",
       "      <td>0.375833</td>\n",
       "    </tr>\n",
       "    <tr>\n",
       "      <th>Racing</th>\n",
       "      <td>51.0</td>\n",
       "      <td>6.327451</td>\n",
       "      <td>1.590104</td>\n",
       "      <td>2.528431</td>\n",
       "    </tr>\n",
       "    <tr>\n",
       "      <th>Role-Playing</th>\n",
       "      <td>105.0</td>\n",
       "      <td>7.348571</td>\n",
       "      <td>1.317567</td>\n",
       "      <td>1.735984</td>\n",
       "    </tr>\n",
       "    <tr>\n",
       "      <th>Shooter</th>\n",
       "      <td>108.0</td>\n",
       "      <td>6.549074</td>\n",
       "      <td>1.382027</td>\n",
       "      <td>1.909999</td>\n",
       "    </tr>\n",
       "    <tr>\n",
       "      <th>Simulation</th>\n",
       "      <td>24.0</td>\n",
       "      <td>6.504167</td>\n",
       "      <td>1.584018</td>\n",
       "      <td>2.509112</td>\n",
       "    </tr>\n",
       "    <tr>\n",
       "      <th>Sports</th>\n",
       "      <td>127.0</td>\n",
       "      <td>5.225197</td>\n",
       "      <td>1.856604</td>\n",
       "      <td>3.446979</td>\n",
       "    </tr>\n",
       "    <tr>\n",
       "      <th>Strategy</th>\n",
       "      <td>18.0</td>\n",
       "      <td>7.216667</td>\n",
       "      <td>0.860403</td>\n",
       "      <td>0.740294</td>\n",
       "    </tr>\n",
       "  </tbody>\n",
       "</table>\n",
       "</div>"
      ],
      "text/plain": [
       "              count      mean       std  variance\n",
       "genre                                            \n",
       "Action        297.0  6.760606  1.377852  1.898477\n",
       "Adventure      47.0  7.470213  1.253329  1.570833\n",
       "Fighting       37.0  6.983784  1.348356  1.818063\n",
       "Misc           41.0  6.968293  1.260047  1.587720\n",
       "Platform       29.0  6.741379  1.789556  3.202512\n",
       "Puzzle          4.0  7.975000  0.613052  0.375833\n",
       "Racing         51.0  6.327451  1.590104  2.528431\n",
       "Role-Playing  105.0  7.348571  1.317567  1.735984\n",
       "Shooter       108.0  6.549074  1.382027  1.909999\n",
       "Simulation     24.0  6.504167  1.584018  2.509112\n",
       "Sports        127.0  5.225197  1.856604  3.446979\n",
       "Strategy       18.0  7.216667  0.860403  0.740294"
      ]
     },
     "execution_count": 180,
     "metadata": {},
     "output_type": "execute_result"
    }
   ],
   "source": [
    "user_score_desc = df4.groupby('genre')['user_score'].describe()[['count', 'mean', 'std']]\n",
    "user_score_desc['variance'] = user_score_desc['std']**2\n",
    "user_score_desc"
   ]
  },
  {
   "cell_type": "markdown",
   "metadata": {},
   "source": [
    "Для оценок критиков:"
   ]
  },
  {
   "cell_type": "code",
   "execution_count": 181,
   "metadata": {},
   "outputs": [
    {
     "data": {
      "text/html": [
       "<div>\n",
       "<style scoped>\n",
       "    .dataframe tbody tr th:only-of-type {\n",
       "        vertical-align: middle;\n",
       "    }\n",
       "\n",
       "    .dataframe tbody tr th {\n",
       "        vertical-align: top;\n",
       "    }\n",
       "\n",
       "    .dataframe thead th {\n",
       "        text-align: right;\n",
       "    }\n",
       "</style>\n",
       "<table border=\"1\" class=\"dataframe\">\n",
       "  <thead>\n",
       "    <tr style=\"text-align: right;\">\n",
       "      <th></th>\n",
       "      <th>count</th>\n",
       "      <th>mean</th>\n",
       "      <th>std</th>\n",
       "      <th>variance</th>\n",
       "    </tr>\n",
       "    <tr>\n",
       "      <th>genre</th>\n",
       "      <th></th>\n",
       "      <th></th>\n",
       "      <th></th>\n",
       "      <th></th>\n",
       "    </tr>\n",
       "  </thead>\n",
       "  <tbody>\n",
       "    <tr>\n",
       "      <th>Action</th>\n",
       "      <td>231.0</td>\n",
       "      <td>70.298701</td>\n",
       "      <td>12.136970</td>\n",
       "      <td>147.306042</td>\n",
       "    </tr>\n",
       "    <tr>\n",
       "      <th>Adventure</th>\n",
       "      <td>35.0</td>\n",
       "      <td>72.714286</td>\n",
       "      <td>10.141851</td>\n",
       "      <td>102.857143</td>\n",
       "    </tr>\n",
       "    <tr>\n",
       "      <th>Fighting</th>\n",
       "      <td>31.0</td>\n",
       "      <td>70.419355</td>\n",
       "      <td>10.151434</td>\n",
       "      <td>103.051613</td>\n",
       "    </tr>\n",
       "    <tr>\n",
       "      <th>Misc</th>\n",
       "      <td>33.0</td>\n",
       "      <td>73.606061</td>\n",
       "      <td>9.542469</td>\n",
       "      <td>91.058712</td>\n",
       "    </tr>\n",
       "    <tr>\n",
       "      <th>Platform</th>\n",
       "      <td>27.0</td>\n",
       "      <td>76.296296</td>\n",
       "      <td>11.973737</td>\n",
       "      <td>143.370370</td>\n",
       "    </tr>\n",
       "    <tr>\n",
       "      <th>Puzzle</th>\n",
       "      <td>4.0</td>\n",
       "      <td>77.250000</td>\n",
       "      <td>8.845903</td>\n",
       "      <td>78.250000</td>\n",
       "    </tr>\n",
       "    <tr>\n",
       "      <th>Racing</th>\n",
       "      <td>47.0</td>\n",
       "      <td>71.702128</td>\n",
       "      <td>9.822146</td>\n",
       "      <td>96.474561</td>\n",
       "    </tr>\n",
       "    <tr>\n",
       "      <th>Role-Playing</th>\n",
       "      <td>97.0</td>\n",
       "      <td>74.525773</td>\n",
       "      <td>11.741214</td>\n",
       "      <td>137.856100</td>\n",
       "    </tr>\n",
       "    <tr>\n",
       "      <th>Shooter</th>\n",
       "      <td>89.0</td>\n",
       "      <td>75.539326</td>\n",
       "      <td>10.874340</td>\n",
       "      <td>118.251277</td>\n",
       "    </tr>\n",
       "    <tr>\n",
       "      <th>Simulation</th>\n",
       "      <td>22.0</td>\n",
       "      <td>69.500000</td>\n",
       "      <td>10.729354</td>\n",
       "      <td>115.119048</td>\n",
       "    </tr>\n",
       "    <tr>\n",
       "      <th>Sports</th>\n",
       "      <td>84.0</td>\n",
       "      <td>70.214286</td>\n",
       "      <td>16.849491</td>\n",
       "      <td>283.905336</td>\n",
       "    </tr>\n",
       "    <tr>\n",
       "      <th>Strategy</th>\n",
       "      <td>18.0</td>\n",
       "      <td>77.888889</td>\n",
       "      <td>9.048165</td>\n",
       "      <td>81.869281</td>\n",
       "    </tr>\n",
       "  </tbody>\n",
       "</table>\n",
       "</div>"
      ],
      "text/plain": [
       "              count       mean        std    variance\n",
       "genre                                                \n",
       "Action        231.0  70.298701  12.136970  147.306042\n",
       "Adventure      35.0  72.714286  10.141851  102.857143\n",
       "Fighting       31.0  70.419355  10.151434  103.051613\n",
       "Misc           33.0  73.606061   9.542469   91.058712\n",
       "Platform       27.0  76.296296  11.973737  143.370370\n",
       "Puzzle          4.0  77.250000   8.845903   78.250000\n",
       "Racing         47.0  71.702128   9.822146   96.474561\n",
       "Role-Playing   97.0  74.525773  11.741214  137.856100\n",
       "Shooter        89.0  75.539326  10.874340  118.251277\n",
       "Simulation     22.0  69.500000  10.729354  115.119048\n",
       "Sports         84.0  70.214286  16.849491  283.905336\n",
       "Strategy       18.0  77.888889   9.048165   81.869281"
      ]
     },
     "execution_count": 181,
     "metadata": {},
     "output_type": "execute_result"
    }
   ],
   "source": [
    "critic_score_desc = df4.groupby('genre')['critic_score'].describe()[['count', 'mean', 'std']]\n",
    "critic_score_desc['variance'] = critic_score_desc['std']**2\n",
    "critic_score_desc"
   ]
  },
  {
   "cell_type": "markdown",
   "metadata": {},
   "source": [
    "<div class=\"alert alert-success\">\n",
    "<font size=\"5\"><b>Комментарий ревьюера</b></font>\n",
    "\n",
    "Круто, что все данные ты собрал в единую таблицу. Так нам прозе сравнивать жанры между собой. \n",
    "\n",
    "</div>"
   ]
  },
  {
   "cell_type": "markdown",
   "metadata": {},
   "source": [
    "Можно вызвать это же одной строчкой и в одну табличку, правда без дисперсии, но с доп информацией:"
   ]
  },
  {
   "cell_type": "code",
   "execution_count": 182,
   "metadata": {},
   "outputs": [
    {
     "data": {
      "text/html": [
       "<div>\n",
       "<style scoped>\n",
       "    .dataframe tbody tr th:only-of-type {\n",
       "        vertical-align: middle;\n",
       "    }\n",
       "\n",
       "    .dataframe tbody tr th {\n",
       "        vertical-align: top;\n",
       "    }\n",
       "\n",
       "    .dataframe thead tr th {\n",
       "        text-align: left;\n",
       "    }\n",
       "\n",
       "    .dataframe thead tr:last-of-type th {\n",
       "        text-align: right;\n",
       "    }\n",
       "</style>\n",
       "<table border=\"1\" class=\"dataframe\">\n",
       "  <thead>\n",
       "    <tr>\n",
       "      <th></th>\n",
       "      <th colspan=\"8\" halign=\"left\">user_score</th>\n",
       "      <th colspan=\"8\" halign=\"left\">critic_score</th>\n",
       "    </tr>\n",
       "    <tr>\n",
       "      <th></th>\n",
       "      <th>count</th>\n",
       "      <th>mean</th>\n",
       "      <th>std</th>\n",
       "      <th>min</th>\n",
       "      <th>25%</th>\n",
       "      <th>50%</th>\n",
       "      <th>75%</th>\n",
       "      <th>max</th>\n",
       "      <th>count</th>\n",
       "      <th>mean</th>\n",
       "      <th>std</th>\n",
       "      <th>min</th>\n",
       "      <th>25%</th>\n",
       "      <th>50%</th>\n",
       "      <th>75%</th>\n",
       "      <th>max</th>\n",
       "    </tr>\n",
       "    <tr>\n",
       "      <th>genre</th>\n",
       "      <th></th>\n",
       "      <th></th>\n",
       "      <th></th>\n",
       "      <th></th>\n",
       "      <th></th>\n",
       "      <th></th>\n",
       "      <th></th>\n",
       "      <th></th>\n",
       "      <th></th>\n",
       "      <th></th>\n",
       "      <th></th>\n",
       "      <th></th>\n",
       "      <th></th>\n",
       "      <th></th>\n",
       "      <th></th>\n",
       "      <th></th>\n",
       "    </tr>\n",
       "  </thead>\n",
       "  <tbody>\n",
       "    <tr>\n",
       "      <th>Action</th>\n",
       "      <td>297.0</td>\n",
       "      <td>6.760606</td>\n",
       "      <td>1.377852</td>\n",
       "      <td>2.0</td>\n",
       "      <td>6.100</td>\n",
       "      <td>7.10</td>\n",
       "      <td>7.700</td>\n",
       "      <td>9.0</td>\n",
       "      <td>231.0</td>\n",
       "      <td>70.298701</td>\n",
       "      <td>12.136970</td>\n",
       "      <td>26.0</td>\n",
       "      <td>65.00</td>\n",
       "      <td>72.0</td>\n",
       "      <td>77.00</td>\n",
       "      <td>97.0</td>\n",
       "    </tr>\n",
       "    <tr>\n",
       "      <th>Adventure</th>\n",
       "      <td>47.0</td>\n",
       "      <td>7.470213</td>\n",
       "      <td>1.253329</td>\n",
       "      <td>2.9</td>\n",
       "      <td>7.000</td>\n",
       "      <td>7.50</td>\n",
       "      <td>8.400</td>\n",
       "      <td>9.3</td>\n",
       "      <td>35.0</td>\n",
       "      <td>72.714286</td>\n",
       "      <td>10.141851</td>\n",
       "      <td>47.0</td>\n",
       "      <td>64.50</td>\n",
       "      <td>72.0</td>\n",
       "      <td>81.00</td>\n",
       "      <td>86.0</td>\n",
       "    </tr>\n",
       "    <tr>\n",
       "      <th>Fighting</th>\n",
       "      <td>37.0</td>\n",
       "      <td>6.983784</td>\n",
       "      <td>1.348356</td>\n",
       "      <td>2.9</td>\n",
       "      <td>6.300</td>\n",
       "      <td>7.40</td>\n",
       "      <td>7.800</td>\n",
       "      <td>8.7</td>\n",
       "      <td>31.0</td>\n",
       "      <td>70.419355</td>\n",
       "      <td>10.151434</td>\n",
       "      <td>49.0</td>\n",
       "      <td>62.00</td>\n",
       "      <td>71.0</td>\n",
       "      <td>78.00</td>\n",
       "      <td>86.0</td>\n",
       "    </tr>\n",
       "    <tr>\n",
       "      <th>Misc</th>\n",
       "      <td>41.0</td>\n",
       "      <td>6.968293</td>\n",
       "      <td>1.260047</td>\n",
       "      <td>4.1</td>\n",
       "      <td>6.200</td>\n",
       "      <td>7.00</td>\n",
       "      <td>8.000</td>\n",
       "      <td>8.7</td>\n",
       "      <td>33.0</td>\n",
       "      <td>73.606061</td>\n",
       "      <td>9.542469</td>\n",
       "      <td>46.0</td>\n",
       "      <td>72.00</td>\n",
       "      <td>76.0</td>\n",
       "      <td>80.00</td>\n",
       "      <td>84.0</td>\n",
       "    </tr>\n",
       "    <tr>\n",
       "      <th>Platform</th>\n",
       "      <td>29.0</td>\n",
       "      <td>6.741379</td>\n",
       "      <td>1.789556</td>\n",
       "      <td>3.4</td>\n",
       "      <td>5.100</td>\n",
       "      <td>7.20</td>\n",
       "      <td>8.300</td>\n",
       "      <td>8.9</td>\n",
       "      <td>27.0</td>\n",
       "      <td>76.296296</td>\n",
       "      <td>11.973737</td>\n",
       "      <td>48.0</td>\n",
       "      <td>72.50</td>\n",
       "      <td>78.0</td>\n",
       "      <td>85.00</td>\n",
       "      <td>91.0</td>\n",
       "    </tr>\n",
       "    <tr>\n",
       "      <th>Puzzle</th>\n",
       "      <td>4.0</td>\n",
       "      <td>7.975000</td>\n",
       "      <td>0.613052</td>\n",
       "      <td>7.4</td>\n",
       "      <td>7.475</td>\n",
       "      <td>7.95</td>\n",
       "      <td>8.450</td>\n",
       "      <td>8.6</td>\n",
       "      <td>4.0</td>\n",
       "      <td>77.250000</td>\n",
       "      <td>8.845903</td>\n",
       "      <td>70.0</td>\n",
       "      <td>70.00</td>\n",
       "      <td>75.5</td>\n",
       "      <td>82.75</td>\n",
       "      <td>88.0</td>\n",
       "    </tr>\n",
       "    <tr>\n",
       "      <th>Racing</th>\n",
       "      <td>51.0</td>\n",
       "      <td>6.327451</td>\n",
       "      <td>1.590104</td>\n",
       "      <td>1.6</td>\n",
       "      <td>5.200</td>\n",
       "      <td>6.40</td>\n",
       "      <td>7.700</td>\n",
       "      <td>9.1</td>\n",
       "      <td>47.0</td>\n",
       "      <td>71.702128</td>\n",
       "      <td>9.822146</td>\n",
       "      <td>48.0</td>\n",
       "      <td>64.50</td>\n",
       "      <td>71.0</td>\n",
       "      <td>79.50</td>\n",
       "      <td>91.0</td>\n",
       "    </tr>\n",
       "    <tr>\n",
       "      <th>Role-Playing</th>\n",
       "      <td>105.0</td>\n",
       "      <td>7.348571</td>\n",
       "      <td>1.317567</td>\n",
       "      <td>1.4</td>\n",
       "      <td>6.900</td>\n",
       "      <td>7.60</td>\n",
       "      <td>8.200</td>\n",
       "      <td>9.3</td>\n",
       "      <td>97.0</td>\n",
       "      <td>74.525773</td>\n",
       "      <td>11.741214</td>\n",
       "      <td>36.0</td>\n",
       "      <td>68.00</td>\n",
       "      <td>75.0</td>\n",
       "      <td>84.00</td>\n",
       "      <td>93.0</td>\n",
       "    </tr>\n",
       "    <tr>\n",
       "      <th>Shooter</th>\n",
       "      <td>108.0</td>\n",
       "      <td>6.549074</td>\n",
       "      <td>1.382027</td>\n",
       "      <td>3.0</td>\n",
       "      <td>5.775</td>\n",
       "      <td>6.85</td>\n",
       "      <td>7.700</td>\n",
       "      <td>8.5</td>\n",
       "      <td>89.0</td>\n",
       "      <td>75.539326</td>\n",
       "      <td>10.874340</td>\n",
       "      <td>35.0</td>\n",
       "      <td>71.00</td>\n",
       "      <td>78.0</td>\n",
       "      <td>82.00</td>\n",
       "      <td>93.0</td>\n",
       "    </tr>\n",
       "    <tr>\n",
       "      <th>Simulation</th>\n",
       "      <td>24.0</td>\n",
       "      <td>6.504167</td>\n",
       "      <td>1.584018</td>\n",
       "      <td>2.4</td>\n",
       "      <td>5.925</td>\n",
       "      <td>6.95</td>\n",
       "      <td>7.325</td>\n",
       "      <td>8.9</td>\n",
       "      <td>22.0</td>\n",
       "      <td>69.500000</td>\n",
       "      <td>10.729354</td>\n",
       "      <td>43.0</td>\n",
       "      <td>65.25</td>\n",
       "      <td>71.5</td>\n",
       "      <td>76.00</td>\n",
       "      <td>85.0</td>\n",
       "    </tr>\n",
       "    <tr>\n",
       "      <th>Sports</th>\n",
       "      <td>127.0</td>\n",
       "      <td>5.225197</td>\n",
       "      <td>1.856604</td>\n",
       "      <td>0.2</td>\n",
       "      <td>4.000</td>\n",
       "      <td>5.50</td>\n",
       "      <td>6.650</td>\n",
       "      <td>8.8</td>\n",
       "      <td>84.0</td>\n",
       "      <td>70.214286</td>\n",
       "      <td>16.849491</td>\n",
       "      <td>19.0</td>\n",
       "      <td>60.00</td>\n",
       "      <td>76.0</td>\n",
       "      <td>82.25</td>\n",
       "      <td>90.0</td>\n",
       "    </tr>\n",
       "    <tr>\n",
       "      <th>Strategy</th>\n",
       "      <td>18.0</td>\n",
       "      <td>7.216667</td>\n",
       "      <td>0.860403</td>\n",
       "      <td>5.4</td>\n",
       "      <td>7.100</td>\n",
       "      <td>7.30</td>\n",
       "      <td>7.925</td>\n",
       "      <td>8.3</td>\n",
       "      <td>18.0</td>\n",
       "      <td>77.888889</td>\n",
       "      <td>9.048165</td>\n",
       "      <td>63.0</td>\n",
       "      <td>71.00</td>\n",
       "      <td>80.0</td>\n",
       "      <td>86.75</td>\n",
       "      <td>88.0</td>\n",
       "    </tr>\n",
       "  </tbody>\n",
       "</table>\n",
       "</div>"
      ],
      "text/plain": [
       "             user_score                                                    \\\n",
       "                  count      mean       std  min    25%   50%    75%  max   \n",
       "genre                                                                       \n",
       "Action            297.0  6.760606  1.377852  2.0  6.100  7.10  7.700  9.0   \n",
       "Adventure          47.0  7.470213  1.253329  2.9  7.000  7.50  8.400  9.3   \n",
       "Fighting           37.0  6.983784  1.348356  2.9  6.300  7.40  7.800  8.7   \n",
       "Misc               41.0  6.968293  1.260047  4.1  6.200  7.00  8.000  8.7   \n",
       "Platform           29.0  6.741379  1.789556  3.4  5.100  7.20  8.300  8.9   \n",
       "Puzzle              4.0  7.975000  0.613052  7.4  7.475  7.95  8.450  8.6   \n",
       "Racing             51.0  6.327451  1.590104  1.6  5.200  6.40  7.700  9.1   \n",
       "Role-Playing      105.0  7.348571  1.317567  1.4  6.900  7.60  8.200  9.3   \n",
       "Shooter           108.0  6.549074  1.382027  3.0  5.775  6.85  7.700  8.5   \n",
       "Simulation         24.0  6.504167  1.584018  2.4  5.925  6.95  7.325  8.9   \n",
       "Sports            127.0  5.225197  1.856604  0.2  4.000  5.50  6.650  8.8   \n",
       "Strategy           18.0  7.216667  0.860403  5.4  7.100  7.30  7.925  8.3   \n",
       "\n",
       "             critic_score                                                  \\\n",
       "                    count       mean        std   min    25%   50%    75%   \n",
       "genre                                                                       \n",
       "Action              231.0  70.298701  12.136970  26.0  65.00  72.0  77.00   \n",
       "Adventure            35.0  72.714286  10.141851  47.0  64.50  72.0  81.00   \n",
       "Fighting             31.0  70.419355  10.151434  49.0  62.00  71.0  78.00   \n",
       "Misc                 33.0  73.606061   9.542469  46.0  72.00  76.0  80.00   \n",
       "Platform             27.0  76.296296  11.973737  48.0  72.50  78.0  85.00   \n",
       "Puzzle                4.0  77.250000   8.845903  70.0  70.00  75.5  82.75   \n",
       "Racing               47.0  71.702128   9.822146  48.0  64.50  71.0  79.50   \n",
       "Role-Playing         97.0  74.525773  11.741214  36.0  68.00  75.0  84.00   \n",
       "Shooter              89.0  75.539326  10.874340  35.0  71.00  78.0  82.00   \n",
       "Simulation           22.0  69.500000  10.729354  43.0  65.25  71.5  76.00   \n",
       "Sports               84.0  70.214286  16.849491  19.0  60.00  76.0  82.25   \n",
       "Strategy             18.0  77.888889   9.048165  63.0  71.00  80.0  86.75   \n",
       "\n",
       "                    \n",
       "               max  \n",
       "genre               \n",
       "Action        97.0  \n",
       "Adventure     86.0  \n",
       "Fighting      86.0  \n",
       "Misc          84.0  \n",
       "Platform      91.0  \n",
       "Puzzle        88.0  \n",
       "Racing        91.0  \n",
       "Role-Playing  93.0  \n",
       "Shooter       93.0  \n",
       "Simulation    85.0  \n",
       "Sports        90.0  \n",
       "Strategy      88.0  "
      ]
     },
     "execution_count": 182,
     "metadata": {},
     "output_type": "execute_result"
    }
   ],
   "source": [
    "df4.groupby('genre')[['user_score', 'critic_score']].describe()"
   ]
  },
  {
   "cell_type": "markdown",
   "metadata": {},
   "source": [
    "### Постройте гистограммы. Опишите распределения"
   ]
  },
  {
   "cell_type": "markdown",
   "metadata": {},
   "source": [
    "Для начала посмотрим на все оценки от пользователей и критиков:"
   ]
  },
  {
   "cell_type": "code",
   "execution_count": 183,
   "metadata": {},
   "outputs": [
    {
     "data": {
      "image/png": "[encoded data removed]",
      "text/plain": [
       "<Figure size 864x216 with 2 Axes>"
      ]
     },
     "metadata": {
      "needs_background": "light"
     },
     "output_type": "display_data"
    }
   ],
   "source": [
    "bins = 20\n",
    "fig, (ax1, ax2) = plt.subplots(1, 2, figsize=(12,3))\n",
    "fig.suptitle(\"\")\n",
    "ax1.hist(df4['user_score'],\n",
    "         bins = bins,\n",
    ")\n",
    "\n",
    "ax2.hist(df4['critic_score'],\n",
    "         bins = bins\n",
    ")\n",
    "fig.suptitle('Все оценки')\n",
    "ax1.set_title('Пользователи')\n",
    "ax2.set_title('Критики')\n",
    "ax1.grid()\n",
    "ax2.grid()"
   ]
  },
  {
   "cell_type": "markdown",
   "metadata": {},
   "source": [
    "Вывод с заполнением пропусков: Самый высокий столбец на обеих гистограммах - среднее значение, которые добавил вместо пропущенных значений. Для пользовательских оценок пик среднего совпадает с условным горбом распределения, и распределение имеет скошенный влево вид. Оценки критиков имеют скошенный вправо вид, хотя пик среднего \"хочется сместить вправо\"."
   ]
  },
  {
   "cell_type": "markdown",
   "metadata": {},
   "source": [
    "Вывод без заполнения пропусков: Оба распределения имеют скошенность влево, т.к. самые популярные оценки находятся на 70-80% шкалы, похоже это в человеческой природе - чаще оценивать выше среднего значения шкалы. Если бы действия происходили в России и странах СНГ, то можно было предположить, что дело в том что в школе была пятибальная система, в которой \"1\" явно лишняя оценка и все распредление оценок (по классу или школе, например) смещено в область больших значений, поэтому если пользователь оценивает что-либо как среднее значение шкалы - это означает удовлетворительно."
   ]
  },
  {
   "cell_type": "markdown",
   "metadata": {},
   "source": [
    "<div class=\"alert alert-warning\">\n",
    "<font size=\"5\"><b>Комментарий ревьюера</b></font>\n",
    "\n",
    "Заметь, как сильно искажены гистограммы отзывов. Посмотри на них без заполнения пропусков. \n",
    "\n",
    "</div>"
   ]
  },
  {
   "cell_type": "markdown",
   "metadata": {},
   "source": [
    "###### Исправил."
   ]
  },
  {
   "cell_type": "markdown",
   "metadata": {},
   "source": [
    "Постороим гистограммы оценок отдельно для каждого жанра:"
   ]
  },
  {
   "cell_type": "code",
   "execution_count": 184,
   "metadata": {},
   "outputs": [
    {
     "data": {
      "image/png": "[encoded data removed]",
      "text/plain": [
       "<Figure size 720x216 with 2 Axes>"
      ]
     },
     "metadata": {
      "needs_background": "light"
     },
     "output_type": "display_data"
    },
    {
     "data": {
      "image/png": "[encoded data removed]",
      "text/plain": [
       "<Figure size 720x216 with 2 Axes>"
      ]
     },
     "metadata": {
      "needs_background": "light"
     },
     "output_type": "display_data"
    },
    {
     "data": {
      "image/png": "[encoded data removed]",
      "text/plain": [
       "<Figure size 720x216 with 2 Axes>"
      ]
     },
     "metadata": {
      "needs_background": "light"
     },
     "output_type": "display_data"
    },
    {
     "data": {
      "image/png": "[encoded data removed]",
      "text/plain": [
       "<Figure size 720x216 with 2 Axes>"
      ]
     },
     "metadata": {
      "needs_background": "light"
     },
     "output_type": "display_data"
    },
    {
     "data": {
      "image/png": "[encoded data removed]",
      "text/plain": [
       "<Figure size 720x216 with 2 Axes>"
      ]
     },
     "metadata": {
      "needs_background": "light"
     },
     "output_type": "display_data"
    },
    {
     "data": {
      "image/png": "[encoded data removed]",
      "text/plain": [
       "<Figure size 720x216 with 2 Axes>"
      ]
     },
     "metadata": {
      "needs_background": "light"
     },
     "output_type": "display_data"
    },
    {
     "data": {
      "image/png": "[encoded data removed]",
      "text/plain": [
       "<Figure size 720x216 with 2 Axes>"
      ]
     },
     "metadata": {
      "needs_background": "light"
     },
     "output_type": "display_data"
    },
    {
     "data": {
      "image/png": "[encoded data removed]",
      "text/plain": [
       "<Figure size 720x216 with 2 Axes>"
      ]
     },
     "metadata": {
      "needs_background": "light"
     },
     "output_type": "display_data"
    },
    {
     "data": {
      "image/png": "[encoded data removed]",
      "text/plain": [
       "<Figure size 720x216 with 2 Axes>"
      ]
     },
     "metadata": {
      "needs_background": "light"
     },
     "output_type": "display_data"
    },
    {
     "data": {
      "image/png": "[encoded data removed]",
      "text/plain": [
       "<Figure size 720x216 with 2 Axes>"
      ]
     },
     "metadata": {
      "needs_background": "light"
     },
     "output_type": "display_data"
    },
    {
     "data": {
      "image/png": "[encoded data removed]",
      "text/plain": [
       "<Figure size 720x216 with 2 Axes>"
      ]
     },
     "metadata": {
      "needs_background": "light"
     },
     "output_type": "display_data"
    },
    {
     "data": {
      "image/png": "[encoded data removed]",
      "text/plain": [
       "<Figure size 720x216 with 2 Axes>"
      ]
     },
     "metadata": {
      "needs_background": "light"
     },
     "output_type": "display_data"
    }
   ],
   "source": [
    "for genre in genres:\n",
    "    bins = 20\n",
    "    fig, (ax1, ax2) = plt.subplots(1, 2, figsize=(10,3))\n",
    "    fig.suptitle(genre)\n",
    "    ax1.hist(df4.query('genre == @genre')['user_score'],\n",
    "             bins = bins\n",
    "    )\n",
    "\n",
    "    ax2.hist(df4.query('genre == @genre')['critic_score'],\n",
    "             bins = bins\n",
    "    )"
   ]
  },
  {
   "cell_type": "markdown",
   "metadata": {},
   "source": [
    "Возможно бессмысленные гистограммы. Симмуляторы, Приключения, Пазлы и Стратегии имеют слишком мало данных чтобы говорить что-либо о распределении. Шутеры, Экшены и Ролевые игры имеют относительно много оценок и можно сказать, что они имеют скошенность влево. Остальные жанры имеют среднее количество оценок, но считаю все равно малым количеством, чтобы что-то говорить о распределении."
   ]
  },
  {
   "cell_type": "markdown",
   "metadata": {},
   "source": [
    "<div class=\"alert alert-success\">\n",
    "<font size=\"5\"><b>Комментарий ревьюера</b></font>\n",
    "\n",
    "Как думаешь, почему по большинству жанров мы получаем скошенные влево распределения?\n",
    "\n",
    "</div>"
   ]
  },
  {
   "cell_type": "markdown",
   "metadata": {},
   "source": [
    "Предположу, что это результат завышения оценки, а это в свою очередь следствие устройства  психики человека в отношении процесса оценки."
   ]
  },
  {
   "cell_type": "markdown",
   "metadata": {},
   "source": [
    "<div class=\"alert alert-success\">\n",
    "<font size=\"5\"><b>Комментарий ревьюера 2</b></font>\n",
    "\n",
    "Соглашусь, у меня такое же мнение. Это же мы видим и по сериалам и фильмам, оценка в 6 считается довольно небольшой. \n",
    "\n",
    "</div>"
   ]
  },
  {
   "cell_type": "markdown",
   "metadata": {},
   "source": [
    "## Проверьте гипотезы <a id='step7'></a>\n"
   ]
  },
  {
   "cell_type": "markdown",
   "metadata": {},
   "source": [
    "[К плану работы ->](#contents)"
   ]
  },
  {
   "cell_type": "markdown",
   "metadata": {},
   "source": [
    "### Средние пользовательские рейтинги платформ Xbox One и PC одинаковые;\n",
    "Задайте самостоятельно пороговое значение alpha.\n",
    "Поясните:\n",
    "Как вы сформулировали нулевую и альтернативную гипотезы;\n",
    "Какой критерий применили для проверки гипотез и почему."
   ]
  },
  {
   "cell_type": "markdown",
   "metadata": {},
   "source": [
    "Возьмем уровень значимости в 1%:"
   ]
  },
  {
   "cell_type": "code",
   "execution_count": 185,
   "metadata": {},
   "outputs": [],
   "source": [
    "alpha = 0.01"
   ]
  },
  {
   "cell_type": "markdown",
   "metadata": {},
   "source": [
    "Количество оценок платформ Xbox One и PC:"
   ]
  },
  {
   "cell_type": "code",
   "execution_count": 186,
   "metadata": {},
   "outputs": [
    {
     "data": {
      "text/plain": [
       "(165, 122)"
      ]
     },
     "execution_count": 186,
     "metadata": {},
     "output_type": "execute_result"
    }
   ],
   "source": [
    "(df4.query('platform == \"XOne\"').count()['user_score'], \n",
    " df4.query('platform == \"PC\"').count()['user_score'])"
   ]
  },
  {
   "cell_type": "markdown",
   "metadata": {},
   "source": [
    "Двухсторонняя гипотеза.\n",
    "Нулевая гипотеза H₀: Средние пользовательские рейтинги платформ Xbox One и PC равны.\n",
    "\n",
    "Альтерантивная гипотеза H₁: Средние пользовательские рейтинги платформ Xbox One и PC не равны."
   ]
  },
  {
   "cell_type": "markdown",
   "metadata": {},
   "source": [
    "Подготовим датасеты:"
   ]
  },
  {
   "cell_type": "code",
   "execution_count": 187,
   "metadata": {},
   "outputs": [],
   "source": [
    "xone_scores = df4[df4['user_score'].isna() == False].query('platform == \"XOne\"')['user_score']\n",
    "pc_scores = df4[df4['user_score'].isna() == False].query('platform == \"PC\"')['user_score']\n",
    "# xone_scores"
   ]
  },
  {
   "cell_type": "markdown",
   "metadata": {},
   "source": [
    "Скорее всего пользователи XOne и PC это разные люди, соответвественно выборки независимы.\n",
    "Чтобы проверить гипотезу о равенстве среднего двух генеральных совокупностей по взятым из них выборкам, примените метод scipy.stats.ttest_ind:"
   ]
  },
  {
   "cell_type": "code",
   "execution_count": 188,
   "metadata": {},
   "outputs": [
    {
     "name": "stdout",
     "output_type": "stream",
     "text": [
      "p-значение: 0.10450507919348415\n",
      "Не получилось отвергнуть нулевую гипотезу\n"
     ]
    }
   ],
   "source": [
    "results = st.ttest_ind(xone_scores, pc_scores) \n",
    "\n",
    "print('p-значение:', results.pvalue)\n",
    "\n",
    "if results.pvalue < alpha:\n",
    "    print('Отвергаем нулевую гипотезу')\n",
    "else:\n",
    "    print('Не получилось отвергнуть нулевую гипотезу') "
   ]
  },
  {
   "cell_type": "markdown",
   "metadata": {},
   "source": [
    "Хоть средние пользовательские рейтинги не равны, с вероятностью чуть менее 5% такое или большее различие можно получить случайно. При использованных параматрах оставляем нулевую гипотезу."
   ]
  },
  {
   "cell_type": "markdown",
   "metadata": {},
   "source": [
    "<div class=\"alert alert-success\">\n",
    "<font size=\"5\"><b>Комментарий ревьюера</b></font>\n",
    "\n",
    "Гипотезы сформулированы и проверены верно. Почему выбран именно такой уровень статистической значимости?\n",
    "\n",
    "</div>"
   ]
  },
  {
   "cell_type": "markdown",
   "metadata": {},
   "source": [
    "В данным случае подошло бы и 5%, 1/100 больше нравится."
   ]
  },
  {
   "cell_type": "markdown",
   "metadata": {},
   "source": [
    "### Средние пользовательские рейтинги жанров Action (англ. «действие») и Sports (англ. «виды спорта») разные.\n",
    "Задайте самостоятельно пороговое значение alpha.\n",
    "Поясните:\n",
    "Как вы сформулировали нулевую и альтернативную гипотезы;\n",
    "Какой критерий применили для проверки гипотез и почему."
   ]
  },
  {
   "cell_type": "markdown",
   "metadata": {},
   "source": [
    "Возьмем уровень значимости в 1%:"
   ]
  },
  {
   "cell_type": "code",
   "execution_count": 189,
   "metadata": {},
   "outputs": [],
   "source": [
    "alpha = 0.01"
   ]
  },
  {
   "cell_type": "markdown",
   "metadata": {},
   "source": [
    "Н0: Средние пользовательские рейтинги жанров Action и Sports равны.\n",
    "\n",
    "Н1: Средние пользовательские рейтинги жанров Action и Sports не равны."
   ]
  },
  {
   "cell_type": "markdown",
   "metadata": {},
   "source": [
    "#### Проверка в случае независимых выборок"
   ]
  },
  {
   "cell_type": "markdown",
   "metadata": {},
   "source": [
    "Один и тот же пользователь может играть как в Экшн так и в Спорт, но предположу, что выборки независимы, тогда, как и в предыдущий раз, применю метод scipy.stats.ttest_ind:"
   ]
  },
  {
   "cell_type": "code",
   "execution_count": 190,
   "metadata": {},
   "outputs": [],
   "source": [
    "action_score = df4[df4['user_score'].isna() == False].query('genre == \"Action\"')['user_score']\n",
    "sports_score = df4[df4['user_score'].isna() == False].query('genre == \"Sports\"')['user_score']"
   ]
  },
  {
   "cell_type": "code",
   "execution_count": 191,
   "metadata": {},
   "outputs": [
    {
     "name": "stdout",
     "output_type": "stream",
     "text": [
      "p-значение:  2.8711147985105864e-19\n",
      "Отвергаем нулевую гипотезу\n"
     ]
    }
   ],
   "source": [
    "results = st.ttest_ind(action_score, sports_score)\n",
    "\n",
    "print('p-значение: ', results.pvalue)\n",
    "\n",
    "if results.pvalue < alpha:\n",
    "    print(\"Отвергаем нулевую гипотезу\")\n",
    "else:\n",
    "    print(\"Не получилось отвергнуть нулевую гипотезу\") "
   ]
  },
  {
   "cell_type": "markdown",
   "metadata": {},
   "source": [
    "p-значение слишком мало, чтобы считать нудевую гипотезу верной, полученое значение для большинства задач не отличимо от 0. Скорее всего средние пользовательские рейтинги жанров Action и Sports разные."
   ]
  },
  {
   "cell_type": "markdown",
   "metadata": {},
   "source": [
    "<div class=\"alert alert-success\">\n",
    "<font size=\"5\"><b>Комментарий ревьюера</b></font>\n",
    "\n",
    "Проверка второй гипотезы также осуществлена без нареканий.\n",
    "\n",
    "</div>"
   ]
  },
  {
   "cell_type": "markdown",
   "metadata": {},
   "source": [
    "#### Проверка на случай зависимых выборок"
   ]
  },
  {
   "cell_type": "markdown",
   "metadata": {},
   "source": [
    "А что если выборки зависимы (все таки это одни и теже пользователи играют в эти разные жанры) и нужно применять метод scipy.stats.ttest_rel():"
   ]
  },
  {
   "cell_type": "markdown",
   "metadata": {},
   "source": [
    "Размеры выборок:"
   ]
  },
  {
   "cell_type": "code",
   "execution_count": 192,
   "metadata": {},
   "outputs": [
    {
     "data": {
      "text/plain": [
       "(297, 127)"
      ]
     },
     "execution_count": 192,
     "metadata": {},
     "output_type": "execute_result"
    }
   ],
   "source": [
    "action_score.size, sports_score.size"
   ]
  },
  {
   "cell_type": "markdown",
   "metadata": {},
   "source": [
    "Размеры выборок разные, а метод требует одинаковых:"
   ]
  },
  {
   "cell_type": "code",
   "execution_count": 193,
   "metadata": {
    "scrolled": true
   },
   "outputs": [
    {
     "name": "stdout",
     "output_type": "stream",
     "text": [
      "p-значение:  1.0617395167587724e-14\n",
      "Отвергаем нулевую гипотезу\n"
     ]
    }
   ],
   "source": [
    "action_score2 = np.random.choice(action_score, sports_score.size)\n",
    "# создадим случаным образом выборку из оценок экшена \n",
    "#длиной равной другой выборке (количеству оценок в спорте)\n",
    "\n",
    "results = st.ttest_rel(action_score2, sports_score)\n",
    "\n",
    "print('p-значение: ', results.pvalue)\n",
    "\n",
    "if results.pvalue < alpha:\n",
    "    print(\"Отвергаем нулевую гипотезу\")\n",
    "else:\n",
    "    print(\"Не получилось отвергнуть нулевую гипотезу\") "
   ]
  },
  {
   "cell_type": "markdown",
   "metadata": {},
   "source": [
    "И в этом случае p-значение слишком мало (можно считать 0), чтобы считать нулевую гипотезу верной. Скорее всего средние пользовательские рейтинги жанров Action и Sports разные."
   ]
  },
  {
   "cell_type": "markdown",
   "metadata": {},
   "source": [
    "<div class=\"alert alert-warning\">\n",
    "<font size=\"5\"><b>Комментарий ревьюера</b></font>\n",
    "\n",
    "Все же выборки независимы. Пользовательский рейтинг формируется по усреднению оценок большого числа пользователей. Мы имеем крайне малую вероятность того, что оценки ставили одни и те же пользователи. \n",
    "\n",
    "</div>"
   ]
  },
  {
   "cell_type": "markdown",
   "metadata": {},
   "source": [
    "Да, все верно, я понимал, что вероятность такого расклада мала. Было интересно посмотреть как изменится результат при изменении гипотезы, ну а раз посчитал - оставил этот блок, можно удалить."
   ]
  },
  {
   "cell_type": "markdown",
   "metadata": {},
   "source": [
    "<div class=\"alert alert-success\">\n",
    "<font size=\"5\"><b>Комментарий ревьюера 2</b></font>\n",
    "\n",
    "Пусть тогда будет в качестве сравнения.\n",
    "\n",
    "</div>"
   ]
  },
  {
   "cell_type": "markdown",
   "metadata": {},
   "source": [
    "##  Напишите общий вывод <a id='step8'></a>"
   ]
  },
  {
   "cell_type": "markdown",
   "metadata": {},
   "source": [
    "[К плану работы ->](#contents)"
   ]
  },
  {
   "cell_type": "markdown",
   "metadata": {},
   "source": [
    "В этом проекте нужно было выявить определяющие успешность игры закономерности. Это позволит сделать ставку на потенциально популярный продукт и спланировать рекламные кампании.\n",
    "\n",
    "В ходе анализа данных были получены следующие критерии:\n",
    "\n",
    "1) Ставку стоит делать на игры выходящие под платформы PS4 и XOne (PC опционально, как консервативный вариант), т.к. эти платформы находятся в растущем состоянии и имеют одни из самых больших статистических показателей по продажам (медиана и разброс).\n",
    "\n",
    "2) Эти платформы имеют большую популярность в Северной Америке и Европе (целевые регионы), в японском регионе в топ платформ входит только PS4.\n",
    "\n",
    "3) Среди жанров лучше выбрать Шутер, т.к. этот жанр приносит больше всего удельных продаж на выпущенную игру.\n",
    "\n",
    "4) Выбирая конкретную игру и ориентируюясь на европейский и американский рынок, стоит учитывать рейтинг ESRB, наибольшие продажи показывают игры с рейтингом \"М\" (для Японии без рейтинга или \"Т\").\n",
    "\n",
    "5) Оценка критиков важна, лучше выбирать игры с максимальным рейтингом критиков, при этом значения меньше 60 можно не рассмтривать.\n",
    "\n",
    "6) Оценка пользователей не влияет на продажи, при этом есть всплески продаж для игр с рейтингом пользователей около 5 и 9. Стоит это рассматривать как опцию при выборе среди двух идентичных игр по предыдущим пунктам.\n",
    "\n",
    "7) Исходя из построенных гистограмм пользователи и критики чаще ставят оценки на 70-80% шкалы, как результат скошенность данных влево.\n",
    "\n",
    "8) По проверенным гипотезам: \n",
    "- не важно на какой платформе играет пользователь (Xbox One или PC), распределение оценок похоже;\n",
    "- при этом важно в какой жанр играет пользователь, от этого меняется распределение оценок.\n",
    "\n",
    "\n",
    "P.S. не во всех пунктах было понятна формулировка задания, например:\n",
    "\n",
    "\"За какой характерный период появляются новые и исчезают старые платформы?\"\n",
    "\n",
    "\"Определите, данные за какой период нужно взять, чтобы исключить значимое искажение распределения по платформам в 2016 году.\"\n",
    "\n",
    "Возможность консультации по формулировке задания должна присутствовать (в поддержке решили что это будет подсказкой)."
   ]
  },
  {
   "cell_type": "markdown",
   "metadata": {},
   "source": [
    "<div class=\"alert alert-success\">\n",
    "<font size=\"5\"><b>Комментарий ревьюера</b></font>\n",
    "\n",
    "Выводы описаны грамотно. Приведены ответы на главные вопросы проекта. В выводах можно приводить полученные ранее значения, правильно. Здорово, что по каждому пункту работы приведен вывод. Также можно привести и рекомендации для магазина.     \n",
    "\n",
    "</div>"
   ]
  },
  {
   "cell_type": "markdown",
   "metadata": {},
   "source": [
    "<div class=\"alert alert-warning\">\n",
    "<font size=\"5\"><b>Комментарий ревьюера</b></font>\n",
    "\n",
    "Если тебе нравится тема визуализации, то можешь изучить методы библиотеки seaborn. Она позволяет строить довольно презентабельные графики.\n",
    "\n",
    "Ты проделал большую работу, молодец! Критических замечаний немного. Однако с ними важно поработать и их исправить. Также есть достаточное число желтых комментариев. Думаю, исправить их тебе не составит труда. Жду твою работу :)\n",
    "\n",
    "</div>"
   ]
  },
  {
   "cell_type": "markdown",
   "metadata": {},
   "source": [
    "Всё исправил, спасибо за проверку и рекомендации!"
   ]
  },
  {
   "cell_type": "markdown",
   "metadata": {},
   "source": [
    "<div class=\"alert alert-success\">\n",
    "<font size=\"5\"><b>Комментарий ревьюера 2</b></font>\n",
    "\n",
    "Помарки исправлены, и теперь работа выполнена хорошо. У тебя получился классный проект, молодец. Поздравляю со сданным проектом. Надеюсь, он был интересен и познавателен. Спасибо за оставленные комментарии по исправлениям. Успехов в дальнейшем пути :)\n",
    "\n",
    "</div>"
   ]
  }
 ],
 "metadata": {
  "kernelspec": {
   "display_name": "Python 3",
   "language": "python",
   "name": "python3"
  },
  "language_info": {
   "codemirror_mode": {
    "name": "ipython",
    "version": 3
   },
   "file_extension": ".py",
   "mimetype": "text/x-python",
   "name": "python",
   "nbconvert_exporter": "python",
   "pygments_lexer": "ipython3",
   "version": "3.7.9"
  },
  "toc": {
   "base_numbering": 1,
   "nav_menu": {
    "height": "220px",
    "width": "160px"
   },
   "number_sections": true,
   "sideBar": true,
   "skip_h1_title": true,
   "title_cell": "Table of Contents",
   "title_sidebar": "Contents",
   "toc_cell": false,
   "toc_position": {},
   "toc_section_display": true,
   "toc_window_display": false
  }
 },
 "nbformat": 4,
 "nbformat_minor": 2
}
